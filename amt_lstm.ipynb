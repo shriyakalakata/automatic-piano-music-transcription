{
  "cells": [
    {
      "cell_type": "markdown",
      "source": [
        "# **Get Dataset**"
      ],
      "metadata": {
        "id": "4KbIQ0DdxFXN"
      }
    },
    {
      "cell_type": "code",
      "execution_count": 1,
      "metadata": {
        "colab": {
          "base_uri": "https://localhost:8080/"
        },
        "outputId": "a1cce8bf-1e23-4056-e01d-5624a8e2c810",
        "id": "kp4cNxU_xFXS"
      },
      "outputs": [
        {
          "output_type": "stream",
          "name": "stdout",
          "text": [
            "Mounted at /content/drive\n"
          ]
        }
      ],
      "source": [
        "# obtaining the data\n",
        "\n",
        "from google.colab import drive\n",
        "drive.mount('/content/drive')"
      ]
    },
    {
      "cell_type": "code",
      "source": [
        "!mkdir -p /content/data\n",
        "!unzip /content/drive/MyDrive/OMAPS_dataset/OMAPS2.zip -d /content/data"
      ],
      "metadata": {
        "colab": {
          "base_uri": "https://localhost:8080/"
        },
        "outputId": "9d6b8a09-fd4a-4fa4-a123-f60e5d930a47",
        "id": "q2oCsWaHxFXS"
      },
      "execution_count": 2,
      "outputs": [
        {
          "output_type": "stream",
          "name": "stdout",
          "text": [
            "Archive:  /content/drive/MyDrive/OMAPS_dataset/OMAPS2.zip\n",
            "   creating: /content/data/OMAPS2/aligned_audio_align_221225/\n",
            "  inflating: /content/data/OMAPS2/aligned_audio_align_221225/01_01.txt  \n",
            "  inflating: /content/data/OMAPS2/aligned_audio_align_221225/01_02.txt  \n",
            "  inflating: /content/data/OMAPS2/aligned_audio_align_221225/01_03.txt  \n",
            "  inflating: /content/data/OMAPS2/aligned_audio_align_221225/01_04.txt  \n",
            "  inflating: /content/data/OMAPS2/aligned_audio_align_221225/01_05.txt  \n",
            "  inflating: /content/data/OMAPS2/aligned_audio_align_221225/02_01.txt  \n",
            "  inflating: /content/data/OMAPS2/aligned_audio_align_221225/02_02.txt  \n",
            "  inflating: /content/data/OMAPS2/aligned_audio_align_221225/02_03.txt  \n",
            "  inflating: /content/data/OMAPS2/aligned_audio_align_221225/02_04.txt  \n",
            "  inflating: /content/data/OMAPS2/aligned_audio_align_221225/02_05.txt  \n",
            "  inflating: /content/data/OMAPS2/aligned_audio_align_221225/03_01.txt  \n",
            "  inflating: /content/data/OMAPS2/aligned_audio_align_221225/03_02.txt  \n",
            "  inflating: /content/data/OMAPS2/aligned_audio_align_221225/03_03.txt  \n",
            "  inflating: /content/data/OMAPS2/aligned_audio_align_221225/03_04.txt  \n",
            "  inflating: /content/data/OMAPS2/aligned_audio_align_221225/03_05.txt  \n",
            "  inflating: /content/data/OMAPS2/aligned_audio_align_221225/04_01.txt  \n",
            "  inflating: /content/data/OMAPS2/aligned_audio_align_221225/04_02.txt  \n",
            "  inflating: /content/data/OMAPS2/aligned_audio_align_221225/04_03.txt  \n",
            "  inflating: /content/data/OMAPS2/aligned_audio_align_221225/04_04.txt  \n",
            "  inflating: /content/data/OMAPS2/aligned_audio_align_221225/04_05.txt  \n",
            "  inflating: /content/data/OMAPS2/aligned_audio_align_221225/05_01.txt  \n",
            "  inflating: /content/data/OMAPS2/aligned_audio_align_221225/05_02.txt  \n",
            "  inflating: /content/data/OMAPS2/aligned_audio_align_221225/05_03.txt  \n",
            "  inflating: /content/data/OMAPS2/aligned_audio_align_221225/05_04.txt  \n",
            "  inflating: /content/data/OMAPS2/aligned_audio_align_221225/05_05.txt  \n",
            "  inflating: /content/data/OMAPS2/aligned_audio_align_221225/06_01.txt  \n",
            "  inflating: /content/data/OMAPS2/aligned_audio_align_221225/06_02.txt  \n",
            "  inflating: /content/data/OMAPS2/aligned_audio_align_221225/06_03.txt  \n",
            "  inflating: /content/data/OMAPS2/aligned_audio_align_221225/06_04.txt  \n",
            "  inflating: /content/data/OMAPS2/aligned_audio_align_221225/06_05.txt  \n",
            "  inflating: /content/data/OMAPS2/aligned_audio_align_221225/07_01.txt  \n",
            "  inflating: /content/data/OMAPS2/aligned_audio_align_221225/07_02.txt  \n",
            "  inflating: /content/data/OMAPS2/aligned_audio_align_221225/07_03.txt  \n",
            "  inflating: /content/data/OMAPS2/aligned_audio_align_221225/07_04.txt  \n",
            "  inflating: /content/data/OMAPS2/aligned_audio_align_221225/07_05.txt  \n",
            "  inflating: /content/data/OMAPS2/aligned_audio_align_221225/08_01.txt  \n",
            "  inflating: /content/data/OMAPS2/aligned_audio_align_221225/08_02.txt  \n",
            "  inflating: /content/data/OMAPS2/aligned_audio_align_221225/08_03.txt  \n",
            "  inflating: /content/data/OMAPS2/aligned_audio_align_221225/08_04.txt  \n",
            "  inflating: /content/data/OMAPS2/aligned_audio_align_221225/08_05.txt  \n",
            "  inflating: /content/data/OMAPS2/aligned_audio_align_221225/09_01.txt  \n",
            "  inflating: /content/data/OMAPS2/aligned_audio_align_221225/09_02.txt  \n",
            "  inflating: /content/data/OMAPS2/aligned_audio_align_221225/09_03.txt  \n",
            "  inflating: /content/data/OMAPS2/aligned_audio_align_221225/09_04.txt  \n",
            "  inflating: /content/data/OMAPS2/aligned_audio_align_221225/09_05.txt  \n",
            "  inflating: /content/data/OMAPS2/aligned_audio_align_221225/09_06.txt  \n",
            "  inflating: /content/data/OMAPS2/aligned_audio_align_221225/10_01.txt  \n",
            "  inflating: /content/data/OMAPS2/aligned_audio_align_221225/10_02.txt  \n",
            "  inflating: /content/data/OMAPS2/aligned_audio_align_221225/10_03.txt  \n",
            "  inflating: /content/data/OMAPS2/aligned_audio_align_221225/10_04.txt  \n",
            "  inflating: /content/data/OMAPS2/aligned_audio_align_221225/11_01.txt  \n",
            "  inflating: /content/data/OMAPS2/aligned_audio_align_221225/11_02.txt  \n",
            "  inflating: /content/data/OMAPS2/aligned_audio_align_221225/11_03.txt  \n",
            "  inflating: /content/data/OMAPS2/aligned_audio_align_221225/11_04.txt  \n",
            "  inflating: /content/data/OMAPS2/aligned_audio_align_221225/11_05.txt  \n",
            "  inflating: /content/data/OMAPS2/aligned_audio_align_221225/12_01.txt  \n",
            "  inflating: /content/data/OMAPS2/aligned_audio_align_221225/12_02.txt  \n",
            "  inflating: /content/data/OMAPS2/aligned_audio_align_221225/12_03.txt  \n",
            "  inflating: /content/data/OMAPS2/aligned_audio_align_221225/12_04.txt  \n",
            "  inflating: /content/data/OMAPS2/aligned_audio_align_221225/12_05.txt  \n",
            "  inflating: /content/data/OMAPS2/aligned_audio_align_221225/13_01.txt  \n",
            "  inflating: /content/data/OMAPS2/aligned_audio_align_221225/13_02.txt  \n",
            "  inflating: /content/data/OMAPS2/aligned_audio_align_221225/13_03.txt  \n",
            "  inflating: /content/data/OMAPS2/aligned_audio_align_221225/13_04.txt  \n",
            "  inflating: /content/data/OMAPS2/aligned_audio_align_221225/13_05.txt  \n",
            "  inflating: /content/data/OMAPS2/aligned_audio_align_221225/14_01.txt  \n",
            "  inflating: /content/data/OMAPS2/aligned_audio_align_221225/14_02.txt  \n",
            "  inflating: /content/data/OMAPS2/aligned_audio_align_221225/14_03.txt  \n",
            "  inflating: /content/data/OMAPS2/aligned_audio_align_221225/14_04.txt  \n",
            "  inflating: /content/data/OMAPS2/aligned_audio_align_221225/14_05.txt  \n",
            "  inflating: /content/data/OMAPS2/aligned_audio_align_221225/15_01.txt  \n",
            "  inflating: /content/data/OMAPS2/aligned_audio_align_221225/15_02.txt  \n",
            "  inflating: /content/data/OMAPS2/aligned_audio_align_221225/15_03.txt  \n",
            "  inflating: /content/data/OMAPS2/aligned_audio_align_221225/15_04.txt  \n",
            "  inflating: /content/data/OMAPS2/aligned_audio_align_221225/15_05.txt  \n",
            "  inflating: /content/data/OMAPS2/aligned_audio_align_221225/16_01.txt  \n",
            "  inflating: /content/data/OMAPS2/aligned_audio_align_221225/16_02.txt  \n",
            "  inflating: /content/data/OMAPS2/aligned_audio_align_221225/16_03.txt  \n",
            "  inflating: /content/data/OMAPS2/aligned_audio_align_221225/16_04.txt  \n",
            "  inflating: /content/data/OMAPS2/aligned_audio_align_221225/16_05.txt  \n",
            "  inflating: /content/data/OMAPS2/aligned_audio_align_221225/17_01.txt  \n",
            "  inflating: /content/data/OMAPS2/aligned_audio_align_221225/17_02.txt  \n",
            "  inflating: /content/data/OMAPS2/aligned_audio_align_221225/17_03.txt  \n",
            "  inflating: /content/data/OMAPS2/aligned_audio_align_221225/17_04.txt  \n",
            "  inflating: /content/data/OMAPS2/aligned_audio_align_221225/17_05.txt  \n",
            "  inflating: /content/data/OMAPS2/aligned_audio_align_221225/17_06.txt  \n",
            "  inflating: /content/data/OMAPS2/aligned_audio_align_221225/18_01.txt  \n",
            "  inflating: /content/data/OMAPS2/aligned_audio_align_221225/18_02.txt  \n",
            "  inflating: /content/data/OMAPS2/aligned_audio_align_221225/18_03.txt  \n",
            "  inflating: /content/data/OMAPS2/aligned_audio_align_221225/18_04.txt  \n",
            "  inflating: /content/data/OMAPS2/aligned_audio_align_221225/19_01.txt  \n",
            "  inflating: /content/data/OMAPS2/aligned_audio_align_221225/19_02.txt  \n",
            "  inflating: /content/data/OMAPS2/aligned_audio_align_221225/19_03.txt  \n",
            "  inflating: /content/data/OMAPS2/aligned_audio_align_221225/19_04.txt  \n",
            "  inflating: /content/data/OMAPS2/aligned_audio_align_221225/19_05.txt  \n",
            "  inflating: /content/data/OMAPS2/aligned_audio_align_221225/20_01.txt  \n",
            "  inflating: /content/data/OMAPS2/aligned_audio_align_221225/20_02.txt  \n",
            "  inflating: /content/data/OMAPS2/aligned_audio_align_221225/20_03.txt  \n",
            "  inflating: /content/data/OMAPS2/aligned_audio_align_221225/20_04.txt  \n",
            "  inflating: /content/data/OMAPS2/aligned_audio_align_221225/20_05.txt  \n",
            "  inflating: /content/data/OMAPS2/aligned_audio_align_221225/playing2.txt  \n",
            "  inflating: /content/data/OMAPS2/aligned_audio_align_221225/playing3.txt  \n",
            "  inflating: /content/data/OMAPS2/aligned_audio_align_221225/playing4.txt  \n",
            "  inflating: /content/data/OMAPS2/aligned_audio_align_221225/yty1_1.txt  \n",
            "  inflating: /content/data/OMAPS2/aligned_audio_align_221225/yty1_2.txt  \n",
            "  inflating: /content/data/OMAPS2/aligned_audio_align_221225/yty1_3.txt  \n",
            "  inflating: /content/data/OMAPS2/aligned_audio_align_221225/yty1_4.txt  \n",
            "  inflating: /content/data/OMAPS2/aligned_audio_align_221225/yty1_5.txt  \n",
            "  inflating: /content/data/OMAPS2/aligned_audio_align_221225/yty2_1.txt  \n",
            "  inflating: /content/data/OMAPS2/aligned_audio_align_221225/yty2_2.txt  \n",
            "  inflating: /content/data/OMAPS2/aligned_audio_align_221225/yty2_3.txt  \n",
            "  inflating: /content/data/OMAPS2/aligned_audio_align_221225/yty2_4.txt  \n",
            "  inflating: /content/data/OMAPS2/aligned_audio_align_221225/yty2_5.txt  \n",
            "  inflating: /content/data/OMAPS2/aligned_audio_align_221225/yty20_1x7_1.txt  \n",
            "  inflating: /content/data/OMAPS2/aligned_audio_align_221225/yty20_1x7_2.txt  \n",
            "  inflating: /content/data/OMAPS2/aligned_audio_align_221225/yty20_1x7_3.txt  \n",
            "  inflating: /content/data/OMAPS2/aligned_audio_align_221225/yty20_1x7_4.txt  \n",
            "  inflating: /content/data/OMAPS2/aligned_audio_align_221225/yty20_1x7_5.txt  \n",
            "  inflating: /content/data/OMAPS2/aligned_audio_align_221225/yty20_1x7_6.txt  \n",
            "  inflating: /content/data/OMAPS2/aligned_audio_align_221225/yty20_1x7_7.txt  \n",
            "  inflating: /content/data/OMAPS2/aligned_audio_align_221225/yty20_2x8_1.txt  \n",
            "  inflating: /content/data/OMAPS2/aligned_audio_align_221225/yty20_2x8_2.txt  \n",
            "  inflating: /content/data/OMAPS2/aligned_audio_align_221225/yty20_2x8_3.txt  \n",
            "  inflating: /content/data/OMAPS2/aligned_audio_align_221225/yty20_2x8_4.txt  \n",
            "  inflating: /content/data/OMAPS2/aligned_audio_align_221225/yty20_2x8_5.txt  \n",
            "  inflating: /content/data/OMAPS2/aligned_audio_align_221225/yty20_2x8_6.txt  \n",
            "  inflating: /content/data/OMAPS2/aligned_audio_align_221225/yty20_2x8_7.txt  \n",
            "  inflating: /content/data/OMAPS2/aligned_audio_align_221225/yty20_2x8_8.txt  \n",
            "  inflating: /content/data/OMAPS2/aligned_audio_align_221225/yty20_3x8_1.txt  \n",
            "  inflating: /content/data/OMAPS2/aligned_audio_align_221225/yty20_3x8_2.txt  \n",
            "  inflating: /content/data/OMAPS2/aligned_audio_align_221225/yty20_3x8_3.txt  \n",
            "  inflating: /content/data/OMAPS2/aligned_audio_align_221225/yty20_3x8_4.txt  \n",
            "  inflating: /content/data/OMAPS2/aligned_audio_align_221225/yty20_3x8_5.txt  \n",
            "  inflating: /content/data/OMAPS2/aligned_audio_align_221225/yty20_3x8_6.txt  \n",
            "  inflating: /content/data/OMAPS2/aligned_audio_align_221225/yty20_3x8_7.txt  \n",
            "  inflating: /content/data/OMAPS2/aligned_audio_align_221225/yty20_3x8_8.txt  \n",
            "  inflating: /content/data/OMAPS2/aligned_audio_align_221225/yty20_4x7_1.txt  \n",
            "  inflating: /content/data/OMAPS2/aligned_audio_align_221225/yty20_4x7_2.txt  \n",
            "  inflating: /content/data/OMAPS2/aligned_audio_align_221225/yty20_4x7_3.txt  \n",
            "  inflating: /content/data/OMAPS2/aligned_audio_align_221225/yty20_4x7_4.txt  \n",
            "  inflating: /content/data/OMAPS2/aligned_audio_align_221225/yty20_4x7_5.txt  \n",
            "  inflating: /content/data/OMAPS2/aligned_audio_align_221225/yty20_4x7_6.txt  \n",
            "  inflating: /content/data/OMAPS2/aligned_audio_align_221225/yty20_4x7_7.txt  \n",
            "  inflating: /content/data/OMAPS2/aligned_audio_align_221225/yty20_5x7_1.txt  \n",
            "  inflating: /content/data/OMAPS2/aligned_audio_align_221225/yty20_5x7_2.txt  \n",
            "  inflating: /content/data/OMAPS2/aligned_audio_align_221225/yty20_5x7_3.txt  \n",
            "  inflating: /content/data/OMAPS2/aligned_audio_align_221225/yty20_5x7_4.txt  \n",
            "  inflating: /content/data/OMAPS2/aligned_audio_align_221225/yty20_5x7_5.txt  \n",
            "  inflating: /content/data/OMAPS2/aligned_audio_align_221225/yty20_5x7_6.txt  \n",
            "  inflating: /content/data/OMAPS2/aligned_audio_align_221225/yty20_5x7_7.txt  \n",
            "  inflating: /content/data/OMAPS2/aligned_audio_align_221225/yty20_6x8_1.txt  \n",
            "  inflating: /content/data/OMAPS2/aligned_audio_align_221225/yty20_6x8_2.txt  \n",
            "  inflating: /content/data/OMAPS2/aligned_audio_align_221225/yty20_6x8_3.txt  \n",
            "  inflating: /content/data/OMAPS2/aligned_audio_align_221225/yty20_6x8_4.txt  \n",
            "  inflating: /content/data/OMAPS2/aligned_audio_align_221225/yty20_6x8_5.txt  \n",
            "  inflating: /content/data/OMAPS2/aligned_audio_align_221225/yty20_6x8_6.txt  \n",
            "  inflating: /content/data/OMAPS2/aligned_audio_align_221225/yty20_6x8_7.txt  \n",
            "  inflating: /content/data/OMAPS2/aligned_audio_align_221225/yty20_6x8_8.txt  \n",
            "  inflating: /content/data/OMAPS2/aligned_audio_align_221225/yty22_1x5_1.txt  \n",
            "  inflating: /content/data/OMAPS2/aligned_audio_align_221225/yty22_1x5_2.txt  \n",
            "  inflating: /content/data/OMAPS2/aligned_audio_align_221225/yty22_1x5_3.txt  \n",
            "  inflating: /content/data/OMAPS2/aligned_audio_align_221225/yty22_1x5_4.txt  \n",
            "  inflating: /content/data/OMAPS2/aligned_audio_align_221225/yty22_1x5_5.txt  \n",
            "  inflating: /content/data/OMAPS2/aligned_audio_align_221225/yty22_2x5_1.txt  \n",
            "  inflating: /content/data/OMAPS2/aligned_audio_align_221225/yty22_2x5_2.txt  \n",
            "  inflating: /content/data/OMAPS2/aligned_audio_align_221225/yty22_2x5_3.txt  \n",
            "  inflating: /content/data/OMAPS2/aligned_audio_align_221225/yty22_2x5_4.txt  \n",
            "  inflating: /content/data/OMAPS2/aligned_audio_align_221225/yty22_2x5_5.txt  \n",
            "  inflating: /content/data/OMAPS2/aligned_audio_align_221225/yty26_1x7_1.txt  \n",
            "  inflating: /content/data/OMAPS2/aligned_audio_align_221225/yty26_1x7_2.txt  \n",
            "  inflating: /content/data/OMAPS2/aligned_audio_align_221225/yty26_1x7_3.txt  \n",
            "  inflating: /content/data/OMAPS2/aligned_audio_align_221225/yty26_1x7_4.txt  \n",
            "  inflating: /content/data/OMAPS2/aligned_audio_align_221225/yty26_1x7_5.txt  \n",
            "  inflating: /content/data/OMAPS2/aligned_audio_align_221225/yty26_1x7_6.txt  \n",
            "  inflating: /content/data/OMAPS2/aligned_audio_align_221225/yty26_1x7_7.txt  \n",
            "  inflating: /content/data/OMAPS2/aligned_audio_align_221225/yty26_2x8_1.txt  \n",
            "  inflating: /content/data/OMAPS2/aligned_audio_align_221225/yty26_2x8_2.txt  \n",
            "  inflating: /content/data/OMAPS2/aligned_audio_align_221225/yty26_2x8_3.txt  \n",
            "  inflating: /content/data/OMAPS2/aligned_audio_align_221225/yty26_2x8_4.txt  \n",
            "  inflating: /content/data/OMAPS2/aligned_audio_align_221225/yty26_2x8_5.txt  \n",
            "  inflating: /content/data/OMAPS2/aligned_audio_align_221225/yty26_2x8_6.txt  \n",
            "  inflating: /content/data/OMAPS2/aligned_audio_align_221225/yty26_2x8_7.txt  \n",
            "  inflating: /content/data/OMAPS2/aligned_audio_align_221225/yty26_2x8_8.txt  \n",
            "  inflating: /content/data/OMAPS2/aligned_audio_align_221225/yty26_3x5_1.txt  \n",
            "  inflating: /content/data/OMAPS2/aligned_audio_align_221225/yty26_3x5_2.txt  \n",
            "  inflating: /content/data/OMAPS2/aligned_audio_align_221225/yty26_3x5_3.txt  \n",
            "  inflating: /content/data/OMAPS2/aligned_audio_align_221225/yty26_3x5_4.txt  \n",
            "  inflating: /content/data/OMAPS2/aligned_audio_align_221225/yty26_3x5_5.txt  \n",
            "  inflating: /content/data/OMAPS2/aligned_audio_align_221225/yty3_1.txt  \n",
            "  inflating: /content/data/OMAPS2/aligned_audio_align_221225/yty3_2.txt  \n",
            "  inflating: /content/data/OMAPS2/aligned_audio_align_221225/yty3_3.txt  \n",
            "  inflating: /content/data/OMAPS2/aligned_audio_align_221225/yty3_4.txt  \n",
            "  inflating: /content/data/OMAPS2/aligned_audio_align_221225/yty3_5.txt  \n",
            "  inflating: /content/data/OMAPS2/aligned_audio_align_221225/yty4_1.txt  \n",
            "  inflating: /content/data/OMAPS2/aligned_audio_align_221225/yty4_2.txt  \n",
            "  inflating: /content/data/OMAPS2/aligned_audio_align_221225/yty4_3.txt  \n",
            "  inflating: /content/data/OMAPS2/aligned_audio_align_221225/yty4_4.txt  \n",
            "  inflating: /content/data/OMAPS2/aligned_audio_align_221225/yty4_5.txt  \n",
            "  inflating: /content/data/OMAPS2/aligned_audio_align_221225/yty5_1.txt  \n",
            "  inflating: /content/data/OMAPS2/aligned_audio_align_221225/yty5_2.txt  \n",
            "  inflating: /content/data/OMAPS2/aligned_audio_align_221225/yty5_3.txt  \n",
            "  inflating: /content/data/OMAPS2/aligned_audio_align_221225/yty5_4.txt  \n",
            "  inflating: /content/data/OMAPS2/aligned_audio_align_221225/yty5_5.txt  \n",
            "  inflating: /content/data/OMAPS2/aligned_audio_align_221225/zyn1.txt  \n",
            "  inflating: /content/data/OMAPS2/aligned_audio_align_221225/zyn2.txt  \n",
            "  inflating: /content/data/OMAPS2/aligned_audio_align_221225/zyn3.txt  \n",
            "   creating: /content/data/OMAPS2/aligned_video_align_221225/\n",
            "  inflating: /content/data/OMAPS2/aligned_video_align_221225/01_01.txt  \n",
            "  inflating: /content/data/OMAPS2/aligned_video_align_221225/01_02.txt  \n",
            "  inflating: /content/data/OMAPS2/aligned_video_align_221225/01_03.txt  \n",
            "  inflating: /content/data/OMAPS2/aligned_video_align_221225/01_04.txt  \n",
            "  inflating: /content/data/OMAPS2/aligned_video_align_221225/01_05.txt  \n",
            "  inflating: /content/data/OMAPS2/aligned_video_align_221225/02_01.txt  \n",
            "  inflating: /content/data/OMAPS2/aligned_video_align_221225/02_02.txt  \n",
            "  inflating: /content/data/OMAPS2/aligned_video_align_221225/02_03.txt  \n",
            "  inflating: /content/data/OMAPS2/aligned_video_align_221225/02_04.txt  \n",
            "  inflating: /content/data/OMAPS2/aligned_video_align_221225/02_05.txt  \n",
            "  inflating: /content/data/OMAPS2/aligned_video_align_221225/03_01.txt  \n",
            "  inflating: /content/data/OMAPS2/aligned_video_align_221225/03_02.txt  \n",
            "  inflating: /content/data/OMAPS2/aligned_video_align_221225/03_03.txt  \n",
            "  inflating: /content/data/OMAPS2/aligned_video_align_221225/03_04.txt  \n",
            "  inflating: /content/data/OMAPS2/aligned_video_align_221225/03_05.txt  \n",
            "  inflating: /content/data/OMAPS2/aligned_video_align_221225/04_01.txt  \n",
            "  inflating: /content/data/OMAPS2/aligned_video_align_221225/04_02.txt  \n",
            "  inflating: /content/data/OMAPS2/aligned_video_align_221225/04_03.txt  \n",
            "  inflating: /content/data/OMAPS2/aligned_video_align_221225/04_04.txt  \n",
            "  inflating: /content/data/OMAPS2/aligned_video_align_221225/04_05.txt  \n",
            "  inflating: /content/data/OMAPS2/aligned_video_align_221225/05_01.txt  \n",
            "  inflating: /content/data/OMAPS2/aligned_video_align_221225/05_02.txt  \n",
            "  inflating: /content/data/OMAPS2/aligned_video_align_221225/05_03.txt  \n",
            "  inflating: /content/data/OMAPS2/aligned_video_align_221225/05_04.txt  \n",
            "  inflating: /content/data/OMAPS2/aligned_video_align_221225/05_05.txt  \n",
            "  inflating: /content/data/OMAPS2/aligned_video_align_221225/06_01.txt  \n",
            "  inflating: /content/data/OMAPS2/aligned_video_align_221225/06_02.txt  \n",
            "  inflating: /content/data/OMAPS2/aligned_video_align_221225/06_03.txt  \n",
            "  inflating: /content/data/OMAPS2/aligned_video_align_221225/06_04.txt  \n",
            "  inflating: /content/data/OMAPS2/aligned_video_align_221225/06_05.txt  \n",
            "  inflating: /content/data/OMAPS2/aligned_video_align_221225/07_01.txt  \n",
            "  inflating: /content/data/OMAPS2/aligned_video_align_221225/07_02.txt  \n",
            "  inflating: /content/data/OMAPS2/aligned_video_align_221225/07_03.txt  \n",
            "  inflating: /content/data/OMAPS2/aligned_video_align_221225/07_04.txt  \n",
            "  inflating: /content/data/OMAPS2/aligned_video_align_221225/07_05.txt  \n",
            "  inflating: /content/data/OMAPS2/aligned_video_align_221225/08_01.txt  \n",
            "  inflating: /content/data/OMAPS2/aligned_video_align_221225/08_02.txt  \n",
            "  inflating: /content/data/OMAPS2/aligned_video_align_221225/08_03.txt  \n",
            "  inflating: /content/data/OMAPS2/aligned_video_align_221225/08_04.txt  \n",
            "  inflating: /content/data/OMAPS2/aligned_video_align_221225/08_05.txt  \n",
            "  inflating: /content/data/OMAPS2/aligned_video_align_221225/09_01.txt  \n",
            "  inflating: /content/data/OMAPS2/aligned_video_align_221225/09_02.txt  \n",
            "  inflating: /content/data/OMAPS2/aligned_video_align_221225/09_03.txt  \n",
            "  inflating: /content/data/OMAPS2/aligned_video_align_221225/09_04.txt  \n",
            "  inflating: /content/data/OMAPS2/aligned_video_align_221225/09_05.txt  \n",
            "  inflating: /content/data/OMAPS2/aligned_video_align_221225/09_06.txt  \n",
            "  inflating: /content/data/OMAPS2/aligned_video_align_221225/10_01.txt  \n",
            "  inflating: /content/data/OMAPS2/aligned_video_align_221225/10_02.txt  \n",
            "  inflating: /content/data/OMAPS2/aligned_video_align_221225/10_03.txt  \n",
            "  inflating: /content/data/OMAPS2/aligned_video_align_221225/10_04.txt  \n",
            "  inflating: /content/data/OMAPS2/aligned_video_align_221225/11_01.txt  \n",
            "  inflating: /content/data/OMAPS2/aligned_video_align_221225/11_02.txt  \n",
            "  inflating: /content/data/OMAPS2/aligned_video_align_221225/11_03.txt  \n",
            "  inflating: /content/data/OMAPS2/aligned_video_align_221225/11_04.txt  \n",
            "  inflating: /content/data/OMAPS2/aligned_video_align_221225/11_05.txt  \n",
            "  inflating: /content/data/OMAPS2/aligned_video_align_221225/12_01.txt  \n",
            "  inflating: /content/data/OMAPS2/aligned_video_align_221225/12_02.txt  \n",
            "  inflating: /content/data/OMAPS2/aligned_video_align_221225/12_03.txt  \n",
            "  inflating: /content/data/OMAPS2/aligned_video_align_221225/12_04.txt  \n",
            "  inflating: /content/data/OMAPS2/aligned_video_align_221225/12_05.txt  \n",
            "  inflating: /content/data/OMAPS2/aligned_video_align_221225/13_01.txt  \n",
            "  inflating: /content/data/OMAPS2/aligned_video_align_221225/13_02.txt  \n",
            "  inflating: /content/data/OMAPS2/aligned_video_align_221225/13_03.txt  \n",
            "  inflating: /content/data/OMAPS2/aligned_video_align_221225/13_04.txt  \n",
            "  inflating: /content/data/OMAPS2/aligned_video_align_221225/13_05.txt  \n",
            "  inflating: /content/data/OMAPS2/aligned_video_align_221225/14_01.txt  \n",
            "  inflating: /content/data/OMAPS2/aligned_video_align_221225/14_02.txt  \n",
            "  inflating: /content/data/OMAPS2/aligned_video_align_221225/14_03.txt  \n",
            "  inflating: /content/data/OMAPS2/aligned_video_align_221225/14_04.txt  \n",
            "  inflating: /content/data/OMAPS2/aligned_video_align_221225/14_05.txt  \n",
            "  inflating: /content/data/OMAPS2/aligned_video_align_221225/15_01.txt  \n",
            "  inflating: /content/data/OMAPS2/aligned_video_align_221225/15_02.txt  \n",
            "  inflating: /content/data/OMAPS2/aligned_video_align_221225/15_03.txt  \n",
            "  inflating: /content/data/OMAPS2/aligned_video_align_221225/15_04.txt  \n",
            "  inflating: /content/data/OMAPS2/aligned_video_align_221225/15_05.txt  \n",
            "  inflating: /content/data/OMAPS2/aligned_video_align_221225/16_01.txt  \n",
            "  inflating: /content/data/OMAPS2/aligned_video_align_221225/16_02.txt  \n",
            "  inflating: /content/data/OMAPS2/aligned_video_align_221225/16_03.txt  \n",
            "  inflating: /content/data/OMAPS2/aligned_video_align_221225/16_04.txt  \n",
            "  inflating: /content/data/OMAPS2/aligned_video_align_221225/16_05.txt  \n",
            "  inflating: /content/data/OMAPS2/aligned_video_align_221225/17_01.txt  \n",
            "  inflating: /content/data/OMAPS2/aligned_video_align_221225/17_02.txt  \n",
            "  inflating: /content/data/OMAPS2/aligned_video_align_221225/17_03.txt  \n",
            "  inflating: /content/data/OMAPS2/aligned_video_align_221225/17_04.txt  \n",
            "  inflating: /content/data/OMAPS2/aligned_video_align_221225/17_05.txt  \n",
            "  inflating: /content/data/OMAPS2/aligned_video_align_221225/17_06.txt  \n",
            "  inflating: /content/data/OMAPS2/aligned_video_align_221225/18_01.txt  \n",
            "  inflating: /content/data/OMAPS2/aligned_video_align_221225/18_02.txt  \n",
            "  inflating: /content/data/OMAPS2/aligned_video_align_221225/18_03.txt  \n",
            "  inflating: /content/data/OMAPS2/aligned_video_align_221225/18_04.txt  \n",
            "  inflating: /content/data/OMAPS2/aligned_video_align_221225/19_01.txt  \n",
            "  inflating: /content/data/OMAPS2/aligned_video_align_221225/19_02.txt  \n",
            "  inflating: /content/data/OMAPS2/aligned_video_align_221225/19_03.txt  \n",
            "  inflating: /content/data/OMAPS2/aligned_video_align_221225/19_04.txt  \n",
            "  inflating: /content/data/OMAPS2/aligned_video_align_221225/19_05.txt  \n",
            "  inflating: /content/data/OMAPS2/aligned_video_align_221225/20_01.txt  \n",
            "  inflating: /content/data/OMAPS2/aligned_video_align_221225/20_02.txt  \n",
            "  inflating: /content/data/OMAPS2/aligned_video_align_221225/20_03.txt  \n",
            "  inflating: /content/data/OMAPS2/aligned_video_align_221225/20_04.txt  \n",
            "  inflating: /content/data/OMAPS2/aligned_video_align_221225/20_05.txt  \n",
            "  inflating: /content/data/OMAPS2/aligned_video_align_221225/playing2.txt  \n",
            "  inflating: /content/data/OMAPS2/aligned_video_align_221225/playing3.txt  \n",
            "  inflating: /content/data/OMAPS2/aligned_video_align_221225/playing4.txt  \n",
            "  inflating: /content/data/OMAPS2/aligned_video_align_221225/yty1_1.txt  \n",
            "  inflating: /content/data/OMAPS2/aligned_video_align_221225/yty1_2.txt  \n",
            "  inflating: /content/data/OMAPS2/aligned_video_align_221225/yty1_3.txt  \n",
            "  inflating: /content/data/OMAPS2/aligned_video_align_221225/yty1_4.txt  \n",
            "  inflating: /content/data/OMAPS2/aligned_video_align_221225/yty1_5.txt  \n",
            "  inflating: /content/data/OMAPS2/aligned_video_align_221225/yty2_1.txt  \n",
            "  inflating: /content/data/OMAPS2/aligned_video_align_221225/yty2_2.txt  \n",
            "  inflating: /content/data/OMAPS2/aligned_video_align_221225/yty2_3.txt  \n",
            "  inflating: /content/data/OMAPS2/aligned_video_align_221225/yty2_4.txt  \n",
            "  inflating: /content/data/OMAPS2/aligned_video_align_221225/yty2_5.txt  \n",
            "  inflating: /content/data/OMAPS2/aligned_video_align_221225/yty20_1x7_1.txt  \n",
            "  inflating: /content/data/OMAPS2/aligned_video_align_221225/yty20_1x7_2.txt  \n",
            "  inflating: /content/data/OMAPS2/aligned_video_align_221225/yty20_1x7_3.txt  \n",
            "  inflating: /content/data/OMAPS2/aligned_video_align_221225/yty20_1x7_4.txt  \n",
            "  inflating: /content/data/OMAPS2/aligned_video_align_221225/yty20_1x7_5.txt  \n",
            "  inflating: /content/data/OMAPS2/aligned_video_align_221225/yty20_1x7_6.txt  \n",
            "  inflating: /content/data/OMAPS2/aligned_video_align_221225/yty20_1x7_7.txt  \n",
            "  inflating: /content/data/OMAPS2/aligned_video_align_221225/yty20_2x8_1.txt  \n",
            "  inflating: /content/data/OMAPS2/aligned_video_align_221225/yty20_2x8_2.txt  \n",
            "  inflating: /content/data/OMAPS2/aligned_video_align_221225/yty20_2x8_3.txt  \n",
            "  inflating: /content/data/OMAPS2/aligned_video_align_221225/yty20_2x8_4.txt  \n",
            "  inflating: /content/data/OMAPS2/aligned_video_align_221225/yty20_2x8_5.txt  \n",
            "  inflating: /content/data/OMAPS2/aligned_video_align_221225/yty20_2x8_6.txt  \n",
            "  inflating: /content/data/OMAPS2/aligned_video_align_221225/yty20_2x8_7.txt  \n",
            "  inflating: /content/data/OMAPS2/aligned_video_align_221225/yty20_2x8_8.txt  \n",
            "  inflating: /content/data/OMAPS2/aligned_video_align_221225/yty20_3x8_1.txt  \n",
            "  inflating: /content/data/OMAPS2/aligned_video_align_221225/yty20_3x8_2.txt  \n",
            "  inflating: /content/data/OMAPS2/aligned_video_align_221225/yty20_3x8_3.txt  \n",
            "  inflating: /content/data/OMAPS2/aligned_video_align_221225/yty20_3x8_4.txt  \n",
            "  inflating: /content/data/OMAPS2/aligned_video_align_221225/yty20_3x8_5.txt  \n",
            "  inflating: /content/data/OMAPS2/aligned_video_align_221225/yty20_3x8_6.txt  \n",
            "  inflating: /content/data/OMAPS2/aligned_video_align_221225/yty20_3x8_7.txt  \n",
            "  inflating: /content/data/OMAPS2/aligned_video_align_221225/yty20_3x8_8.txt  \n",
            "  inflating: /content/data/OMAPS2/aligned_video_align_221225/yty20_4x7_1.txt  \n",
            "  inflating: /content/data/OMAPS2/aligned_video_align_221225/yty20_4x7_2.txt  \n",
            "  inflating: /content/data/OMAPS2/aligned_video_align_221225/yty20_4x7_3.txt  \n",
            "  inflating: /content/data/OMAPS2/aligned_video_align_221225/yty20_4x7_4.txt  \n",
            "  inflating: /content/data/OMAPS2/aligned_video_align_221225/yty20_4x7_5.txt  \n",
            "  inflating: /content/data/OMAPS2/aligned_video_align_221225/yty20_4x7_6.txt  \n",
            "  inflating: /content/data/OMAPS2/aligned_video_align_221225/yty20_4x7_7.txt  \n",
            "  inflating: /content/data/OMAPS2/aligned_video_align_221225/yty20_5x7_1.txt  \n",
            "  inflating: /content/data/OMAPS2/aligned_video_align_221225/yty20_5x7_2.txt  \n",
            "  inflating: /content/data/OMAPS2/aligned_video_align_221225/yty20_5x7_3.txt  \n",
            "  inflating: /content/data/OMAPS2/aligned_video_align_221225/yty20_5x7_4.txt  \n",
            "  inflating: /content/data/OMAPS2/aligned_video_align_221225/yty20_5x7_5.txt  \n",
            "  inflating: /content/data/OMAPS2/aligned_video_align_221225/yty20_5x7_6.txt  \n",
            "  inflating: /content/data/OMAPS2/aligned_video_align_221225/yty20_5x7_7.txt  \n",
            "  inflating: /content/data/OMAPS2/aligned_video_align_221225/yty20_6x8_1.txt  \n",
            "  inflating: /content/data/OMAPS2/aligned_video_align_221225/yty20_6x8_2.txt  \n",
            "  inflating: /content/data/OMAPS2/aligned_video_align_221225/yty20_6x8_3.txt  \n",
            "  inflating: /content/data/OMAPS2/aligned_video_align_221225/yty20_6x8_4.txt  \n",
            "  inflating: /content/data/OMAPS2/aligned_video_align_221225/yty20_6x8_5.txt  \n",
            "  inflating: /content/data/OMAPS2/aligned_video_align_221225/yty20_6x8_6.txt  \n",
            "  inflating: /content/data/OMAPS2/aligned_video_align_221225/yty20_6x8_7.txt  \n",
            "  inflating: /content/data/OMAPS2/aligned_video_align_221225/yty20_6x8_8.txt  \n",
            "  inflating: /content/data/OMAPS2/aligned_video_align_221225/yty22_1x5_1.txt  \n",
            "  inflating: /content/data/OMAPS2/aligned_video_align_221225/yty22_1x5_2.txt  \n",
            "  inflating: /content/data/OMAPS2/aligned_video_align_221225/yty22_1x5_3.txt  \n",
            "  inflating: /content/data/OMAPS2/aligned_video_align_221225/yty22_1x5_4.txt  \n",
            "  inflating: /content/data/OMAPS2/aligned_video_align_221225/yty22_1x5_5.txt  \n",
            "  inflating: /content/data/OMAPS2/aligned_video_align_221225/yty22_2x5_1.txt  \n",
            "  inflating: /content/data/OMAPS2/aligned_video_align_221225/yty22_2x5_2.txt  \n",
            "  inflating: /content/data/OMAPS2/aligned_video_align_221225/yty22_2x5_3.txt  \n",
            "  inflating: /content/data/OMAPS2/aligned_video_align_221225/yty22_2x5_4.txt  \n",
            "  inflating: /content/data/OMAPS2/aligned_video_align_221225/yty22_2x5_5.txt  \n",
            "  inflating: /content/data/OMAPS2/aligned_video_align_221225/yty26_1x7_1.txt  \n",
            "  inflating: /content/data/OMAPS2/aligned_video_align_221225/yty26_1x7_2.txt  \n",
            "  inflating: /content/data/OMAPS2/aligned_video_align_221225/yty26_1x7_3.txt  \n",
            "  inflating: /content/data/OMAPS2/aligned_video_align_221225/yty26_1x7_4.txt  \n",
            "  inflating: /content/data/OMAPS2/aligned_video_align_221225/yty26_1x7_5.txt  \n",
            "  inflating: /content/data/OMAPS2/aligned_video_align_221225/yty26_1x7_6.txt  \n",
            "  inflating: /content/data/OMAPS2/aligned_video_align_221225/yty26_1x7_7.txt  \n",
            "  inflating: /content/data/OMAPS2/aligned_video_align_221225/yty26_2x8_1.txt  \n",
            "  inflating: /content/data/OMAPS2/aligned_video_align_221225/yty26_2x8_2.txt  \n",
            "  inflating: /content/data/OMAPS2/aligned_video_align_221225/yty26_2x8_3.txt  \n",
            "  inflating: /content/data/OMAPS2/aligned_video_align_221225/yty26_2x8_4.txt  \n",
            "  inflating: /content/data/OMAPS2/aligned_video_align_221225/yty26_2x8_5.txt  \n",
            "  inflating: /content/data/OMAPS2/aligned_video_align_221225/yty26_2x8_6.txt  \n",
            "  inflating: /content/data/OMAPS2/aligned_video_align_221225/yty26_2x8_7.txt  \n",
            "  inflating: /content/data/OMAPS2/aligned_video_align_221225/yty26_2x8_8.txt  \n",
            "  inflating: /content/data/OMAPS2/aligned_video_align_221225/yty26_3x5_1.txt  \n",
            "  inflating: /content/data/OMAPS2/aligned_video_align_221225/yty26_3x5_2.txt  \n",
            "  inflating: /content/data/OMAPS2/aligned_video_align_221225/yty26_3x5_3.txt  \n",
            "  inflating: /content/data/OMAPS2/aligned_video_align_221225/yty26_3x5_4.txt  \n",
            "  inflating: /content/data/OMAPS2/aligned_video_align_221225/yty26_3x5_5.txt  \n",
            "  inflating: /content/data/OMAPS2/aligned_video_align_221225/yty3_1.txt  \n",
            "  inflating: /content/data/OMAPS2/aligned_video_align_221225/yty3_2.txt  \n",
            "  inflating: /content/data/OMAPS2/aligned_video_align_221225/yty3_3.txt  \n",
            "  inflating: /content/data/OMAPS2/aligned_video_align_221225/yty3_4.txt  \n",
            "  inflating: /content/data/OMAPS2/aligned_video_align_221225/yty3_5.txt  \n",
            "  inflating: /content/data/OMAPS2/aligned_video_align_221225/yty4_1.txt  \n",
            "  inflating: /content/data/OMAPS2/aligned_video_align_221225/yty4_2.txt  \n",
            "  inflating: /content/data/OMAPS2/aligned_video_align_221225/yty4_3.txt  \n",
            "  inflating: /content/data/OMAPS2/aligned_video_align_221225/yty4_4.txt  \n",
            "  inflating: /content/data/OMAPS2/aligned_video_align_221225/yty4_5.txt  \n",
            "  inflating: /content/data/OMAPS2/aligned_video_align_221225/yty5_1.txt  \n",
            "  inflating: /content/data/OMAPS2/aligned_video_align_221225/yty5_2.txt  \n",
            "  inflating: /content/data/OMAPS2/aligned_video_align_221225/yty5_3.txt  \n",
            "  inflating: /content/data/OMAPS2/aligned_video_align_221225/yty5_4.txt  \n",
            "  inflating: /content/data/OMAPS2/aligned_video_align_221225/yty5_5.txt  \n",
            "  inflating: /content/data/OMAPS2/aligned_video_align_221225/zyn1.txt  \n",
            "  inflating: /content/data/OMAPS2/aligned_video_align_221225/zyn2.txt  \n",
            "  inflating: /content/data/OMAPS2/aligned_video_align_221225/zyn3.txt  \n",
            "   creating: /content/data/OMAPS2/test/\n",
            "   creating: /content/data/OMAPS2/test/video/\n",
            "  inflating: /content/data/OMAPS2/test/video/01_01.mp4  \n",
            "  inflating: /content/data/OMAPS2/test/video/01_02.mp4  \n",
            "  inflating: /content/data/OMAPS2/test/video/01_03.mp4  \n",
            "  inflating: /content/data/OMAPS2/test/video/03_03.mp4  \n",
            "  inflating: /content/data/OMAPS2/test/video/05_03.mp4  \n",
            "  inflating: /content/data/OMAPS2/test/video/06_01.mp4  \n",
            "  inflating: /content/data/OMAPS2/test/video/07_01.mp4  \n",
            "  inflating: /content/data/OMAPS2/test/video/08_01.mp4  \n",
            "  inflating: /content/data/OMAPS2/test/video/08_05.mp4  \n",
            "  inflating: /content/data/OMAPS2/test/video/09_03.mp4  \n",
            "  inflating: /content/data/OMAPS2/test/video/09_05.mp4  \n",
            "  inflating: /content/data/OMAPS2/test/video/10_02.mp4  \n",
            "  inflating: /content/data/OMAPS2/test/video/11_02.mp4  \n",
            "  inflating: /content/data/OMAPS2/test/video/11_04.mp4  \n",
            "  inflating: /content/data/OMAPS2/test/video/15_04.mp4  \n",
            "  inflating: /content/data/OMAPS2/test/video/16_04.mp4  \n",
            "  inflating: /content/data/OMAPS2/test/video/17_05.mp4  \n",
            "  inflating: /content/data/OMAPS2/test/video/18_01.mp4  \n",
            "  inflating: /content/data/OMAPS2/test/video/18_04.mp4  \n",
            "  inflating: /content/data/OMAPS2/test/video/playing4.mp4  \n",
            "  inflating: /content/data/OMAPS2/test/video/yty2_1.mp4  \n",
            "  inflating: /content/data/OMAPS2/test/video/yty2_3.mp4  \n",
            "  inflating: /content/data/OMAPS2/test/video/yty20_1x7_6.mp4  \n",
            "  inflating: /content/data/OMAPS2/test/video/yty20_1x7_7.mp4  \n",
            "  inflating: /content/data/OMAPS2/test/video/yty20_2x8_2.mp4  \n",
            "  inflating: /content/data/OMAPS2/test/video/yty20_2x8_6.mp4  \n",
            "  inflating: /content/data/OMAPS2/test/video/yty20_2x8_8.mp4  \n",
            "  inflating: /content/data/OMAPS2/test/video/yty20_3x8_3.mp4  \n",
            "  inflating: /content/data/OMAPS2/test/video/yty20_3x8_6.mp4  \n",
            "  inflating: /content/data/OMAPS2/test/video/yty20_4x7_1.mp4  \n",
            "  inflating: /content/data/OMAPS2/test/video/yty20_4x7_2.mp4  \n",
            "  inflating: /content/data/OMAPS2/test/video/yty20_5x7_4.mp4  \n",
            "  inflating: /content/data/OMAPS2/test/video/yty20_5x7_6.mp4  \n",
            "  inflating: /content/data/OMAPS2/test/video/yty20_5x7_7.mp4  \n",
            "  inflating: /content/data/OMAPS2/test/video/yty22_1x5_4.mp4  \n",
            "  inflating: /content/data/OMAPS2/test/video/yty22_1x5_5.mp4  \n",
            "  inflating: /content/data/OMAPS2/test/video/yty22_2x5_3.mp4  \n",
            "  inflating: /content/data/OMAPS2/test/video/yty22_2x5_4.mp4  \n",
            "  inflating: /content/data/OMAPS2/test/video/yty26_3x5_2.mp4  \n",
            "  inflating: /content/data/OMAPS2/test/video/yty3_3.mp4  \n",
            "   creating: /content/data/OMAPS2/test/wav/\n",
            "  inflating: /content/data/OMAPS2/test/wav/01_01.wav  \n",
            "  inflating: /content/data/OMAPS2/test/wav/01_02.wav  \n",
            "  inflating: /content/data/OMAPS2/test/wav/01_03.wav  \n",
            "  inflating: /content/data/OMAPS2/test/wav/03_03.wav  \n",
            "  inflating: /content/data/OMAPS2/test/wav/05_03.wav  \n",
            "  inflating: /content/data/OMAPS2/test/wav/06_01.wav  \n",
            "  inflating: /content/data/OMAPS2/test/wav/07_01.wav  \n",
            "  inflating: /content/data/OMAPS2/test/wav/08_01.wav  \n",
            "  inflating: /content/data/OMAPS2/test/wav/08_05.wav  \n",
            "  inflating: /content/data/OMAPS2/test/wav/09_03.wav  \n",
            "  inflating: /content/data/OMAPS2/test/wav/09_05.wav  \n",
            "  inflating: /content/data/OMAPS2/test/wav/10_02.wav  \n",
            "  inflating: /content/data/OMAPS2/test/wav/11_02.wav  \n",
            "  inflating: /content/data/OMAPS2/test/wav/11_04.wav  \n",
            "  inflating: /content/data/OMAPS2/test/wav/15_04.wav  \n",
            "  inflating: /content/data/OMAPS2/test/wav/16_04.wav  \n",
            "  inflating: /content/data/OMAPS2/test/wav/17_05.wav  \n",
            "  inflating: /content/data/OMAPS2/test/wav/18_01.wav  \n",
            "  inflating: /content/data/OMAPS2/test/wav/18_04.wav  \n",
            "  inflating: /content/data/OMAPS2/test/wav/playing4.wav  \n",
            "  inflating: /content/data/OMAPS2/test/wav/yty2_1.wav  \n",
            "  inflating: /content/data/OMAPS2/test/wav/yty2_3.wav  \n",
            "  inflating: /content/data/OMAPS2/test/wav/yty20_1x7_6.wav  \n",
            "  inflating: /content/data/OMAPS2/test/wav/yty20_1x7_7.wav  \n",
            "  inflating: /content/data/OMAPS2/test/wav/yty20_2x8_2.wav  \n",
            "  inflating: /content/data/OMAPS2/test/wav/yty20_2x8_6.wav  \n",
            "  inflating: /content/data/OMAPS2/test/wav/yty20_2x8_8.wav  \n",
            "  inflating: /content/data/OMAPS2/test/wav/yty20_3x8_3.wav  \n",
            "  inflating: /content/data/OMAPS2/test/wav/yty20_3x8_6.wav  \n",
            "  inflating: /content/data/OMAPS2/test/wav/yty20_4x7_1.wav  \n",
            "  inflating: /content/data/OMAPS2/test/wav/yty20_4x7_2.wav  \n",
            "  inflating: /content/data/OMAPS2/test/wav/yty20_5x7_4.wav  \n",
            "  inflating: /content/data/OMAPS2/test/wav/yty20_5x7_6.wav  \n",
            "  inflating: /content/data/OMAPS2/test/wav/yty20_5x7_7.wav  \n",
            "  inflating: /content/data/OMAPS2/test/wav/yty22_1x5_4.wav  \n",
            "  inflating: /content/data/OMAPS2/test/wav/yty22_1x5_5.wav  \n",
            "  inflating: /content/data/OMAPS2/test/wav/yty22_2x5_3.wav  \n",
            "  inflating: /content/data/OMAPS2/test/wav/yty22_2x5_4.wav  \n",
            "  inflating: /content/data/OMAPS2/test/wav/yty26_3x5_2.wav  \n",
            "  inflating: /content/data/OMAPS2/test/wav/yty3_3.wav  \n",
            "   creating: /content/data/OMAPS2/train/\n",
            "   creating: /content/data/OMAPS2/train/video/\n",
            "  inflating: /content/data/OMAPS2/train/video/01_05.mp4  \n",
            "  inflating: /content/data/OMAPS2/train/video/02_01.mp4  \n",
            "  inflating: /content/data/OMAPS2/train/video/02_02.mp4  \n",
            "  inflating: /content/data/OMAPS2/train/video/02_03.mp4  \n",
            "  inflating: /content/data/OMAPS2/train/video/02_04.mp4  \n",
            "  inflating: /content/data/OMAPS2/train/video/02_05.mp4  \n",
            "  inflating: /content/data/OMAPS2/train/video/03_02.mp4  \n",
            "  inflating: /content/data/OMAPS2/train/video/03_04.mp4  \n",
            "  inflating: /content/data/OMAPS2/train/video/03_05.mp4  \n",
            "  inflating: /content/data/OMAPS2/train/video/04_01.mp4  \n",
            "  inflating: /content/data/OMAPS2/train/video/04_02.mp4  \n",
            "  inflating: /content/data/OMAPS2/train/video/04_03.mp4  \n",
            "  inflating: /content/data/OMAPS2/train/video/04_05.mp4  \n",
            "  inflating: /content/data/OMAPS2/train/video/05_05.mp4  \n",
            "  inflating: /content/data/OMAPS2/train/video/06_02.mp4  \n",
            "  inflating: /content/data/OMAPS2/train/video/06_03.mp4  \n",
            "  inflating: /content/data/OMAPS2/train/video/06_04.mp4  \n",
            "  inflating: /content/data/OMAPS2/train/video/06_05.mp4  \n",
            "  inflating: /content/data/OMAPS2/train/video/07_03.mp4  \n",
            "  inflating: /content/data/OMAPS2/train/video/07_04.mp4  \n",
            "  inflating: /content/data/OMAPS2/train/video/07_05.mp4  \n",
            "  inflating: /content/data/OMAPS2/train/video/08_02.mp4  \n",
            "  inflating: /content/data/OMAPS2/train/video/08_03.mp4  \n",
            "  inflating: /content/data/OMAPS2/train/video/08_04.mp4  \n",
            "  inflating: /content/data/OMAPS2/train/video/09_01.mp4  \n",
            "  inflating: /content/data/OMAPS2/train/video/09_02.mp4  \n",
            "  inflating: /content/data/OMAPS2/train/video/09_04.mp4  \n",
            "  inflating: /content/data/OMAPS2/train/video/09_06.mp4  \n",
            "  inflating: /content/data/OMAPS2/train/video/10_01.mp4  \n",
            "  inflating: /content/data/OMAPS2/train/video/10_04.mp4  \n",
            "  inflating: /content/data/OMAPS2/train/video/11_01.mp4  \n",
            "  inflating: /content/data/OMAPS2/train/video/11_03.mp4  \n",
            "  inflating: /content/data/OMAPS2/train/video/11_05.mp4  \n",
            "  inflating: /content/data/OMAPS2/train/video/12_01.mp4  \n",
            "  inflating: /content/data/OMAPS2/train/video/12_02.mp4  \n",
            "  inflating: /content/data/OMAPS2/train/video/12_04.mp4  \n",
            "  inflating: /content/data/OMAPS2/train/video/12_05.mp4  \n",
            "  inflating: /content/data/OMAPS2/train/video/13_01.mp4  \n",
            "  inflating: /content/data/OMAPS2/train/video/13_02.mp4  \n",
            "  inflating: /content/data/OMAPS2/train/video/13_03.mp4  \n",
            "  inflating: /content/data/OMAPS2/train/video/13_04.mp4  \n",
            "  inflating: /content/data/OMAPS2/train/video/13_05.mp4  \n",
            "  inflating: /content/data/OMAPS2/train/video/14_01.mp4  \n",
            "  inflating: /content/data/OMAPS2/train/video/14_02.mp4  \n",
            "  inflating: /content/data/OMAPS2/train/video/14_03.mp4  \n",
            "  inflating: /content/data/OMAPS2/train/video/14_04.mp4  \n",
            "  inflating: /content/data/OMAPS2/train/video/14_05.mp4  \n",
            "  inflating: /content/data/OMAPS2/train/video/15_01.mp4  \n",
            "  inflating: /content/data/OMAPS2/train/video/15_02.mp4  \n",
            "  inflating: /content/data/OMAPS2/train/video/15_03.mp4  \n",
            "  inflating: /content/data/OMAPS2/train/video/15_05.mp4  \n",
            "  inflating: /content/data/OMAPS2/train/video/16_01.mp4  \n",
            "  inflating: /content/data/OMAPS2/train/video/16_02.mp4  \n",
            "  inflating: /content/data/OMAPS2/train/video/16_03.mp4  \n",
            "  inflating: /content/data/OMAPS2/train/video/16_05.mp4  \n",
            "  inflating: /content/data/OMAPS2/train/video/17_01.mp4  \n",
            "  inflating: /content/data/OMAPS2/train/video/17_02.mp4  \n",
            "  inflating: /content/data/OMAPS2/train/video/17_03.mp4  \n",
            "  inflating: /content/data/OMAPS2/train/video/17_04.mp4  \n",
            "  inflating: /content/data/OMAPS2/train/video/18_02.mp4  \n",
            "  inflating: /content/data/OMAPS2/train/video/18_03.mp4  \n",
            "  inflating: /content/data/OMAPS2/train/video/19_01.mp4  \n",
            "  inflating: /content/data/OMAPS2/train/video/19_02.mp4  \n",
            "  inflating: /content/data/OMAPS2/train/video/19_03.mp4  \n",
            "  inflating: /content/data/OMAPS2/train/video/19_04.mp4  \n",
            "  inflating: /content/data/OMAPS2/train/video/19_05.mp4  \n",
            "  inflating: /content/data/OMAPS2/train/video/20_01.mp4  \n",
            "  inflating: /content/data/OMAPS2/train/video/20_02.mp4  \n",
            "  inflating: /content/data/OMAPS2/train/video/20_03.mp4  \n",
            "  inflating: /content/data/OMAPS2/train/video/20_04.mp4  \n",
            "  inflating: /content/data/OMAPS2/train/video/20_05.mp4  \n",
            "  inflating: /content/data/OMAPS2/train/video/playing2.mp4  \n",
            "  inflating: /content/data/OMAPS2/train/video/playing3.mp4  \n",
            "  inflating: /content/data/OMAPS2/train/video/yty1_2.mp4  \n",
            "  inflating: /content/data/OMAPS2/train/video/yty1_4.mp4  \n",
            "  inflating: /content/data/OMAPS2/train/video/yty1_5.mp4  \n",
            "  inflating: /content/data/OMAPS2/train/video/yty2_2.mp4  \n",
            "  inflating: /content/data/OMAPS2/train/video/yty2_4.mp4  \n",
            "  inflating: /content/data/OMAPS2/train/video/yty2_5.mp4  \n",
            "  inflating: /content/data/OMAPS2/train/video/yty20_1x7_1.mp4  \n",
            "  inflating: /content/data/OMAPS2/train/video/yty20_1x7_2.mp4  \n",
            "  inflating: /content/data/OMAPS2/train/video/yty20_1x7_3.mp4  \n",
            "  inflating: /content/data/OMAPS2/train/video/yty20_1x7_4.mp4  \n",
            "  inflating: /content/data/OMAPS2/train/video/yty20_2x8_1.mp4  \n",
            "  inflating: /content/data/OMAPS2/train/video/yty20_2x8_3.mp4  \n",
            "  inflating: /content/data/OMAPS2/train/video/yty20_2x8_4.mp4  \n",
            "  inflating: /content/data/OMAPS2/train/video/yty20_2x8_5.mp4  \n",
            "  inflating: /content/data/OMAPS2/train/video/yty20_2x8_7.mp4  \n",
            "  inflating: /content/data/OMAPS2/train/video/yty20_3x8_1.mp4  \n",
            "  inflating: /content/data/OMAPS2/train/video/yty20_3x8_4.mp4  \n",
            "  inflating: /content/data/OMAPS2/train/video/yty20_3x8_5.mp4  \n",
            "  inflating: /content/data/OMAPS2/train/video/yty20_3x8_7.mp4  \n",
            "  inflating: /content/data/OMAPS2/train/video/yty20_4x7_3.mp4  \n",
            "  inflating: /content/data/OMAPS2/train/video/yty20_4x7_4.mp4  \n",
            "  inflating: /content/data/OMAPS2/train/video/yty20_4x7_5.mp4  \n",
            "  inflating: /content/data/OMAPS2/train/video/yty20_4x7_6.mp4  \n",
            "  inflating: /content/data/OMAPS2/train/video/yty20_4x7_7.mp4  \n",
            "  inflating: /content/data/OMAPS2/train/video/yty20_5x7_1.mp4  \n",
            "  inflating: /content/data/OMAPS2/train/video/yty20_5x7_2.mp4  \n",
            "  inflating: /content/data/OMAPS2/train/video/yty20_5x7_3.mp4  \n",
            "  inflating: /content/data/OMAPS2/train/video/yty20_5x7_5.mp4  \n",
            "  inflating: /content/data/OMAPS2/train/video/yty20_6x8_1.mp4  \n",
            "  inflating: /content/data/OMAPS2/train/video/yty20_6x8_2.mp4  \n",
            "  inflating: /content/data/OMAPS2/train/video/yty20_6x8_4.mp4  \n",
            "  inflating: /content/data/OMAPS2/train/video/yty20_6x8_5.mp4  \n",
            "  inflating: /content/data/OMAPS2/train/video/yty20_6x8_6.mp4  \n",
            "  inflating: /content/data/OMAPS2/train/video/yty20_6x8_7.mp4  \n",
            "  inflating: /content/data/OMAPS2/train/video/yty20_6x8_8.mp4  \n",
            "  inflating: /content/data/OMAPS2/train/video/yty22_1x5_1.mp4  \n",
            "  inflating: /content/data/OMAPS2/train/video/yty22_1x5_2.mp4  \n",
            "  inflating: /content/data/OMAPS2/train/video/yty22_2x5_1.mp4  \n",
            "  inflating: /content/data/OMAPS2/train/video/yty22_2x5_2.mp4  \n",
            "  inflating: /content/data/OMAPS2/train/video/yty22_2x5_5.mp4  \n",
            "  inflating: /content/data/OMAPS2/train/video/yty26_1x7_1.mp4  \n",
            "  inflating: /content/data/OMAPS2/train/video/yty26_1x7_2.mp4  \n",
            "  inflating: /content/data/OMAPS2/train/video/yty26_1x7_3.mp4  \n",
            "  inflating: /content/data/OMAPS2/train/video/yty26_1x7_4.mp4  \n",
            "  inflating: /content/data/OMAPS2/train/video/yty26_1x7_5.mp4  \n",
            "  inflating: /content/data/OMAPS2/train/video/yty26_1x7_6.mp4  \n",
            "  inflating: /content/data/OMAPS2/train/video/yty26_2x8_1.mp4  \n",
            "  inflating: /content/data/OMAPS2/train/video/yty26_2x8_2.mp4  \n",
            "  inflating: /content/data/OMAPS2/train/video/yty26_2x8_3.mp4  \n",
            "  inflating: /content/data/OMAPS2/train/video/yty26_2x8_4.mp4  \n",
            "  inflating: /content/data/OMAPS2/train/video/yty26_2x8_5.mp4  \n",
            "  inflating: /content/data/OMAPS2/train/video/yty26_2x8_7.mp4  \n",
            "  inflating: /content/data/OMAPS2/train/video/yty26_2x8_8.mp4  \n",
            "  inflating: /content/data/OMAPS2/train/video/yty26_3x5_1.mp4  \n",
            "  inflating: /content/data/OMAPS2/train/video/yty26_3x5_3.mp4  \n",
            "  inflating: /content/data/OMAPS2/train/video/yty26_3x5_5.mp4  \n",
            "  inflating: /content/data/OMAPS2/train/video/yty3_1.mp4  \n",
            "  inflating: /content/data/OMAPS2/train/video/yty3_2.mp4  \n",
            "  inflating: /content/data/OMAPS2/train/video/yty3_4.mp4  \n",
            "  inflating: /content/data/OMAPS2/train/video/yty3_5.mp4  \n",
            "  inflating: /content/data/OMAPS2/train/video/yty4_1.mp4  \n",
            "  inflating: /content/data/OMAPS2/train/video/yty4_2.mp4  \n",
            "  inflating: /content/data/OMAPS2/train/video/yty4_3.mp4  \n",
            "  inflating: /content/data/OMAPS2/train/video/yty4_4.mp4  \n",
            "  inflating: /content/data/OMAPS2/train/video/yty4_5.mp4  \n",
            "  inflating: /content/data/OMAPS2/train/video/yty5_1.mp4  \n",
            "  inflating: /content/data/OMAPS2/train/video/yty5_2.mp4  \n",
            "  inflating: /content/data/OMAPS2/train/video/yty5_3.mp4  \n",
            "  inflating: /content/data/OMAPS2/train/video/yty5_4.mp4  \n",
            "  inflating: /content/data/OMAPS2/train/video/yty5_5.mp4  \n",
            "  inflating: /content/data/OMAPS2/train/video/zyn1.mp4  \n",
            "  inflating: /content/data/OMAPS2/train/video/zyn2.mp4  \n",
            "  inflating: /content/data/OMAPS2/train/video/zyn3.mp4  \n",
            "   creating: /content/data/OMAPS2/train/wav/\n",
            "  inflating: /content/data/OMAPS2/train/wav/01_05.wav  \n",
            "  inflating: /content/data/OMAPS2/train/wav/02_01.wav  \n",
            "  inflating: /content/data/OMAPS2/train/wav/02_02.wav  \n",
            "  inflating: /content/data/OMAPS2/train/wav/02_03.wav  \n",
            "  inflating: /content/data/OMAPS2/train/wav/02_04.wav  \n",
            "  inflating: /content/data/OMAPS2/train/wav/02_05.wav  \n",
            "  inflating: /content/data/OMAPS2/train/wav/03_02.wav  \n",
            "  inflating: /content/data/OMAPS2/train/wav/03_04.wav  \n",
            "  inflating: /content/data/OMAPS2/train/wav/03_05.wav  \n",
            "  inflating: /content/data/OMAPS2/train/wav/04_01.wav  \n",
            "  inflating: /content/data/OMAPS2/train/wav/04_02.wav  \n",
            "  inflating: /content/data/OMAPS2/train/wav/04_03.wav  \n",
            "  inflating: /content/data/OMAPS2/train/wav/04_05.wav  \n",
            "  inflating: /content/data/OMAPS2/train/wav/05_05.wav  \n",
            "  inflating: /content/data/OMAPS2/train/wav/06_02.wav  \n",
            "  inflating: /content/data/OMAPS2/train/wav/06_03.wav  \n",
            "  inflating: /content/data/OMAPS2/train/wav/06_04.wav  \n",
            "  inflating: /content/data/OMAPS2/train/wav/06_05.wav  \n",
            "  inflating: /content/data/OMAPS2/train/wav/07_03.wav  \n",
            "  inflating: /content/data/OMAPS2/train/wav/07_04.wav  \n",
            "  inflating: /content/data/OMAPS2/train/wav/07_05.wav  \n",
            "  inflating: /content/data/OMAPS2/train/wav/08_02.wav  \n",
            "  inflating: /content/data/OMAPS2/train/wav/08_03.wav  \n",
            "  inflating: /content/data/OMAPS2/train/wav/08_04.wav  \n",
            "  inflating: /content/data/OMAPS2/train/wav/09_01.wav  \n",
            "  inflating: /content/data/OMAPS2/train/wav/09_02.wav  \n",
            "  inflating: /content/data/OMAPS2/train/wav/09_04.wav  \n",
            "  inflating: /content/data/OMAPS2/train/wav/09_06.wav  \n",
            "  inflating: /content/data/OMAPS2/train/wav/10_01.wav  \n",
            "  inflating: /content/data/OMAPS2/train/wav/10_04.wav  \n",
            "  inflating: /content/data/OMAPS2/train/wav/11_01.wav  \n",
            "  inflating: /content/data/OMAPS2/train/wav/11_03.wav  \n",
            "  inflating: /content/data/OMAPS2/train/wav/11_05.wav  \n",
            "  inflating: /content/data/OMAPS2/train/wav/12_01.wav  \n",
            "  inflating: /content/data/OMAPS2/train/wav/12_02.wav  \n",
            "  inflating: /content/data/OMAPS2/train/wav/12_04.wav  \n",
            "  inflating: /content/data/OMAPS2/train/wav/12_05.wav  \n",
            "  inflating: /content/data/OMAPS2/train/wav/13_01.wav  \n",
            "  inflating: /content/data/OMAPS2/train/wav/13_02.wav  \n",
            "  inflating: /content/data/OMAPS2/train/wav/13_03.wav  \n",
            "  inflating: /content/data/OMAPS2/train/wav/13_04.wav  \n",
            "  inflating: /content/data/OMAPS2/train/wav/13_05.wav  \n",
            "  inflating: /content/data/OMAPS2/train/wav/14_01.wav  \n",
            "  inflating: /content/data/OMAPS2/train/wav/14_02.wav  \n",
            "  inflating: /content/data/OMAPS2/train/wav/14_03.wav  \n",
            "  inflating: /content/data/OMAPS2/train/wav/14_04.wav  \n",
            "  inflating: /content/data/OMAPS2/train/wav/14_05.wav  \n",
            "  inflating: /content/data/OMAPS2/train/wav/15_01.wav  \n",
            "  inflating: /content/data/OMAPS2/train/wav/15_02.wav  \n",
            "  inflating: /content/data/OMAPS2/train/wav/15_03.wav  \n",
            "  inflating: /content/data/OMAPS2/train/wav/15_05.wav  \n",
            "  inflating: /content/data/OMAPS2/train/wav/16_01.wav  \n",
            "  inflating: /content/data/OMAPS2/train/wav/16_02.wav  \n",
            "  inflating: /content/data/OMAPS2/train/wav/16_03.wav  \n",
            "  inflating: /content/data/OMAPS2/train/wav/16_05.wav  \n",
            "  inflating: /content/data/OMAPS2/train/wav/17_01.wav  \n",
            "  inflating: /content/data/OMAPS2/train/wav/17_02.wav  \n",
            "  inflating: /content/data/OMAPS2/train/wav/17_03.wav  \n",
            "  inflating: /content/data/OMAPS2/train/wav/17_04.wav  \n",
            "  inflating: /content/data/OMAPS2/train/wav/18_02.wav  \n",
            "  inflating: /content/data/OMAPS2/train/wav/18_03.wav  \n",
            "  inflating: /content/data/OMAPS2/train/wav/19_01.wav  \n",
            "  inflating: /content/data/OMAPS2/train/wav/19_02.wav  \n",
            "  inflating: /content/data/OMAPS2/train/wav/19_03.wav  \n",
            "  inflating: /content/data/OMAPS2/train/wav/19_04.wav  \n",
            "  inflating: /content/data/OMAPS2/train/wav/19_05.wav  \n",
            "  inflating: /content/data/OMAPS2/train/wav/20_01.wav  \n",
            "  inflating: /content/data/OMAPS2/train/wav/20_02.wav  \n",
            "  inflating: /content/data/OMAPS2/train/wav/20_03.wav  \n",
            "  inflating: /content/data/OMAPS2/train/wav/20_04.wav  \n",
            "  inflating: /content/data/OMAPS2/train/wav/20_05.wav  \n",
            "  inflating: /content/data/OMAPS2/train/wav/playing2.wav  \n",
            "  inflating: /content/data/OMAPS2/train/wav/playing3.wav  \n",
            "  inflating: /content/data/OMAPS2/train/wav/yty1_2.wav  \n",
            "  inflating: /content/data/OMAPS2/train/wav/yty1_4.wav  \n",
            "  inflating: /content/data/OMAPS2/train/wav/yty1_5.wav  \n",
            "  inflating: /content/data/OMAPS2/train/wav/yty2_2.wav  \n",
            "  inflating: /content/data/OMAPS2/train/wav/yty2_4.wav  \n",
            "  inflating: /content/data/OMAPS2/train/wav/yty2_5.wav  \n",
            "  inflating: /content/data/OMAPS2/train/wav/yty20_1x7_1.wav  \n",
            "  inflating: /content/data/OMAPS2/train/wav/yty20_1x7_2.wav  \n",
            "  inflating: /content/data/OMAPS2/train/wav/yty20_1x7_3.wav  \n",
            "  inflating: /content/data/OMAPS2/train/wav/yty20_1x7_4.wav  \n",
            "  inflating: /content/data/OMAPS2/train/wav/yty20_2x8_1.wav  \n",
            "  inflating: /content/data/OMAPS2/train/wav/yty20_2x8_3.wav  \n",
            "  inflating: /content/data/OMAPS2/train/wav/yty20_2x8_4.wav  \n",
            "  inflating: /content/data/OMAPS2/train/wav/yty20_2x8_5.wav  \n",
            "  inflating: /content/data/OMAPS2/train/wav/yty20_2x8_7.wav  \n",
            "  inflating: /content/data/OMAPS2/train/wav/yty20_3x8_1.wav  \n",
            "  inflating: /content/data/OMAPS2/train/wav/yty20_3x8_4.wav  \n",
            "  inflating: /content/data/OMAPS2/train/wav/yty20_3x8_5.wav  \n",
            "  inflating: /content/data/OMAPS2/train/wav/yty20_3x8_7.wav  \n",
            "  inflating: /content/data/OMAPS2/train/wav/yty20_4x7_3.wav  \n",
            "  inflating: /content/data/OMAPS2/train/wav/yty20_4x7_4.wav  \n",
            "  inflating: /content/data/OMAPS2/train/wav/yty20_4x7_5.wav  \n",
            "  inflating: /content/data/OMAPS2/train/wav/yty20_4x7_6.wav  \n",
            "  inflating: /content/data/OMAPS2/train/wav/yty20_4x7_7.wav  \n",
            "  inflating: /content/data/OMAPS2/train/wav/yty20_5x7_1.wav  \n",
            "  inflating: /content/data/OMAPS2/train/wav/yty20_5x7_2.wav  \n",
            "  inflating: /content/data/OMAPS2/train/wav/yty20_5x7_3.wav  \n",
            "  inflating: /content/data/OMAPS2/train/wav/yty20_5x7_5.wav  \n",
            "  inflating: /content/data/OMAPS2/train/wav/yty20_6x8_1.wav  \n",
            "  inflating: /content/data/OMAPS2/train/wav/yty20_6x8_2.wav  \n",
            "  inflating: /content/data/OMAPS2/train/wav/yty20_6x8_4.wav  \n",
            "  inflating: /content/data/OMAPS2/train/wav/yty20_6x8_5.wav  \n",
            "  inflating: /content/data/OMAPS2/train/wav/yty20_6x8_6.wav  \n",
            "  inflating: /content/data/OMAPS2/train/wav/yty20_6x8_7.wav  \n",
            "  inflating: /content/data/OMAPS2/train/wav/yty20_6x8_8.wav  \n",
            "  inflating: /content/data/OMAPS2/train/wav/yty22_1x5_1.wav  \n",
            "  inflating: /content/data/OMAPS2/train/wav/yty22_1x5_2.wav  \n",
            "  inflating: /content/data/OMAPS2/train/wav/yty22_2x5_1.wav  \n",
            "  inflating: /content/data/OMAPS2/train/wav/yty22_2x5_2.wav  \n",
            "  inflating: /content/data/OMAPS2/train/wav/yty22_2x5_5.wav  \n",
            "  inflating: /content/data/OMAPS2/train/wav/yty26_1x7_1.wav  \n",
            "  inflating: /content/data/OMAPS2/train/wav/yty26_1x7_2.wav  \n",
            "  inflating: /content/data/OMAPS2/train/wav/yty26_1x7_3.wav  \n",
            "  inflating: /content/data/OMAPS2/train/wav/yty26_1x7_4.wav  \n",
            "  inflating: /content/data/OMAPS2/train/wav/yty26_1x7_5.wav  \n",
            "  inflating: /content/data/OMAPS2/train/wav/yty26_1x7_6.wav  \n",
            "  inflating: /content/data/OMAPS2/train/wav/yty26_2x8_1.wav  \n",
            "  inflating: /content/data/OMAPS2/train/wav/yty26_2x8_2.wav  \n",
            "  inflating: /content/data/OMAPS2/train/wav/yty26_2x8_3.wav  \n",
            "  inflating: /content/data/OMAPS2/train/wav/yty26_2x8_4.wav  \n",
            "  inflating: /content/data/OMAPS2/train/wav/yty26_2x8_5.wav  \n",
            "  inflating: /content/data/OMAPS2/train/wav/yty26_2x8_7.wav  \n",
            "  inflating: /content/data/OMAPS2/train/wav/yty26_2x8_8.wav  \n",
            "  inflating: /content/data/OMAPS2/train/wav/yty26_3x5_1.wav  \n",
            "  inflating: /content/data/OMAPS2/train/wav/yty26_3x5_3.wav  \n",
            "  inflating: /content/data/OMAPS2/train/wav/yty26_3x5_5.wav  \n",
            "  inflating: /content/data/OMAPS2/train/wav/yty3_1.wav  \n",
            "  inflating: /content/data/OMAPS2/train/wav/yty3_2.wav  \n",
            "  inflating: /content/data/OMAPS2/train/wav/yty3_4.wav  \n",
            "  inflating: /content/data/OMAPS2/train/wav/yty3_5.wav  \n",
            "  inflating: /content/data/OMAPS2/train/wav/yty4_1.wav  \n",
            "  inflating: /content/data/OMAPS2/train/wav/yty4_2.wav  \n",
            "  inflating: /content/data/OMAPS2/train/wav/yty4_3.wav  \n",
            "  inflating: /content/data/OMAPS2/train/wav/yty4_4.wav  \n",
            "  inflating: /content/data/OMAPS2/train/wav/yty4_5.wav  \n",
            "  inflating: /content/data/OMAPS2/train/wav/yty5_1.wav  \n",
            "  inflating: /content/data/OMAPS2/train/wav/yty5_2.wav  \n",
            "  inflating: /content/data/OMAPS2/train/wav/yty5_3.wav  \n",
            "  inflating: /content/data/OMAPS2/train/wav/yty5_4.wav  \n",
            "  inflating: /content/data/OMAPS2/train/wav/yty5_5.wav  \n",
            "  inflating: /content/data/OMAPS2/train/wav/zyn1.wav  \n",
            "  inflating: /content/data/OMAPS2/train/wav/zyn2.wav  \n",
            "  inflating: /content/data/OMAPS2/train/wav/zyn3.wav  \n",
            "   creating: /content/data/OMAPS2/valid/\n",
            "   creating: /content/data/OMAPS2/valid/video/\n",
            "  inflating: /content/data/OMAPS2/valid/video/01_04.mp4  \n",
            "  inflating: /content/data/OMAPS2/valid/video/03_01.mp4  \n",
            "  inflating: /content/data/OMAPS2/valid/video/04_04.mp4  \n",
            "  inflating: /content/data/OMAPS2/valid/video/05_01.mp4  \n",
            "  inflating: /content/data/OMAPS2/valid/video/05_02.mp4  \n",
            "  inflating: /content/data/OMAPS2/valid/video/05_04.mp4  \n",
            "  inflating: /content/data/OMAPS2/valid/video/07_02.mp4  \n",
            "  inflating: /content/data/OMAPS2/valid/video/10_03.mp4  \n",
            "  inflating: /content/data/OMAPS2/valid/video/12_03.mp4  \n",
            "  inflating: /content/data/OMAPS2/valid/video/17_06.mp4  \n",
            "  inflating: /content/data/OMAPS2/valid/video/yty1_1.mp4  \n",
            "  inflating: /content/data/OMAPS2/valid/video/yty1_3.mp4  \n",
            "  inflating: /content/data/OMAPS2/valid/video/yty20_1x7_5.mp4  \n",
            "  inflating: /content/data/OMAPS2/valid/video/yty20_3x8_2.mp4  \n",
            "  inflating: /content/data/OMAPS2/valid/video/yty20_3x8_8.mp4  \n",
            "  inflating: /content/data/OMAPS2/valid/video/yty20_6x8_3.mp4  \n",
            "  inflating: /content/data/OMAPS2/valid/video/yty22_1x5_3.mp4  \n",
            "  inflating: /content/data/OMAPS2/valid/video/yty26_1x7_7.mp4  \n",
            "  inflating: /content/data/OMAPS2/valid/video/yty26_2x8_6.mp4  \n",
            "  inflating: /content/data/OMAPS2/valid/video/yty26_3x5_4.mp4  \n",
            "   creating: /content/data/OMAPS2/valid/wav/\n",
            "  inflating: /content/data/OMAPS2/valid/wav/01_04.wav  \n",
            "  inflating: /content/data/OMAPS2/valid/wav/03_01.wav  \n",
            "  inflating: /content/data/OMAPS2/valid/wav/04_04.wav  \n",
            "  inflating: /content/data/OMAPS2/valid/wav/05_01.wav  \n",
            "  inflating: /content/data/OMAPS2/valid/wav/05_02.wav  \n",
            "  inflating: /content/data/OMAPS2/valid/wav/05_04.wav  \n",
            "  inflating: /content/data/OMAPS2/valid/wav/07_02.wav  \n",
            "  inflating: /content/data/OMAPS2/valid/wav/10_03.wav  \n",
            "  inflating: /content/data/OMAPS2/valid/wav/12_03.wav  \n",
            "  inflating: /content/data/OMAPS2/valid/wav/17_06.wav  \n",
            "  inflating: /content/data/OMAPS2/valid/wav/yty1_1.wav  \n",
            "  inflating: /content/data/OMAPS2/valid/wav/yty1_3.wav  \n",
            "  inflating: /content/data/OMAPS2/valid/wav/yty20_1x7_5.wav  \n",
            "  inflating: /content/data/OMAPS2/valid/wav/yty20_3x8_2.wav  \n",
            "  inflating: /content/data/OMAPS2/valid/wav/yty20_3x8_8.wav  \n",
            "  inflating: /content/data/OMAPS2/valid/wav/yty20_6x8_3.wav  \n",
            "  inflating: /content/data/OMAPS2/valid/wav/yty22_1x5_3.wav  \n",
            "  inflating: /content/data/OMAPS2/valid/wav/yty26_1x7_7.wav  \n",
            "  inflating: /content/data/OMAPS2/valid/wav/yty26_2x8_6.wav  \n",
            "  inflating: /content/data/OMAPS2/valid/wav/yty26_3x5_4.wav  \n"
          ]
        }
      ]
    },
    {
      "cell_type": "code",
      "source": [
        "!ls /content/data/OMAPS2/"
      ],
      "metadata": {
        "colab": {
          "base_uri": "https://localhost:8080/"
        },
        "outputId": "d874fbfd-ee1a-4d2b-8af0-40c34f2c76ea",
        "id": "XM27cE8ixFXS"
      },
      "execution_count": 3,
      "outputs": [
        {
          "output_type": "stream",
          "name": "stdout",
          "text": [
            "aligned_audio_align_221225  aligned_video_align_221225\ttest  train  valid\n"
          ]
        }
      ]
    },
    {
      "cell_type": "code",
      "source": [
        "!ls /content/data/OMAPS2/train/"
      ],
      "metadata": {
        "colab": {
          "base_uri": "https://localhost:8080/"
        },
        "outputId": "b7117868-c065-4f0b-e7d7-db74289d2759",
        "id": "emQCqprGxFXS"
      },
      "execution_count": 4,
      "outputs": [
        {
          "output_type": "stream",
          "name": "stdout",
          "text": [
            "video  wav\n"
          ]
        }
      ]
    },
    {
      "cell_type": "code",
      "source": [
        "!ls /content/data/OMAPS2/train/wav"
      ],
      "metadata": {
        "colab": {
          "base_uri": "https://localhost:8080/"
        },
        "outputId": "dffd3017-0d3a-4323-8e6a-2dafae7aa23a",
        "id": "Q8uGQaU1xFXT"
      },
      "execution_count": 5,
      "outputs": [
        {
          "output_type": "stream",
          "name": "stdout",
          "text": [
            "01_05.wav  08_02.wav  14_01.wav  19_03.wav\t  yty20_2x8_7.wav  yty22_1x5_1.wav  yty26_3x5_1.wav\n",
            "02_01.wav  08_03.wav  14_02.wav  19_04.wav\t  yty20_3x8_1.wav  yty22_1x5_2.wav  yty26_3x5_3.wav\n",
            "02_02.wav  08_04.wav  14_03.wav  19_05.wav\t  yty20_3x8_4.wav  yty22_2x5_1.wav  yty26_3x5_5.wav\n",
            "02_03.wav  09_01.wav  14_04.wav  20_01.wav\t  yty20_3x8_5.wav  yty22_2x5_2.wav  yty3_1.wav\n",
            "02_04.wav  09_02.wav  14_05.wav  20_02.wav\t  yty20_3x8_7.wav  yty22_2x5_5.wav  yty3_2.wav\n",
            "02_05.wav  09_04.wav  15_01.wav  20_03.wav\t  yty20_4x7_3.wav  yty2_2.wav\t    yty3_4.wav\n",
            "03_02.wav  09_06.wav  15_02.wav  20_04.wav\t  yty20_4x7_4.wav  yty2_4.wav\t    yty3_5.wav\n",
            "03_04.wav  10_01.wav  15_03.wav  20_05.wav\t  yty20_4x7_5.wav  yty2_5.wav\t    yty4_1.wav\n",
            "03_05.wav  10_04.wav  15_05.wav  playing2.wav\t  yty20_4x7_6.wav  yty26_1x7_1.wav  yty4_2.wav\n",
            "04_01.wav  11_01.wav  16_01.wav  playing3.wav\t  yty20_4x7_7.wav  yty26_1x7_2.wav  yty4_3.wav\n",
            "04_02.wav  11_03.wav  16_02.wav  yty1_2.wav\t  yty20_5x7_1.wav  yty26_1x7_3.wav  yty4_4.wav\n",
            "04_03.wav  11_05.wav  16_03.wav  yty1_4.wav\t  yty20_5x7_2.wav  yty26_1x7_4.wav  yty4_5.wav\n",
            "04_05.wav  12_01.wav  16_05.wav  yty1_5.wav\t  yty20_5x7_3.wav  yty26_1x7_5.wav  yty5_1.wav\n",
            "05_05.wav  12_02.wav  17_01.wav  yty20_1x7_1.wav  yty20_5x7_5.wav  yty26_1x7_6.wav  yty5_2.wav\n",
            "06_02.wav  12_04.wav  17_02.wav  yty20_1x7_2.wav  yty20_6x8_1.wav  yty26_2x8_1.wav  yty5_3.wav\n",
            "06_03.wav  12_05.wav  17_03.wav  yty20_1x7_3.wav  yty20_6x8_2.wav  yty26_2x8_2.wav  yty5_4.wav\n",
            "06_04.wav  13_01.wav  17_04.wav  yty20_1x7_4.wav  yty20_6x8_4.wav  yty26_2x8_3.wav  yty5_5.wav\n",
            "06_05.wav  13_02.wav  18_02.wav  yty20_2x8_1.wav  yty20_6x8_5.wav  yty26_2x8_4.wav  zyn1.wav\n",
            "07_03.wav  13_03.wav  18_03.wav  yty20_2x8_3.wav  yty20_6x8_6.wav  yty26_2x8_5.wav  zyn2.wav\n",
            "07_04.wav  13_04.wav  19_01.wav  yty20_2x8_4.wav  yty20_6x8_7.wav  yty26_2x8_7.wav  zyn3.wav\n",
            "07_05.wav  13_05.wav  19_02.wav  yty20_2x8_5.wav  yty20_6x8_8.wav  yty26_2x8_8.wav\n"
          ]
        }
      ]
    },
    {
      "cell_type": "code",
      "source": [
        "import os\n",
        "from scipy.io import wavfile\n",
        "import numpy as np\n",
        "import librosa"
      ],
      "metadata": {
        "id": "biE43lwBxFXT"
      },
      "execution_count": 6,
      "outputs": []
    },
    {
      "cell_type": "code",
      "source": [
        "folder_path_train = \"/content/data/OMAPS2/train/wav/\"\n",
        "files_train = os.listdir(folder_path_train)\n",
        "\n",
        "print(files_train)\n",
        "\n",
        "folder_path_val = \"/content/data/OMAPS2/valid/wav/\"\n",
        "files_val = os.listdir(folder_path_val)\n",
        "\n",
        "print(files_val)\n",
        "\n",
        "folder_path_test = \"/content/data/OMAPS2/test/wav/\"\n",
        "files_test = os.listdir(folder_path_test)\n",
        "\n",
        "print(files_test)"
      ],
      "metadata": {
        "colab": {
          "base_uri": "https://localhost:8080/"
        },
        "outputId": "9a290092-3b85-44c8-cbc0-5aed4b575d7b",
        "id": "WtGqZITDxFXT"
      },
      "execution_count": 7,
      "outputs": [
        {
          "output_type": "stream",
          "name": "stdout",
          "text": [
            "['yty20_3x8_7.wav', '15_02.wav', '15_05.wav', 'yty26_3x5_3.wav', 'yty5_4.wav', 'yty5_1.wav', 'yty20_5x7_2.wav', '06_03.wav', 'yty20_1x7_4.wav', 'yty3_5.wav', '14_03.wav', 'yty1_4.wav', '12_05.wav', 'yty20_4x7_5.wav', 'yty22_1x5_1.wav', 'yty20_5x7_1.wav', '20_04.wav', '06_04.wav', '02_03.wav', '19_05.wav', '13_01.wav', '09_01.wav', 'yty26_2x8_5.wav', 'yty5_2.wav', 'yty26_1x7_3.wav', '19_04.wav', '12_02.wav', 'yty26_2x8_1.wav', '10_04.wav', 'yty26_2x8_7.wav', '10_01.wav', '09_02.wav', '15_01.wav', 'yty5_5.wav', '20_02.wav', '18_02.wav', '19_01.wav', '19_02.wav', '09_04.wav', '19_03.wav', '16_05.wav', 'yty3_1.wav', '03_05.wav', 'yty22_1x5_2.wav', '15_03.wav', '07_03.wav', 'yty2_4.wav', 'yty4_1.wav', 'yty20_2x8_7.wav', '08_03.wav', 'yty26_1x7_6.wav', 'zyn3.wav', 'yty26_1x7_2.wav', 'yty3_4.wav', 'yty1_2.wav', 'yty26_1x7_5.wav', '08_02.wav', 'zyn1.wav', '06_05.wav', 'yty20_3x8_4.wav', 'zyn2.wav', '13_02.wav', 'yty26_2x8_2.wav', 'yty26_3x5_1.wav', 'yty4_5.wav', 'yty26_2x8_4.wav', '14_01.wav', '14_05.wav', 'yty22_2x5_2.wav', '20_05.wav', '04_05.wav', 'yty20_6x8_8.wav', '14_04.wav', '17_04.wav', '02_05.wav', 'yty20_6x8_1.wav', 'yty20_5x7_5.wav', 'yty2_5.wav', 'yty20_4x7_7.wav', 'yty5_3.wav', '18_03.wav', 'yty20_3x8_5.wav', 'yty26_1x7_1.wav', 'yty20_4x7_3.wav', '20_03.wav', '13_03.wav', '12_01.wav', '06_02.wav', 'yty22_2x5_1.wav', 'yty20_2x8_5.wav', '17_03.wav', 'yty4_2.wav', '04_02.wav', '16_01.wav', 'yty20_1x7_3.wav', '03_04.wav', '13_04.wav', '07_05.wav', 'yty20_6x8_6.wav', '02_01.wav', '05_05.wav', 'yty26_3x5_5.wav', 'yty20_2x8_1.wav', 'playing3.wav', '17_01.wav', 'yty2_2.wav', '14_02.wav', 'yty26_2x8_3.wav', '09_06.wav', 'yty20_6x8_4.wav', 'yty3_2.wav', 'yty1_5.wav', '11_03.wav', 'yty20_2x8_3.wav', 'yty20_4x7_4.wav', 'yty26_2x8_8.wav', 'yty22_2x5_5.wav', '16_03.wav', '04_01.wav', 'yty20_5x7_3.wav', '16_02.wav', '01_05.wav', '07_04.wav', '08_04.wav', 'yty20_2x8_4.wav', 'yty26_1x7_4.wav', '13_05.wav', '20_01.wav', 'playing2.wav', 'yty20_1x7_1.wav', 'yty20_1x7_2.wav', '03_02.wav', 'yty20_6x8_5.wav', '12_04.wav', 'yty20_6x8_2.wav', '04_03.wav', 'yty20_6x8_7.wav', 'yty20_4x7_6.wav', 'yty4_3.wav', '11_05.wav', 'yty20_3x8_1.wav', 'yty4_4.wav', '02_02.wav', '17_02.wav', '02_04.wav', '11_01.wav']\n",
            "['yty20_1x7_5.wav', '12_03.wav', '10_03.wav', 'yty26_2x8_6.wav', 'yty26_1x7_7.wav', '07_02.wav', 'yty20_3x8_2.wav', 'yty1_3.wav', 'yty26_3x5_4.wav', '03_01.wav', 'yty1_1.wav', 'yty20_3x8_8.wav', 'yty20_6x8_3.wav', '05_01.wav', '17_06.wav', '01_04.wav', 'yty22_1x5_3.wav', '05_04.wav', '04_04.wav', '05_02.wav']\n",
            "['yty26_3x5_2.wav', 'yty22_1x5_4.wav', 'yty20_1x7_7.wav', 'yty2_1.wav', '07_01.wav', 'yty20_2x8_6.wav', 'yty20_1x7_6.wav', '11_04.wav', 'yty2_3.wav', '15_04.wav', '10_02.wav', '08_01.wav', '05_03.wav', 'playing4.wav', '03_03.wav', 'yty20_3x8_6.wav', '08_05.wav', '01_03.wav', 'yty20_3x8_3.wav', '06_01.wav', 'yty20_5x7_6.wav', '18_04.wav', 'yty20_4x7_1.wav', '17_05.wav', '09_05.wav', 'yty22_2x5_4.wav', 'yty20_5x7_4.wav', 'yty22_2x5_3.wav', '11_02.wav', 'yty20_4x7_2.wav', 'yty22_1x5_5.wav', '18_01.wav', 'yty20_2x8_2.wav', '16_04.wav', '09_03.wav', '01_02.wav', 'yty3_3.wav', 'yty20_5x7_7.wav', '01_01.wav', 'yty20_2x8_8.wav']\n"
          ]
        }
      ]
    },
    {
      "cell_type": "markdown",
      "source": [
        "# **Preprocessing**"
      ],
      "metadata": {
        "id": "fbHvirZIlNQk"
      }
    },
    {
      "cell_type": "code",
      "source": [
        "# Constants for processing parameters\n",
        "HOP_LENGTH = 512\n",
        "N_BINS = 252\n",
        "BINS_PER_OCTAVE = 36\n",
        "NUM_NOTES = 88\n",
        "MAX_SAMPLES_PER_FILE = 4000000\n",
        "\n",
        "# Training, validation, and test sets\n",
        "train_features, train_labels = [], []\n",
        "val_features, val_labels = [], []\n",
        "test_features, test_labels = [], []\n",
        "train_count = 0\n",
        "val_count = 0\n",
        "test_count = 0\n",
        "\n",
        "def preprocess(files, feature_storage, label_storage, count, folder_path):\n",
        "    \"\"\"\n",
        "    Processes a list of audio files, extracts their CQT features, aligns them with ground truth labels,\n",
        "    and stores them in feature and label storage lists.\n",
        "\n",
        "    Args:\n",
        "        files (list): List of file names to process.\n",
        "        feature_storage (list): The list to store CQT features.\n",
        "        label_storage (list): The list to store label matrices.\n",
        "        count (int): Counter to keep track of the number of files processed.\n",
        "        folder_path (str): Path to the folder containing the audio files.\n",
        "\n",
        "    Returns:\n",
        "        int: The updated count of processed files.\n",
        "    \"\"\"\n",
        "    for filename in files:\n",
        "        # Load audio file and calculate window length\n",
        "        sampling_freq, stereo_vector = wavfile.read(folder_path + filename)\n",
        "        window_length = HOP_LENGTH / float(sampling_freq)\n",
        "\n",
        "        # Convert audio to float type and extract CQT features\n",
        "        float_array = stereo_vector / 1.0\n",
        "        cqt_features = np.abs(librosa.cqt(float_array, sr=sampling_freq, hop_length=HOP_LENGTH, n_bins=N_BINS, bins_per_octave=BINS_PER_OCTAVE)).T\n",
        "\n",
        "        # Determine the number of frames and create a time vector\n",
        "        num_frames = cqt_features.shape[0]\n",
        "        time_vector = np.arange(1, num_frames + 1) * window_length\n",
        "\n",
        "        # Initialize binary label matrix with dimensions (frames, notes)\n",
        "        labels = np.zeros((num_frames, NUM_NOTES))\n",
        "\n",
        "        # Read and process aligned labels from the corresponding text file\n",
        "        folder_path_label = \"/content/data/OMAPS2/aligned_audio_align_221225/\"\n",
        "        label_file_path = os.path.join(folder_path_label, f\"{filename.split('.')[0]}.txt\")\n",
        "        with open(label_file_path, \"r\") as file:\n",
        "          lines = file.read().split(\"\\n\")\n",
        "\n",
        "        for line in lines:\n",
        "            if line.strip():\n",
        "                start, end, pitch, velocity = map(float, line.split('\\t')[:4])\n",
        "                pitch = int(pitch) - 21  # Adjust pitch to the 0-87 range\n",
        "                start_idx = np.where(time_vector >= start)[0]\n",
        "                end_idx = np.where(time_vector > end)[0]\n",
        "\n",
        "                if start_idx.size and end_idx.size:\n",
        "                    labels[start_idx[0]:end_idx[0], pitch] = 1\n",
        "\n",
        "        # Ensure files don't exceed the maximum allowed samples per file\n",
        "        while (len(feature_storage) + len(cqt_features)) >= MAX_SAMPLES_PER_FILE:\n",
        "            to_add = MAX_SAMPLES_PER_FILE - len(feature_storage)\n",
        "            feature_storage.extend(cqt_features[:to_add, :])\n",
        "            label_storage.extend(labels[:to_add, :])\n",
        "\n",
        "            feature_storage_np = np.array(feature_storage)\n",
        "            label_storage_np = np.array(label_storage)\n",
        "\n",
        "            count += 1\n",
        "            feature_storage = []\n",
        "            label_storage = []\n",
        "            cqt_features = cqt_features[to_add:, :]\n",
        "            labels = labels[to_add:, :]\n",
        "\n",
        "        # Add remaining CQT features and labels if less than the max allowed\n",
        "        if len(cqt_features) == MAX_SAMPLES_PER_FILE:\n",
        "            feature_storage.extend(cqt_features)\n",
        "            label_storage.extend(labels)\n",
        "            feature_storage_np = np.array(feature_storage)\n",
        "            label_storage_np = np.array(label_storage)\n",
        "\n",
        "            count += 1\n",
        "            feature_storage = []\n",
        "            label_storage = []\n",
        "        elif len(cqt_features) > 0:\n",
        "            feature_storage.extend(cqt_features)\n",
        "            label_storage.extend(labels)\n",
        "\n",
        "    return count\n"
      ],
      "metadata": {
        "id": "EsXePUSs3iN9"
      },
      "execution_count": 8,
      "outputs": []
    },
    {
      "cell_type": "code",
      "source": [
        "train_count = preprocess(files_train, train_features, train_labels, train_count, folder_path_train)\n",
        "test_count = preprocess(files_test, test_features, test_labels, test_count, folder_path_test)\n",
        "val_count = preprocess(files_val, val_features, val_labels, val_count, folder_path_val)"
      ],
      "metadata": {
        "id": "0oU9BW-34ift"
      },
      "execution_count": 9,
      "outputs": []
    },
    {
      "cell_type": "code",
      "source": [
        "print(len(train_features), len(train_labels))\n",
        "print(len(test_features), len(test_labels))\n",
        "print(len(val_features), len(val_labels))"
      ],
      "metadata": {
        "colab": {
          "base_uri": "https://localhost:8080/"
        },
        "id": "M3nb7Q594-Th",
        "outputId": "ad18d402-814c-4baf-e315-a046feb3c2b6"
      },
      "execution_count": 10,
      "outputs": [
        {
          "output_type": "stream",
          "name": "stdout",
          "text": [
            "533087 533087\n",
            "140661 140661\n",
            "83243 83243\n"
          ]
        }
      ]
    },
    {
      "cell_type": "markdown",
      "source": [
        "# Normalization"
      ],
      "metadata": {
        "id": "DdkOPMIT8EJG"
      }
    },
    {
      "cell_type": "code",
      "source": [
        "# Get the minimum and maximum values from the X values in the training set\n",
        "max_train = max(max(val) for val in train_features)\n",
        "min_train = min(min(val) for val in train_features)\n",
        "min_train, max_train"
      ],
      "metadata": {
        "colab": {
          "base_uri": "https://localhost:8080/"
        },
        "id": "7KA43C5u8F8j",
        "outputId": "730cfaed-9e6d-4a2e-c4a5-2df58f5a1142"
      },
      "execution_count": 11,
      "outputs": [
        {
          "output_type": "execute_result",
          "data": {
            "text/plain": [
              "(3.245034542981351e-05, 796850.8240814671)"
            ]
          },
          "metadata": {},
          "execution_count": 11
        }
      ]
    },
    {
      "cell_type": "code",
      "source": [
        "# Normalize each X value in the training set for every single frame (but this one hasnt taken into account the mean)\n",
        "initial_norm_train_features = [[(x - min_train) / (max_train - min_train) for x in inner_list] for inner_list in train_features]"
      ],
      "metadata": {
        "id": "4rxcF0VL8MO6"
      },
      "execution_count": 12,
      "outputs": []
    },
    {
      "cell_type": "code",
      "source": [
        "# Calculate the mean of the normalized values\n",
        "flattened_normalized_X_train = [value for sublist in initial_norm_train_features for value in sublist]\n",
        "train_mean = sum(flattened_normalized_X_train) / len(flattened_normalized_X_train)"
      ],
      "metadata": {
        "id": "YQ_4EuoI8jCs"
      },
      "execution_count": 13,
      "outputs": []
    },
    {
      "cell_type": "code",
      "source": [
        "train_mean"
      ],
      "metadata": {
        "colab": {
          "base_uri": "https://localhost:8080/"
        },
        "id": "JBxhJgiy8uC6",
        "outputId": "3d12075c-2258-4b1e-ab39-2b26173eb7e8"
      },
      "execution_count": 14,
      "outputs": [
        {
          "output_type": "execute_result",
          "data": {
            "text/plain": [
              "0.0023727251011984338"
            ]
          },
          "metadata": {},
          "execution_count": 14
        }
      ]
    },
    {
      "cell_type": "code",
      "source": [
        "# Normalize each X value in the training set for every single frame\n",
        "norm_train_X = [[value - train_mean for value in sublist] for sublist in initial_norm_train_features]\n",
        "\n",
        "# Normalize each X value in the validation set for every single frame\n",
        "norm_val_X = [[value - train_mean for value in sublist] for sublist in val_features]\n",
        "\n",
        "# Normalize each X value in the test set for every single frame\n",
        "norm_test_X = [[value - train_mean for value in sublist] for sublist in test_features]\n"
      ],
      "metadata": {
        "id": "eVS7R3Tn8mcB"
      },
      "execution_count": 15,
      "outputs": []
    },
    {
      "cell_type": "code",
      "source": [
        "# Get the minimum and maximum values from the X values in the training set\n",
        "max_train_norm_train = max(max(val) for val in norm_train_X)\n",
        "min_train_norm_train = min(min(val) for val in norm_train_X)\n",
        "min_train_norm_train, max_train_norm_train"
      ],
      "metadata": {
        "colab": {
          "base_uri": "https://localhost:8080/"
        },
        "id": "7zTHvXlQlVSB",
        "outputId": "62cb66d9-475e-4ce8-9601-3c2e070a5124"
      },
      "execution_count": 16,
      "outputs": [
        {
          "output_type": "execute_result",
          "data": {
            "text/plain": [
              "(-0.0023727251011984338, 0.9976272748988015)"
            ]
          },
          "metadata": {},
          "execution_count": 16
        }
      ]
    },
    {
      "cell_type": "code",
      "source": [
        "# Get the minimum and maximum values from the X values in the training set\n",
        "max_train_norm_val = max(max(val) for val in norm_val_X)\n",
        "min_train_norm_val = min(min(val) for val in norm_val_X)\n",
        "max_train_norm_val, min_train_norm_val"
      ],
      "metadata": {
        "colab": {
          "base_uri": "https://localhost:8080/"
        },
        "id": "Sl6wJYXnlY7_",
        "outputId": "e854828d-1473-4536-859a-4fa46d574762"
      },
      "execution_count": 17,
      "outputs": [
        {
          "output_type": "execute_result",
          "data": {
            "text/plain": [
              "(342831.61232856975, -0.0017180658786782243)"
            ]
          },
          "metadata": {},
          "execution_count": 17
        }
      ]
    },
    {
      "cell_type": "code",
      "source": [
        "# Get the minimum and maximum values from the X values in the training set\n",
        "max_train_norm_test = max(max(val) for val in norm_test_X)\n",
        "min_train_norm_test = min(min(val) for val in norm_test_X)\n",
        "max_train_norm_test, min_train_norm_test"
      ],
      "metadata": {
        "colab": {
          "base_uri": "https://localhost:8080/"
        },
        "id": "mJA9ix36la0y",
        "outputId": "3616d5ca-425e-4398-bd19-b44e1918f153"
      },
      "execution_count": 18,
      "outputs": [
        {
          "output_type": "execute_result",
          "data": {
            "text/plain": [
              "(360672.3976635917, -0.0016798117334346535)"
            ]
          },
          "metadata": {},
          "execution_count": 18
        }
      ]
    },
    {
      "cell_type": "markdown",
      "metadata": {
        "id": "40c6jC3NCPOZ"
      },
      "source": [
        "#LSTM"
      ]
    },
    {
      "cell_type": "code",
      "source": [
        "!pip install tensorflow_addons"
      ],
      "metadata": {
        "colab": {
          "base_uri": "https://localhost:8080/"
        },
        "id": "S8qC1DwJyyVb",
        "outputId": "ce6f71e7-73c7-4a66-c745-db20db1b696f"
      },
      "execution_count": 20,
      "outputs": [
        {
          "output_type": "stream",
          "name": "stdout",
          "text": [
            "Collecting tensorflow_addons\n",
            "  Downloading tensorflow_addons-0.23.0-cp310-cp310-manylinux_2_17_x86_64.manylinux2014_x86_64.whl (611 kB)\n",
            "\u001b[?25l     \u001b[90m━━━━━━━━━━━━━━━━━━━━━━━━━━━━━━━━━━━━━━━━\u001b[0m \u001b[32m0.0/611.8 kB\u001b[0m \u001b[31m?\u001b[0m eta \u001b[36m-:--:--\u001b[0m\r\u001b[2K     \u001b[91m━━━━━━━━━━━━━━━\u001b[0m\u001b[90m╺\u001b[0m\u001b[90m━━━━━━━━━━━━━━━━━━━━━━━━\u001b[0m \u001b[32m235.5/611.8 kB\u001b[0m \u001b[31m6.8 MB/s\u001b[0m eta \u001b[36m0:00:01\u001b[0m\r\u001b[2K     \u001b[90m━━━━━━━━━━━━━━━━━━━━━━━━━━━━━━━━━━━━━━━━\u001b[0m \u001b[32m611.8/611.8 kB\u001b[0m \u001b[31m12.7 MB/s\u001b[0m eta \u001b[36m0:00:00\u001b[0m\n",
            "\u001b[?25hRequirement already satisfied: packaging in /usr/local/lib/python3.10/dist-packages (from tensorflow_addons) (24.0)\n",
            "Collecting typeguard<3.0.0,>=2.7 (from tensorflow_addons)\n",
            "  Downloading typeguard-2.13.3-py3-none-any.whl (17 kB)\n",
            "Installing collected packages: typeguard, tensorflow_addons\n",
            "Successfully installed tensorflow_addons-0.23.0 typeguard-2.13.3\n"
          ]
        }
      ]
    },
    {
      "cell_type": "code",
      "source": [
        "import numpy as np\n",
        "from keras.models import Sequential\n",
        "from keras.layers import Dense, LSTM, Dropout\n",
        "from keras.callbacks import History, ModelCheckpoint, EarlyStopping\n",
        "from tensorflow_addons.optimizers import CyclicalLearningRate\n",
        "from keras.optimizers import Adam\n",
        "from tensorflow.keras.backend import clear_session\n",
        "import matplotlib.pyplot as plt\n",
        "\n",
        "# Global variables\n",
        "size_samples = 100\n",
        "input_size = 252\n",
        "number_units = 256\n",
        "number_classes = 88\n",
        "mini_batch_size = 1500\n",
        "num_epochs = 50\n",
        "\n",
        "# Prepare training and validation datasets\n",
        "def reshape_sequences(X, y):\n",
        "    \"\"\"Reshape input data to fixed-size sequences for LSTM input.\"\"\"\n",
        "    max_shape_X = (X.shape[0] // size_samples) * size_samples\n",
        "    X = np.reshape(X[0:max_shape_X, :], (X.shape[0] // size_samples, size_samples, X.shape[1]))\n",
        "    max_shape_y = (y.shape[0] // size_samples) * size_samples\n",
        "    y = np.reshape(y[0:max_shape_y, :], (y.shape[0] // size_samples, size_samples, number_classes))\n",
        "    return X, y\n",
        "\n",
        "# Function to plot training results\n",
        "def plot_training(history, title):\n",
        "    \"\"\"Plot training/validation accuracy and loss over epochs.\"\"\"\n",
        "    plt.figure(figsize=(10, 5))\n",
        "\n",
        "    # Accuracy plot\n",
        "    plt.subplot(1, 2, 1)\n",
        "    plt.plot(history.history['accuracy'], label='Training Accuracy')\n",
        "    plt.plot(history.history['val_accuracy'], label='Validation Accuracy')\n",
        "    plt.title(f'{title}: Accuracy over Epochs')\n",
        "    plt.xlabel('Epochs')\n",
        "    plt.ylabel('Accuracy')\n",
        "    plt.legend()\n",
        "\n",
        "    # Loss plot\n",
        "    plt.subplot(1, 2, 2)\n",
        "    plt.plot(history.history['loss'], label='Training Loss')\n",
        "    plt.plot(history.history['val_loss'], label='Validation Loss')\n",
        "    plt.title(f'{title}: Loss over Epochs')\n",
        "    plt.xlabel('Epochs')\n",
        "    plt.ylabel('Loss')\n",
        "    plt.legend()\n",
        "\n",
        "    plt.tight_layout()\n",
        "    plt.show()\n",
        "\n",
        "# Function to build and compile the LSTM model\n",
        "def build_lstm_model(input_size, size_samples, num_layers, num_units, num_classes):\n",
        "    \"\"\"Build and compile an LSTM model.\"\"\"\n",
        "    model = Sequential()\n",
        "    model.add(LSTM(num_units, input_shape=(size_samples, input_size), return_sequences=True, activation='tanh'))\n",
        "    model.add(Dropout(0.05))\n",
        "\n",
        "    for i in range(1, num_layers):\n",
        "        model.add(LSTM(num_units, return_sequences=True, activation='tanh'))\n",
        "        model.add(Dropout(0.05))\n",
        "\n",
        "    for i in range(num_layers):\n",
        "        print(f\"Adding Dense layer {i + 1} of {num_units} units\")\n",
        "        model.add(Dense(num_units, activation='relu', trainable=False))\n",
        "        model.add(Dropout(0.05))\n",
        "\n",
        "    print(f\"Adding classification layer of {num_classes} units\")\n",
        "    model.add(Dense(num_classes, activation='sigmoid', trainable=False))\n",
        "\n",
        "    # Configure cyclical learning rate and optimizer\n",
        "    clr_schedule = CyclicalLearningRate(\n",
        "        initial_learning_rate=1e-4,\n",
        "        maximal_learning_rate=0.1,\n",
        "        step_size=1000,\n",
        "        scale_fn=lambda x: 1 / (2.0 ** (x - 1)),\n",
        "        scale_mode='cycle'\n",
        "    )\n",
        "    optimizer = Adam(learning_rate=clr_schedule)\n",
        "\n",
        "    # Compile the model\n",
        "    model.compile(loss='binary_crossentropy', optimizer=optimizer, metrics=['accuracy'])\n",
        "    return model\n",
        "\n",
        "# Function to train and evaluate the LSTM model\n",
        "def train_and_evaluate_lstm(model_num, num_layers, model, X_train, y_train, X_val, y_val):\n",
        "    \"\"\"Train the LSTM model and evaluate performance.\"\"\"\n",
        "    print(f\"Training LSTM Model {model_num} with {num_layers} layers...\")\n",
        "    history = History()\n",
        "\n",
        "    # Configure model checkpoints and early stopping\n",
        "    checkpoint_path = f'/content/checkpoints/weights_{num_layers}_layers_lstm_model_{model_num}.hdf5'\n",
        "    checkpointer = ModelCheckpoint(filepath=checkpoint_path, verbose=1, save_best_only=True)\n",
        "    early_stopping = EarlyStopping(monitor='val_loss', patience=30, verbose=1, mode='auto')\n",
        "\n",
        "    # Train the model\n",
        "    history = model.fit(\n",
        "        X_train, y_train, batch_size=mini_batch_size, epochs=num_epochs,\n",
        "        validation_data=(X_val, y_val), verbose=1,\n",
        "        callbacks=[checkpointer, early_stopping]\n",
        "    )\n",
        "\n",
        "    # Plot training history\n",
        "    plot_training(history, f'LSTM Model {model_num}')\n",
        "    model.load_weights(checkpoint_path)\n",
        "    model.compile(loss='binary_crossentropy', optimizer='adam', metrics=['accuracy'])\n",
        "    clear_session()"
      ],
      "metadata": {
        "id": "aO55CR9ixvYd"
      },
      "execution_count": 33,
      "outputs": []
    },
    {
      "cell_type": "code",
      "source": [
        "# Reshape Data, Built LSTM, Train LSTM\n",
        "X_train, y_train = reshape_sequences(np.array(norm_train_X), np.array(train_labels))\n",
        "X_val, y_val = reshape_sequences(np.array(norm_val_X), np.array(val_labels))\n",
        "num_layers = 3\n",
        "model_num = 1\n",
        "lstm_model = build_lstm_model(input_size, size_samples, num_layers, number_units, number_classes)\n",
        "train_and_evaluate_lstm(model_num, num_layers, lstm_model, X_train, y_train, X_val, y_val)"
      ],
      "metadata": {
        "colab": {
          "base_uri": "https://localhost:8080/",
          "height": 1000
        },
        "id": "YwKZTqxFyFqH",
        "outputId": "ea6f856f-63a0-40d4-a3b4-2339964c8f60"
      },
      "execution_count": 26,
      "outputs": [
        {
          "output_type": "stream",
          "name": "stdout",
          "text": [
            "Adding Dense layer 1 of 256 units\n",
            "Adding Dense layer 2 of 256 units\n",
            "Adding Dense layer 3 of 256 units\n",
            "Adding classification layer of 88 units\n",
            "Training LSTM Model 1 with 3 layers...\n",
            "Epoch 1/50\n",
            "4/4 [==============================] - ETA: 0s - loss: 0.6931 - accuracy: 0.0106\n",
            "Epoch 1: val_loss improved from inf to 0.69416, saving model to /content/checkpoints/weights_3_layers_lstm_model_1.hdf5\n",
            "4/4 [==============================] - 7s 603ms/step - loss: 0.6931 - accuracy: 0.0106 - val_loss: 0.6942 - val_accuracy: 0.0137\n",
            "Epoch 2/50\n",
            "4/4 [==============================] - ETA: 0s - loss: 0.6923 - accuracy: 0.0127\n",
            "Epoch 2: val_loss improved from 0.69416 to 0.68831, saving model to /content/checkpoints/weights_3_layers_lstm_model_1.hdf5\n",
            "4/4 [==============================] - 1s 148ms/step - loss: 0.6923 - accuracy: 0.0127 - val_loss: 0.6883 - val_accuracy: 0.0127\n",
            "Epoch 3/50\n",
            "4/4 [==============================] - ETA: 0s - loss: 0.6765 - accuracy: 0.0078\n",
            "Epoch 3: val_loss improved from 0.68831 to 0.63311, saving model to /content/checkpoints/weights_3_layers_lstm_model_1.hdf5\n",
            "4/4 [==============================] - 1s 148ms/step - loss: 0.6765 - accuracy: 0.0078 - val_loss: 0.6331 - val_accuracy: 0.0032\n",
            "Epoch 4/50\n",
            "4/4 [==============================] - ETA: 0s - loss: 0.6267 - accuracy: 0.0064\n",
            "Epoch 4: val_loss improved from 0.63311 to 0.59629, saving model to /content/checkpoints/weights_3_layers_lstm_model_1.hdf5\n",
            "4/4 [==============================] - 1s 146ms/step - loss: 0.6267 - accuracy: 0.0064 - val_loss: 0.5963 - val_accuracy: 0.0042\n",
            "Epoch 5/50\n",
            "4/4 [==============================] - ETA: 0s - loss: 0.6023 - accuracy: 0.0065\n",
            "Epoch 5: val_loss improved from 0.59629 to 0.58183, saving model to /content/checkpoints/weights_3_layers_lstm_model_1.hdf5\n",
            "4/4 [==============================] - 1s 152ms/step - loss: 0.6023 - accuracy: 0.0065 - val_loss: 0.5818 - val_accuracy: 0.0064\n",
            "Epoch 6/50\n",
            "4/4 [==============================] - ETA: 0s - loss: 0.5951 - accuracy: 0.0075\n",
            "Epoch 6: val_loss improved from 0.58183 to 0.57864, saving model to /content/checkpoints/weights_3_layers_lstm_model_1.hdf5\n",
            "4/4 [==============================] - 1s 146ms/step - loss: 0.5951 - accuracy: 0.0075 - val_loss: 0.5786 - val_accuracy: 0.0063\n",
            "Epoch 7/50\n",
            "4/4 [==============================] - ETA: 0s - loss: 0.5921 - accuracy: 0.0082\n",
            "Epoch 7: val_loss improved from 0.57864 to 0.57610, saving model to /content/checkpoints/weights_3_layers_lstm_model_1.hdf5\n",
            "4/4 [==============================] - 1s 146ms/step - loss: 0.5921 - accuracy: 0.0082 - val_loss: 0.5761 - val_accuracy: 0.0063\n",
            "Epoch 8/50\n",
            "4/4 [==============================] - ETA: 0s - loss: 0.5902 - accuracy: 0.0084\n",
            "Epoch 8: val_loss improved from 0.57610 to 0.57540, saving model to /content/checkpoints/weights_3_layers_lstm_model_1.hdf5\n",
            "4/4 [==============================] - 1s 146ms/step - loss: 0.5902 - accuracy: 0.0084 - val_loss: 0.5754 - val_accuracy: 0.0063\n",
            "Epoch 9/50\n",
            "4/4 [==============================] - ETA: 0s - loss: 0.5894 - accuracy: 0.0086\n",
            "Epoch 9: val_loss improved from 0.57540 to 0.57474, saving model to /content/checkpoints/weights_3_layers_lstm_model_1.hdf5\n",
            "4/4 [==============================] - 1s 151ms/step - loss: 0.5894 - accuracy: 0.0086 - val_loss: 0.5747 - val_accuracy: 0.0063\n",
            "Epoch 10/50\n",
            "4/4 [==============================] - ETA: 0s - loss: 0.5890 - accuracy: 0.0084\n",
            "Epoch 10: val_loss improved from 0.57474 to 0.57441, saving model to /content/checkpoints/weights_3_layers_lstm_model_1.hdf5\n",
            "4/4 [==============================] - 1s 149ms/step - loss: 0.5890 - accuracy: 0.0084 - val_loss: 0.5744 - val_accuracy: 0.0063\n",
            "Epoch 11/50\n",
            "4/4 [==============================] - ETA: 0s - loss: 0.5888 - accuracy: 0.0086\n",
            "Epoch 11: val_loss improved from 0.57441 to 0.57392, saving model to /content/checkpoints/weights_3_layers_lstm_model_1.hdf5\n",
            "4/4 [==============================] - 1s 152ms/step - loss: 0.5888 - accuracy: 0.0086 - val_loss: 0.5739 - val_accuracy: 0.0063\n",
            "Epoch 12/50\n",
            "4/4 [==============================] - ETA: 0s - loss: 0.5886 - accuracy: 0.0089\n",
            "Epoch 12: val_loss improved from 0.57392 to 0.57346, saving model to /content/checkpoints/weights_3_layers_lstm_model_1.hdf5\n",
            "4/4 [==============================] - 1s 148ms/step - loss: 0.5886 - accuracy: 0.0089 - val_loss: 0.5735 - val_accuracy: 0.0063\n",
            "Epoch 13/50\n",
            "4/4 [==============================] - ETA: 0s - loss: 0.5886 - accuracy: 0.0085\n",
            "Epoch 13: val_loss did not improve from 0.57346\n",
            "4/4 [==============================] - 1s 131ms/step - loss: 0.5886 - accuracy: 0.0085 - val_loss: 0.5741 - val_accuracy: 0.0063\n",
            "Epoch 14/50\n",
            "4/4 [==============================] - ETA: 0s - loss: 0.5884 - accuracy: 0.0086\n",
            "Epoch 14: val_loss did not improve from 0.57346\n",
            "4/4 [==============================] - 0s 129ms/step - loss: 0.5884 - accuracy: 0.0086 - val_loss: 0.5740 - val_accuracy: 0.0063\n",
            "Epoch 15/50\n",
            "4/4 [==============================] - ETA: 0s - loss: 0.5883 - accuracy: 0.0083\n",
            "Epoch 15: val_loss did not improve from 0.57346\n",
            "4/4 [==============================] - 1s 131ms/step - loss: 0.5883 - accuracy: 0.0083 - val_loss: 0.5742 - val_accuracy: 0.0063\n",
            "Epoch 16/50\n",
            "4/4 [==============================] - ETA: 0s - loss: 0.5883 - accuracy: 0.0084\n",
            "Epoch 16: val_loss did not improve from 0.57346\n",
            "4/4 [==============================] - 0s 131ms/step - loss: 0.5883 - accuracy: 0.0084 - val_loss: 0.5740 - val_accuracy: 0.0063\n",
            "Epoch 17/50\n",
            "4/4 [==============================] - ETA: 0s - loss: 0.5882 - accuracy: 0.0086\n",
            "Epoch 17: val_loss did not improve from 0.57346\n",
            "4/4 [==============================] - 1s 129ms/step - loss: 0.5882 - accuracy: 0.0086 - val_loss: 0.5742 - val_accuracy: 0.0063\n",
            "Epoch 18/50\n",
            "4/4 [==============================] - ETA: 0s - loss: 0.5881 - accuracy: 0.0085\n",
            "Epoch 18: val_loss did not improve from 0.57346\n",
            "4/4 [==============================] - 0s 130ms/step - loss: 0.5881 - accuracy: 0.0085 - val_loss: 0.5739 - val_accuracy: 0.0063\n",
            "Epoch 19/50\n",
            "4/4 [==============================] - ETA: 0s - loss: 0.5881 - accuracy: 0.0084\n",
            "Epoch 19: val_loss did not improve from 0.57346\n",
            "4/4 [==============================] - 1s 134ms/step - loss: 0.5881 - accuracy: 0.0084 - val_loss: 0.5738 - val_accuracy: 0.0063\n",
            "Epoch 20/50\n",
            "4/4 [==============================] - ETA: 0s - loss: 0.5880 - accuracy: 0.0082\n",
            "Epoch 20: val_loss did not improve from 0.57346\n",
            "4/4 [==============================] - 0s 126ms/step - loss: 0.5880 - accuracy: 0.0082 - val_loss: 0.5737 - val_accuracy: 0.0063\n",
            "Epoch 21/50\n",
            "4/4 [==============================] - ETA: 0s - loss: 0.5880 - accuracy: 0.0083\n",
            "Epoch 21: val_loss did not improve from 0.57346\n",
            "4/4 [==============================] - 0s 126ms/step - loss: 0.5880 - accuracy: 0.0083 - val_loss: 0.5736 - val_accuracy: 0.0063\n",
            "Epoch 22/50\n",
            "4/4 [==============================] - ETA: 0s - loss: 0.5879 - accuracy: 0.0083\n",
            "Epoch 22: val_loss did not improve from 0.57346\n",
            "4/4 [==============================] - 1s 129ms/step - loss: 0.5879 - accuracy: 0.0083 - val_loss: 0.5738 - val_accuracy: 0.0063\n",
            "Epoch 23/50\n",
            "4/4 [==============================] - ETA: 0s - loss: 0.5879 - accuracy: 0.0083\n",
            "Epoch 23: val_loss did not improve from 0.57346\n",
            "4/4 [==============================] - 1s 125ms/step - loss: 0.5879 - accuracy: 0.0083 - val_loss: 0.5736 - val_accuracy: 0.0063\n",
            "Epoch 24/50\n",
            "4/4 [==============================] - ETA: 0s - loss: 0.5878 - accuracy: 0.0083\n",
            "Epoch 24: val_loss did not improve from 0.57346\n",
            "4/4 [==============================] - 0s 126ms/step - loss: 0.5878 - accuracy: 0.0083 - val_loss: 0.5736 - val_accuracy: 0.0063\n",
            "Epoch 25/50\n",
            "4/4 [==============================] - ETA: 0s - loss: 0.5878 - accuracy: 0.0084\n",
            "Epoch 25: val_loss did not improve from 0.57346\n",
            "4/4 [==============================] - 1s 132ms/step - loss: 0.5878 - accuracy: 0.0084 - val_loss: 0.5737 - val_accuracy: 0.0063\n",
            "Epoch 26/50\n",
            "4/4 [==============================] - ETA: 0s - loss: 0.5877 - accuracy: 0.0083\n",
            "Epoch 26: val_loss did not improve from 0.57346\n",
            "4/4 [==============================] - 0s 130ms/step - loss: 0.5877 - accuracy: 0.0083 - val_loss: 0.5736 - val_accuracy: 0.0063\n",
            "Epoch 27/50\n",
            "4/4 [==============================] - ETA: 0s - loss: 0.5877 - accuracy: 0.0082\n",
            "Epoch 27: val_loss did not improve from 0.57346\n",
            "4/4 [==============================] - 0s 126ms/step - loss: 0.5877 - accuracy: 0.0082 - val_loss: 0.5736 - val_accuracy: 0.0063\n",
            "Epoch 28/50\n",
            "4/4 [==============================] - ETA: 0s - loss: 0.5876 - accuracy: 0.0082\n",
            "Epoch 28: val_loss did not improve from 0.57346\n",
            "4/4 [==============================] - 0s 127ms/step - loss: 0.5876 - accuracy: 0.0082 - val_loss: 0.5737 - val_accuracy: 0.0063\n",
            "Epoch 29/50\n",
            "4/4 [==============================] - ETA: 0s - loss: 0.5875 - accuracy: 0.0086\n",
            "Epoch 29: val_loss did not improve from 0.57346\n",
            "4/4 [==============================] - 0s 128ms/step - loss: 0.5875 - accuracy: 0.0086 - val_loss: 0.5736 - val_accuracy: 0.0063\n",
            "Epoch 30/50\n",
            "4/4 [==============================] - ETA: 0s - loss: 0.5875 - accuracy: 0.0086\n",
            "Epoch 30: val_loss improved from 0.57346 to 0.57345, saving model to /content/checkpoints/weights_3_layers_lstm_model_1.hdf5\n",
            "4/4 [==============================] - 1s 153ms/step - loss: 0.5875 - accuracy: 0.0086 - val_loss: 0.5735 - val_accuracy: 0.0063\n",
            "Epoch 31/50\n",
            "4/4 [==============================] - ETA: 0s - loss: 0.5874 - accuracy: 0.0085\n",
            "Epoch 31: val_loss did not improve from 0.57345\n",
            "4/4 [==============================] - 0s 127ms/step - loss: 0.5874 - accuracy: 0.0085 - val_loss: 0.5735 - val_accuracy: 0.0063\n",
            "Epoch 32/50\n",
            "4/4 [==============================] - ETA: 0s - loss: 0.5874 - accuracy: 0.0084\n",
            "Epoch 32: val_loss improved from 0.57345 to 0.57336, saving model to /content/checkpoints/weights_3_layers_lstm_model_1.hdf5\n",
            "4/4 [==============================] - 1s 151ms/step - loss: 0.5874 - accuracy: 0.0084 - val_loss: 0.5734 - val_accuracy: 0.0063\n",
            "Epoch 33/50\n",
            "4/4 [==============================] - ETA: 0s - loss: 0.5874 - accuracy: 0.0085\n",
            "Epoch 33: val_loss did not improve from 0.57336\n",
            "4/4 [==============================] - 0s 125ms/step - loss: 0.5874 - accuracy: 0.0085 - val_loss: 0.5736 - val_accuracy: 0.0063\n",
            "Epoch 34/50\n",
            "4/4 [==============================] - ETA: 0s - loss: 0.5874 - accuracy: 0.0083\n",
            "Epoch 34: val_loss did not improve from 0.57336\n",
            "4/4 [==============================] - 0s 124ms/step - loss: 0.5874 - accuracy: 0.0083 - val_loss: 0.5735 - val_accuracy: 0.0063\n",
            "Epoch 35/50\n",
            "4/4 [==============================] - ETA: 0s - loss: 0.5873 - accuracy: 0.0085\n",
            "Epoch 35: val_loss did not improve from 0.57336\n",
            "4/4 [==============================] - 0s 130ms/step - loss: 0.5873 - accuracy: 0.0085 - val_loss: 0.5737 - val_accuracy: 0.0063\n",
            "Epoch 36/50\n",
            "4/4 [==============================] - ETA: 0s - loss: 0.5874 - accuracy: 0.0083\n",
            "Epoch 36: val_loss did not improve from 0.57336\n",
            "4/4 [==============================] - 0s 125ms/step - loss: 0.5874 - accuracy: 0.0083 - val_loss: 0.5734 - val_accuracy: 0.0063\n",
            "Epoch 37/50\n",
            "4/4 [==============================] - ETA: 0s - loss: 0.5875 - accuracy: 0.0086\n",
            "Epoch 37: val_loss did not improve from 0.57336\n",
            "4/4 [==============================] - 0s 125ms/step - loss: 0.5875 - accuracy: 0.0086 - val_loss: 0.5740 - val_accuracy: 0.0063\n",
            "Epoch 38/50\n",
            "4/4 [==============================] - ETA: 0s - loss: 0.5876 - accuracy: 0.0080\n",
            "Epoch 38: val_loss did not improve from 0.57336\n",
            "4/4 [==============================] - 1s 138ms/step - loss: 0.5876 - accuracy: 0.0080 - val_loss: 0.5742 - val_accuracy: 0.0063\n",
            "Epoch 39/50\n",
            "4/4 [==============================] - ETA: 0s - loss: 0.5875 - accuracy: 0.0082\n",
            "Epoch 39: val_loss improved from 0.57336 to 0.57325, saving model to /content/checkpoints/weights_3_layers_lstm_model_1.hdf5\n",
            "4/4 [==============================] - 1s 153ms/step - loss: 0.5875 - accuracy: 0.0082 - val_loss: 0.5733 - val_accuracy: 0.0064\n",
            "Epoch 40/50\n",
            "4/4 [==============================] - ETA: 0s - loss: 0.5874 - accuracy: 0.0089\n",
            "Epoch 40: val_loss did not improve from 0.57325\n",
            "4/4 [==============================] - 1s 129ms/step - loss: 0.5874 - accuracy: 0.0089 - val_loss: 0.5737 - val_accuracy: 0.0064\n",
            "Epoch 41/50\n",
            "4/4 [==============================] - ETA: 0s - loss: 0.5873 - accuracy: 0.0090\n",
            "Epoch 41: val_loss did not improve from 0.57325\n",
            "4/4 [==============================] - 0s 124ms/step - loss: 0.5873 - accuracy: 0.0090 - val_loss: 0.5735 - val_accuracy: 0.0063\n",
            "Epoch 42/50\n",
            "4/4 [==============================] - ETA: 0s - loss: 0.5873 - accuracy: 0.0091\n",
            "Epoch 42: val_loss did not improve from 0.57325\n",
            "4/4 [==============================] - 0s 126ms/step - loss: 0.5873 - accuracy: 0.0091 - val_loss: 0.5733 - val_accuracy: 0.0063\n",
            "Epoch 43/50\n",
            "4/4 [==============================] - ETA: 0s - loss: 0.5873 - accuracy: 0.0089\n",
            "Epoch 43: val_loss improved from 0.57325 to 0.57314, saving model to /content/checkpoints/weights_3_layers_lstm_model_1.hdf5\n",
            "4/4 [==============================] - 1s 147ms/step - loss: 0.5873 - accuracy: 0.0089 - val_loss: 0.5731 - val_accuracy: 0.0063\n",
            "Epoch 44/50\n",
            "4/4 [==============================] - ETA: 0s - loss: 0.5870 - accuracy: 0.0089\n",
            "Epoch 44: val_loss did not improve from 0.57314\n",
            "4/4 [==============================] - 1s 137ms/step - loss: 0.5870 - accuracy: 0.0089 - val_loss: 0.5733 - val_accuracy: 0.0063\n",
            "Epoch 45/50\n",
            "4/4 [==============================] - ETA: 0s - loss: 0.5870 - accuracy: 0.0089\n",
            "Epoch 45: val_loss did not improve from 0.57314\n",
            "4/4 [==============================] - 0s 126ms/step - loss: 0.5870 - accuracy: 0.0089 - val_loss: 0.5737 - val_accuracy: 0.0063\n",
            "Epoch 46/50\n",
            "4/4 [==============================] - ETA: 0s - loss: 0.5872 - accuracy: 0.0087\n",
            "Epoch 46: val_loss did not improve from 0.57314\n",
            "4/4 [==============================] - 0s 128ms/step - loss: 0.5872 - accuracy: 0.0087 - val_loss: 0.5732 - val_accuracy: 0.0063\n",
            "Epoch 47/50\n",
            "4/4 [==============================] - ETA: 0s - loss: 0.5872 - accuracy: 0.0088\n",
            "Epoch 47: val_loss did not improve from 0.57314\n",
            "4/4 [==============================] - 1s 135ms/step - loss: 0.5872 - accuracy: 0.0088 - val_loss: 0.5736 - val_accuracy: 0.0063\n",
            "Epoch 48/50\n",
            "4/4 [==============================] - ETA: 0s - loss: 0.5871 - accuracy: 0.0089\n",
            "Epoch 48: val_loss did not improve from 0.57314\n",
            "4/4 [==============================] - 0s 125ms/step - loss: 0.5871 - accuracy: 0.0089 - val_loss: 0.5733 - val_accuracy: 0.0064\n",
            "Epoch 49/50\n",
            "4/4 [==============================] - ETA: 0s - loss: 0.5871 - accuracy: 0.0089\n",
            "Epoch 49: val_loss did not improve from 0.57314\n",
            "4/4 [==============================] - 0s 125ms/step - loss: 0.5871 - accuracy: 0.0089 - val_loss: 0.5734 - val_accuracy: 0.0063\n",
            "Epoch 50/50\n",
            "4/4 [==============================] - ETA: 0s - loss: 0.5870 - accuracy: 0.0089\n",
            "Epoch 50: val_loss did not improve from 0.57314\n",
            "4/4 [==============================] - 0s 124ms/step - loss: 0.5870 - accuracy: 0.0089 - val_loss: 0.5738 - val_accuracy: 0.0063\n"
          ]
        },
        {
          "output_type": "display_data",
          "data": {
            "text/plain": [
              "<Figure size 1000x500 with 2 Axes>"
            ],
            "image/png": "[encoded data removed]"
          },
          "metadata": {}
        }
      ]
    },
    {
      "cell_type": "code",
      "source": [
        "#Build LSTM\n",
        "model = Sequential()\n",
        "model.add(LSTM(number_units, input_shape=(size_samples, input_size), return_sequences=True, activation='tanh', name='lstm_1'))\n",
        "model.add(Dropout(0.05, name='dropout_1'))\n",
        "model.add(LSTM(number_units, return_sequences=True, activation='tanh', name='lstm_2'))\n",
        "model.add(Dropout(0.05, name='dropout_2'))\n",
        "model.add(Dense(256, activation='relu', trainable=False, name='dense_1'))\n",
        "model.add(Dropout(0.05, name='dropout_3'))\n",
        "model.add(Dense(number_units, activation='relu', trainable=False, name='dense_2'))\n",
        "model.add(Dropout(0.05, name='dropout_4'))\n",
        "model.add(Dense(number_classes, activation='sigmoid', trainable=False, name='classification'))"
      ],
      "metadata": {
        "id": "mWDVxjdP1cEr"
      },
      "execution_count": 42,
      "outputs": []
    },
    {
      "cell_type": "code",
      "source": [
        "# Test Model\n",
        "X_test = np.array(norm_test_X)\n",
        "y_test = np.array(test_labels)\n",
        "X_test_reshaped, y_test_reshaped = reshape_sequences(X_test, y_test)\n",
        "\n",
        "# Transfer Learning\n",
        "model.load_weights('weights_3_layers_model_3_tuned.hdf5', by_name=True)\n",
        "model.compile(optimizer='adam', loss='binary_crossentropy', metrics=['accuracy'])\n",
        "\n",
        "# Make predictions using the reshaped test data\n",
        "predictions = lstm_model.predict(X_test_reshaped).round()\n",
        "\n",
        "# Reshape predictions and test labels to the appropriate dimensions for evaluation\n",
        "predictions = np.reshape(predictions, (y_test_reshaped.shape[0] * y_test_reshaped.shape[1], y_test_reshaped.shape[2]))\n",
        "y_test_reshaped = np.reshape(y_test_reshaped, (y_test_reshaped.shape[0] * y_test_reshaped.shape[1], y_test_reshaped.shape[2]))"
      ],
      "metadata": {
        "colab": {
          "base_uri": "https://localhost:8080/"
        },
        "id": "lbXLkatoywo_",
        "outputId": "360dd1e8-f71d-4c6a-837e-896b58f7f131"
      },
      "execution_count": 43,
      "outputs": [
        {
          "output_type": "stream",
          "name": "stdout",
          "text": [
            "44/44 [==============================] - 1s 7ms/step\n"
          ]
        }
      ]
    },
    {
      "cell_type": "code",
      "source": [
        "TP = np.count_nonzero(np.logical_and(predictions == 1, y_test_reshaped == 1))\n",
        "FN = np.count_nonzero(np.logical_and(predictions == 0, y_test_reshaped == 1))\n",
        "FP = np.count_nonzero(np.logical_and(predictions == 1, y_test_reshaped == 0))\n",
        "recall = TP / float(TP + FN)\n",
        "precision = TP / float(TP + FP)\n",
        "accuracy = TP / float(TP + FP + FN)\n",
        "F1_Score = 100 * 2 * precision * recall / (precision + recall)\n",
        "\n",
        "print(f\"TP: {TP}\")\n",
        "print(f\"FN: {FN}\")\n",
        "print(f\"FP: {FP}\")\n",
        "print(f\"Recall: {recall}\")\n",
        "print(f\"Precision: {precision}\")\n",
        "print(f\"Accuracy: {accuracy}\")\n",
        "print(f\"F1 Score: {F1_Score}\")"
      ],
      "metadata": {
        "colab": {
          "base_uri": "https://localhost:8080/"
        },
        "id": "f1RBOlSy2HUB",
        "outputId": "03ad8bc6-9b6e-4c4e-c2c8-054e433fc15d"
      },
      "execution_count": 45,
      "outputs": [
        {
          "output_type": "stream",
          "name": "stdout",
          "text": [
            "TP: 108355\n",
            "FN: 141309\n",
            "FP: 5930997\n",
            "Recall: 0.4340033004357857\n",
            "Precision: 0.017941494385490364\n",
            "Accuracy: 0.017531296409882373\n",
            "F1 Score: 3.4458490803648774\n"
          ]
        }
      ]
    },
    {
      "cell_type": "markdown",
      "source": [
        "#JUNK"
      ],
      "metadata": {
        "id": "c-06E_fj2U0_"
      }
    },
    {
      "cell_type": "code",
      "source": [
        "from keras.preprocessing import sequence\n",
        "from keras.models import Sequential\n",
        "from keras.layers import Dense,LSTM,Dropout, Activation, Masking\n",
        "from keras.regularizers import l2\n",
        "from keras import callbacks\n",
        "from keras.callbacks import History, ModelCheckpoint, EarlyStopping\n",
        "import tensorflow as tf\n",
        "from keras.optimizers import Adam\n",
        "import keras\n",
        "import matplotlib.pyplot as plt\n",
        "\n",
        "def plot_training(history):\n",
        "    \"\"\"Plot training/validation accuracy and loss over epochs.\"\"\"\n",
        "    # Plot Accuracy\n",
        "    plt.figure(figsize=(10, 5))\n",
        "    plt.subplot(1, 2, 1)\n",
        "    plt.plot(history.history['accuracy'], label='Training Accuracy')\n",
        "    plt.plot(history.history['val_accuracy'], label='Validation Accuracy')\n",
        "    plt.title(f'LSTM Model Dropout - 0.05, Batch Size - 1500:\\n Accuracy over Epochs')\n",
        "    plt.xlabel('Epochs')\n",
        "    plt.ylabel('Accuracy')\n",
        "    plt.legend()\n",
        "\n",
        "    # Plot Loss\n",
        "    plt.subplot(1, 2, 2)\n",
        "    plt.plot(history.history['loss'], label='Training Loss')\n",
        "    plt.plot(history.history['val_loss'], label='Validation Loss')\n",
        "    plt.title(f'LSTM Model Dropout - 0.05, Batch Size - 1500:\\n Loss over Epochs')\n",
        "    plt.xlabel('Epochs')\n",
        "    plt.ylabel('Loss')\n",
        "    plt.legend()\n",
        "\n",
        "    plt.tight_layout()\n",
        "    plt.show()\n",
        "\n",
        "mini_batch_size, num_epochs = 1500, 50\n",
        "input_size = 252\n",
        "number_units = 256\n",
        "number_layers =3\n",
        "number_classes = 88\n",
        "best_accuracy = 0\n",
        "size_samples = 100\n",
        "\n",
        "X_val = np.array(norm_train2mat_val) # CQT Features\n",
        "max_shape = (X_val.shape[0]//size_samples)*size_samples\n",
        "X_val = np.array(np.reshape(X_val[0:max_shape,:],(X_val.shape[0]//size_samples,size_samples,X_val.shape[1])))\n",
        "\n",
        "y_val = np.array(labels2mat_val) # Label Target Variables\n",
        "max_shape = (y_val.shape[0]//size_samples)*size_samples\n",
        "y_val = np.reshape(y_val[0:max_shape,:],(y_val.shape[0]//size_samples,size_samples,y_val.shape[1]))\n",
        "\n",
        "print('Loading Training Data')\n",
        "X_train = np.array(norm_train2mat_train)\n",
        "max_shape = (X_train.shape[0]//size_samples)*size_samples\n",
        "X_train = np.reshape(X_train[0:max_shape,:],(X_train.shape[0]//size_samples,size_samples,input_size))\n",
        "\n",
        "y_train = np.array(labels2mat_train)\n",
        "max_shape = (y_train.shape[0]//size_samples)*size_samples\n",
        "y_train = np.array(np.reshape(y_train[0:max_shape,:],(y_train.shape[0]//size_samples,size_samples,number_classes)))\n",
        "\n",
        "previous_model_weights = 'weights_3_layers_model_3.hdf5'\n",
        "model = Sequential()\n",
        "model.add(LSTM(number_units, input_shape=(size_samples, input_size), return_sequences=True, activation='tanh'))\n",
        "model.add(Dropout(0.05))\n",
        "model.add(LSTM(number_units, return_sequences=True, activation='tanh'))\n",
        "model.add(Dropout(0.05))\n",
        "print(f\"Adding 1st Dense layer of {number_units} units\")\n",
        "model.add(Dense(input_size, kernel_initializer='normal', activation='relu', trainable=False))\n",
        "model.add(Dropout(0.05))\n",
        "\n",
        "print(f\"Adding 2nd Dense layer of {number_units} units\")\n",
        "model.add(Dense(number_units, kernel_initializer='normal', activation='relu', trainable=False))\n",
        "model.add(Dropout(0.05))\n",
        "\n",
        "print(f\"Adding classification layer of {number_classes} units\")\n",
        "model.add(Dense(number_classes, kernel_initializer='normal', activation='sigmoid', trainable=False))\n",
        "\n",
        "# Load weights into the Dense layers by name\n",
        "model.load_weights(previous_model_weights, by_name=True)\n",
        "\n",
        "# Compile the model\n",
        "from tensorflow_addons.optimizers import CyclicalLearningRate\n",
        "\n",
        "clr_schedule = CyclicalLearningRate(\n",
        "    initial_learning_rate=1e-4,\n",
        "    maximal_learning_rate=0.1,\n",
        "    step_size=1000,\n",
        "    scale_fn=lambda x: 1/(2.0**(x-1)),\n",
        "    scale_mode='cycle'\n",
        ")\n",
        "optimizer = keras.optimizers.Adam(learning_rate=clr_schedule)\n",
        "model.compile(loss='binary_crossentropy', optimizer=optimizer, metrics=['accuracy'])\n",
        "# model.compile(loss='binary_crossentropy', optimizer='adam', metrics=['accuracy'])\n",
        "\n",
        "checkpointer = ModelCheckpoint(filepath= \"/content/checkpoints\" + \"weights.hdf5\", verbose=1, save_best_only=False)\n",
        "early = EarlyStopping(monitor='val_loss', min_delta=0, patience=30, verbose=1, mode='auto')\n",
        "\n",
        "training_log = open(\"/content/checkpoints\" + \"Training.log\", \"w\")\n",
        "\n",
        "save = model.fit(X_train, y_train,epochs = num_epochs,verbose=1,validation_data=(X_val, y_val), callbacks=[checkpointer,early])\n",
        "plot_training(save)\n",
        "training_log.write(str(save.history) + \"\\n\")\n",
        "training_log.close()\n"
      ],
      "metadata": {
        "colab": {
          "base_uri": "https://localhost:8080/",
          "height": 1000
        },
        "id": "3smkYU6vw8IT",
        "outputId": "e44f7ff0-330e-44a6-c05d-5a28a72db6ca"
      },
      "execution_count": null,
      "outputs": [
        {
          "output_type": "stream",
          "name": "stdout",
          "text": [
            "Loading Training Data\n",
            "Adding 1st Dense layer of 256 units\n",
            "Adding 2nd Dense layer of 256 units\n",
            "Adding classification layer of 88 units\n",
            "Epoch 1/50\n",
            "163/167 [============================>.] - ETA: 0s - loss: 0.6158 - accuracy: 0.0123\n",
            "Epoch 1: saving model to /content/checkpointsweights.hdf5\n",
            "167/167 [==============================] - 6s 20ms/step - loss: 0.6156 - accuracy: 0.0122 - val_loss: 0.6027 - val_accuracy: 0.0106\n",
            "Epoch 2/50\n",
            " 11/167 [>.............................] - ETA: 1s - loss: 0.6071 - accuracy: 0.0104"
          ]
        },
        {
          "output_type": "stream",
          "name": "stderr",
          "text": [
            "/usr/local/lib/python3.10/dist-packages/keras/src/engine/training.py:3103: UserWarning: You are saving your model as an HDF5 file via `model.save()`. This file format is considered legacy. We recommend using instead the native Keras format, e.g. `model.save('my_model.keras')`.\n",
            "  saving_api.save_model(\n",
            "/usr/local/lib/python3.10/dist-packages/keras/src/saving/serialization_lib.py:403: UserWarning: The object being serialized includes a `lambda`. This is unsafe. In order to reload the object, you will have to pass `safe_mode=False` to the loading function. Please avoid using `lambda` in the future, and use named Python functions instead. This is the `lambda` being serialized:     scale_fn=lambda x: 1/(2.0**(x-1)),\n",
            "\n",
            "  return {key: serialize_keras_object(value) for key, value in obj.items()}\n"
          ]
        },
        {
          "output_type": "stream",
          "name": "stdout",
          "text": [
            "165/167 [============================>.] - ETA: 0s - loss: 0.6060 - accuracy: 0.0111\n",
            "Epoch 2: saving model to /content/checkpointsweights.hdf5\n",
            "167/167 [==============================] - 2s 13ms/step - loss: 0.6059 - accuracy: 0.0111 - val_loss: 0.5987 - val_accuracy: 0.0106\n",
            "Epoch 3/50\n",
            "167/167 [==============================] - ETA: 0s - loss: 0.6020 - accuracy: 0.0120\n",
            "Epoch 3: saving model to /content/checkpointsweights.hdf5\n",
            "167/167 [==============================] - 2s 14ms/step - loss: 0.6020 - accuracy: 0.0120 - val_loss: 0.5977 - val_accuracy: 0.0106\n",
            "Epoch 4/50\n",
            "166/167 [============================>.] - ETA: 0s - loss: 0.6020 - accuracy: 0.0122\n",
            "Epoch 4: saving model to /content/checkpointsweights.hdf5\n",
            "167/167 [==============================] - 2s 14ms/step - loss: 0.6020 - accuracy: 0.0122 - val_loss: 0.5969 - val_accuracy: 0.0106\n",
            "Epoch 5/50\n",
            "167/167 [==============================] - ETA: 0s - loss: 0.6018 - accuracy: 0.0118\n",
            "Epoch 5: saving model to /content/checkpointsweights.hdf5\n",
            "167/167 [==============================] - 2s 14ms/step - loss: 0.6018 - accuracy: 0.0118 - val_loss: 0.5970 - val_accuracy: 0.0106\n",
            "Epoch 6/50\n",
            "163/167 [============================>.] - ETA: 0s - loss: 0.6016 - accuracy: 0.0121\n",
            "Epoch 6: saving model to /content/checkpointsweights.hdf5\n",
            "167/167 [==============================] - 2s 13ms/step - loss: 0.6016 - accuracy: 0.0122 - val_loss: 0.5962 - val_accuracy: 0.0106\n",
            "Epoch 7/50\n",
            "165/167 [============================>.] - ETA: 0s - loss: 0.6013 - accuracy: 0.0118\n",
            "Epoch 7: saving model to /content/checkpointsweights.hdf5\n",
            "167/167 [==============================] - 2s 13ms/step - loss: 0.6013 - accuracy: 0.0119 - val_loss: 0.5962 - val_accuracy: 0.0106\n",
            "Epoch 8/50\n",
            "164/167 [============================>.] - ETA: 0s - loss: 0.6013 - accuracy: 0.0119\n",
            "Epoch 8: saving model to /content/checkpointsweights.hdf5\n",
            "167/167 [==============================] - 2s 13ms/step - loss: 0.6013 - accuracy: 0.0119 - val_loss: 0.5961 - val_accuracy: 0.0106\n",
            "Epoch 9/50\n",
            "163/167 [============================>.] - ETA: 0s - loss: 0.6012 - accuracy: 0.0118\n",
            "Epoch 9: saving model to /content/checkpointsweights.hdf5\n",
            "167/167 [==============================] - 2s 13ms/step - loss: 0.6012 - accuracy: 0.0118 - val_loss: 0.5961 - val_accuracy: 0.0106\n",
            "Epoch 10/50\n",
            "166/167 [============================>.] - ETA: 0s - loss: 0.6012 - accuracy: 0.0119\n",
            "Epoch 10: saving model to /content/checkpointsweights.hdf5\n",
            "167/167 [==============================] - 2s 14ms/step - loss: 0.6012 - accuracy: 0.0118 - val_loss: 0.5961 - val_accuracy: 0.0106\n",
            "Epoch 11/50\n",
            "165/167 [============================>.] - ETA: 0s - loss: 0.6012 - accuracy: 0.0117\n",
            "Epoch 11: saving model to /content/checkpointsweights.hdf5\n",
            "167/167 [==============================] - 2s 13ms/step - loss: 0.6012 - accuracy: 0.0118 - val_loss: 0.5961 - val_accuracy: 0.0106\n",
            "Epoch 12/50\n",
            "166/167 [============================>.] - ETA: 0s - loss: 0.6012 - accuracy: 0.0119\n",
            "Epoch 12: saving model to /content/checkpointsweights.hdf5\n",
            "167/167 [==============================] - 2s 13ms/step - loss: 0.6012 - accuracy: 0.0119 - val_loss: 0.5961 - val_accuracy: 0.0106\n",
            "Epoch 13/50\n",
            "164/167 [============================>.] - ETA: 0s - loss: 0.6012 - accuracy: 0.0117\n",
            "Epoch 13: saving model to /content/checkpointsweights.hdf5\n",
            "167/167 [==============================] - 2s 13ms/step - loss: 0.6012 - accuracy: 0.0118 - val_loss: 0.5961 - val_accuracy: 0.0106\n",
            "Epoch 14/50\n",
            "166/167 [============================>.] - ETA: 0s - loss: 0.6012 - accuracy: 0.0118\n",
            "Epoch 14: saving model to /content/checkpointsweights.hdf5\n",
            "167/167 [==============================] - 2s 13ms/step - loss: 0.6012 - accuracy: 0.0118 - val_loss: 0.5961 - val_accuracy: 0.0106\n",
            "Epoch 15/50\n",
            "167/167 [==============================] - ETA: 0s - loss: 0.6012 - accuracy: 0.0118\n",
            "Epoch 15: saving model to /content/checkpointsweights.hdf5\n",
            "167/167 [==============================] - 2s 14ms/step - loss: 0.6012 - accuracy: 0.0118 - val_loss: 0.5961 - val_accuracy: 0.0106\n",
            "Epoch 16/50\n",
            "165/167 [============================>.] - ETA: 0s - loss: 0.6012 - accuracy: 0.0118\n",
            "Epoch 16: saving model to /content/checkpointsweights.hdf5\n",
            "167/167 [==============================] - 2s 13ms/step - loss: 0.6012 - accuracy: 0.0119 - val_loss: 0.5960 - val_accuracy: 0.0106\n",
            "Epoch 17/50\n",
            "165/167 [============================>.] - ETA: 0s - loss: 0.6012 - accuracy: 0.0118\n",
            "Epoch 17: saving model to /content/checkpointsweights.hdf5\n",
            "167/167 [==============================] - 2s 13ms/step - loss: 0.6012 - accuracy: 0.0119 - val_loss: 0.5960 - val_accuracy: 0.0106\n",
            "Epoch 18/50\n",
            "163/167 [============================>.] - ETA: 0s - loss: 0.6012 - accuracy: 0.0116\n",
            "Epoch 18: saving model to /content/checkpointsweights.hdf5\n",
            "167/167 [==============================] - 2s 14ms/step - loss: 0.6012 - accuracy: 0.0118 - val_loss: 0.5961 - val_accuracy: 0.0106\n",
            "Epoch 19/50\n",
            "164/167 [============================>.] - ETA: 0s - loss: 0.6012 - accuracy: 0.0118\n",
            "Epoch 19: saving model to /content/checkpointsweights.hdf5\n",
            "167/167 [==============================] - 2s 13ms/step - loss: 0.6012 - accuracy: 0.0118 - val_loss: 0.5961 - val_accuracy: 0.0106\n",
            "Epoch 20/50\n",
            "166/167 [============================>.] - ETA: 0s - loss: 0.6012 - accuracy: 0.0120\n",
            "Epoch 20: saving model to /content/checkpointsweights.hdf5\n",
            "167/167 [==============================] - 2s 14ms/step - loss: 0.6012 - accuracy: 0.0120 - val_loss: 0.5960 - val_accuracy: 0.0106\n",
            "Epoch 21/50\n",
            "166/167 [============================>.] - ETA: 0s - loss: 0.6011 - accuracy: 0.0120\n",
            "Epoch 21: saving model to /content/checkpointsweights.hdf5\n",
            "167/167 [==============================] - 2s 14ms/step - loss: 0.6011 - accuracy: 0.0121 - val_loss: 0.5959 - val_accuracy: 0.0106\n",
            "Epoch 22/50\n",
            "164/167 [============================>.] - ETA: 0s - loss: 0.6012 - accuracy: 0.0122\n",
            "Epoch 22: saving model to /content/checkpointsweights.hdf5\n",
            "167/167 [==============================] - 2s 13ms/step - loss: 0.6012 - accuracy: 0.0122 - val_loss: 0.5959 - val_accuracy: 0.0106\n",
            "Epoch 23/50\n",
            "164/167 [============================>.] - ETA: 0s - loss: 0.6011 - accuracy: 0.0121\n",
            "Epoch 23: saving model to /content/checkpointsweights.hdf5\n",
            "167/167 [==============================] - 2s 13ms/step - loss: 0.6011 - accuracy: 0.0121 - val_loss: 0.5959 - val_accuracy: 0.0106\n",
            "Epoch 24/50\n",
            "164/167 [============================>.] - ETA: 0s - loss: 0.6011 - accuracy: 0.0121\n",
            "Epoch 24: saving model to /content/checkpointsweights.hdf5\n",
            "167/167 [==============================] - 2s 13ms/step - loss: 0.6011 - accuracy: 0.0121 - val_loss: 0.5959 - val_accuracy: 0.0106\n",
            "Epoch 25/50\n",
            "167/167 [==============================] - ETA: 0s - loss: 0.6011 - accuracy: 0.0121\n",
            "Epoch 25: saving model to /content/checkpointsweights.hdf5\n",
            "167/167 [==============================] - 2s 13ms/step - loss: 0.6011 - accuracy: 0.0121 - val_loss: 0.5959 - val_accuracy: 0.0106\n",
            "Epoch 26/50\n",
            "166/167 [============================>.] - ETA: 0s - loss: 0.6012 - accuracy: 0.0120\n",
            "Epoch 26: saving model to /content/checkpointsweights.hdf5\n",
            "167/167 [==============================] - 2s 14ms/step - loss: 0.6012 - accuracy: 0.0120 - val_loss: 0.5959 - val_accuracy: 0.0106\n",
            "Epoch 27/50\n",
            "165/167 [============================>.] - ETA: 0s - loss: 0.6011 - accuracy: 0.0121\n",
            "Epoch 27: saving model to /content/checkpointsweights.hdf5\n",
            "167/167 [==============================] - 2s 13ms/step - loss: 0.6011 - accuracy: 0.0121 - val_loss: 0.5959 - val_accuracy: 0.0106\n",
            "Epoch 28/50\n",
            "164/167 [============================>.] - ETA: 0s - loss: 0.6010 - accuracy: 0.0126\n",
            "Epoch 28: saving model to /content/checkpointsweights.hdf5\n",
            "167/167 [==============================] - 2s 13ms/step - loss: 0.6010 - accuracy: 0.0126 - val_loss: 0.5959 - val_accuracy: 0.0106\n",
            "Epoch 29/50\n",
            "164/167 [============================>.] - ETA: 0s - loss: 0.6010 - accuracy: 0.0125\n",
            "Epoch 29: saving model to /content/checkpointsweights.hdf5\n",
            "167/167 [==============================] - 2s 13ms/step - loss: 0.6010 - accuracy: 0.0124 - val_loss: 0.5959 - val_accuracy: 0.0106\n",
            "Epoch 30/50\n",
            "164/167 [============================>.] - ETA: 0s - loss: 0.6010 - accuracy: 0.0124\n",
            "Epoch 30: saving model to /content/checkpointsweights.hdf5\n",
            "167/167 [==============================] - 2s 13ms/step - loss: 0.6010 - accuracy: 0.0123 - val_loss: 0.5959 - val_accuracy: 0.0106\n",
            "Epoch 31/50\n",
            "165/167 [============================>.] - ETA: 0s - loss: 0.6010 - accuracy: 0.0123\n",
            "Epoch 31: saving model to /content/checkpointsweights.hdf5\n",
            "167/167 [==============================] - 2s 14ms/step - loss: 0.6010 - accuracy: 0.0123 - val_loss: 0.5959 - val_accuracy: 0.0106\n",
            "Epoch 32/50\n",
            "163/167 [============================>.] - ETA: 0s - loss: 0.6010 - accuracy: 0.0126\n",
            "Epoch 32: saving model to /content/checkpointsweights.hdf5\n",
            "167/167 [==============================] - 2s 13ms/step - loss: 0.6010 - accuracy: 0.0125 - val_loss: 0.5959 - val_accuracy: 0.0106\n",
            "Epoch 33/50\n",
            "165/167 [============================>.] - ETA: 0s - loss: 0.6010 - accuracy: 0.0123\n",
            "Epoch 33: saving model to /content/checkpointsweights.hdf5\n",
            "167/167 [==============================] - 2s 13ms/step - loss: 0.6010 - accuracy: 0.0123 - val_loss: 0.5959 - val_accuracy: 0.0106\n",
            "Epoch 34/50\n",
            "166/167 [============================>.] - ETA: 0s - loss: 0.6010 - accuracy: 0.0125\n",
            "Epoch 34: saving model to /content/checkpointsweights.hdf5\n",
            "167/167 [==============================] - 2s 13ms/step - loss: 0.6010 - accuracy: 0.0125 - val_loss: 0.5959 - val_accuracy: 0.0106\n",
            "Epoch 35/50\n",
            "164/167 [============================>.] - ETA: 0s - loss: 0.6010 - accuracy: 0.0123\n",
            "Epoch 35: saving model to /content/checkpointsweights.hdf5\n",
            "167/167 [==============================] - 2s 13ms/step - loss: 0.6010 - accuracy: 0.0124 - val_loss: 0.5959 - val_accuracy: 0.0106\n",
            "Epoch 36/50\n",
            "167/167 [==============================] - ETA: 0s - loss: 0.6010 - accuracy: 0.0123\n",
            "Epoch 36: saving model to /content/checkpointsweights.hdf5\n",
            "167/167 [==============================] - 2s 14ms/step - loss: 0.6010 - accuracy: 0.0123 - val_loss: 0.5959 - val_accuracy: 0.0106\n",
            "Epoch 37/50\n",
            "164/167 [============================>.] - ETA: 0s - loss: 0.6010 - accuracy: 0.0126\n",
            "Epoch 37: saving model to /content/checkpointsweights.hdf5\n",
            "167/167 [==============================] - 2s 14ms/step - loss: 0.6010 - accuracy: 0.0125 - val_loss: 0.5959 - val_accuracy: 0.0106\n",
            "Epoch 38/50\n",
            "163/167 [============================>.] - ETA: 0s - loss: 0.6010 - accuracy: 0.0123\n",
            "Epoch 38: saving model to /content/checkpointsweights.hdf5\n",
            "167/167 [==============================] - 2s 13ms/step - loss: 0.6010 - accuracy: 0.0123 - val_loss: 0.5959 - val_accuracy: 0.0106\n",
            "Epoch 39/50\n",
            "166/167 [============================>.] - ETA: 0s - loss: 0.6010 - accuracy: 0.0123\n",
            "Epoch 39: saving model to /content/checkpointsweights.hdf5\n",
            "167/167 [==============================] - 2s 13ms/step - loss: 0.6010 - accuracy: 0.0123 - val_loss: 0.5959 - val_accuracy: 0.0106\n",
            "Epoch 40/50\n",
            "165/167 [============================>.] - ETA: 0s - loss: 0.6010 - accuracy: 0.0125\n",
            "Epoch 40: saving model to /content/checkpointsweights.hdf5\n",
            "167/167 [==============================] - 2s 13ms/step - loss: 0.6010 - accuracy: 0.0125 - val_loss: 0.5959 - val_accuracy: 0.0106\n",
            "Epoch 41/50\n",
            "167/167 [==============================] - ETA: 0s - loss: 0.6010 - accuracy: 0.0123\n",
            "Epoch 41: saving model to /content/checkpointsweights.hdf5\n",
            "167/167 [==============================] - 2s 13ms/step - loss: 0.6010 - accuracy: 0.0123 - val_loss: 0.5959 - val_accuracy: 0.0106\n",
            "Epoch 42/50\n",
            "167/167 [==============================] - ETA: 0s - loss: 0.6010 - accuracy: 0.0125\n",
            "Epoch 42: saving model to /content/checkpointsweights.hdf5\n",
            "167/167 [==============================] - 2s 14ms/step - loss: 0.6010 - accuracy: 0.0125 - val_loss: 0.5959 - val_accuracy: 0.0106\n",
            "Epoch 43/50\n",
            "163/167 [============================>.] - ETA: 0s - loss: 0.6010 - accuracy: 0.0124\n",
            "Epoch 43: saving model to /content/checkpointsweights.hdf5\n",
            "167/167 [==============================] - 2s 14ms/step - loss: 0.6010 - accuracy: 0.0123 - val_loss: 0.5959 - val_accuracy: 0.0106\n",
            "Epoch 44/50\n",
            "163/167 [============================>.] - ETA: 0s - loss: 0.6010 - accuracy: 0.0125\n",
            "Epoch 44: saving model to /content/checkpointsweights.hdf5\n",
            "167/167 [==============================] - 2s 14ms/step - loss: 0.6010 - accuracy: 0.0125 - val_loss: 0.5959 - val_accuracy: 0.0106\n",
            "Epoch 45/50\n",
            "164/167 [============================>.] - ETA: 0s - loss: 0.6010 - accuracy: 0.0125\n",
            "Epoch 45: saving model to /content/checkpointsweights.hdf5\n",
            "167/167 [==============================] - 2s 14ms/step - loss: 0.6010 - accuracy: 0.0124 - val_loss: 0.5959 - val_accuracy: 0.0106\n",
            "Epoch 46/50\n",
            "164/167 [============================>.] - ETA: 0s - loss: 0.6010 - accuracy: 0.0121\n",
            "Epoch 46: saving model to /content/checkpointsweights.hdf5\n",
            "167/167 [==============================] - 2s 14ms/step - loss: 0.6010 - accuracy: 0.0122 - val_loss: 0.5959 - val_accuracy: 0.0106\n",
            "Epoch 47/50\n",
            "164/167 [============================>.] - ETA: 0s - loss: 0.6010 - accuracy: 0.0123\n",
            "Epoch 47: saving model to /content/checkpointsweights.hdf5\n",
            "167/167 [==============================] - 2s 14ms/step - loss: 0.6010 - accuracy: 0.0124 - val_loss: 0.5959 - val_accuracy: 0.0106\n",
            "Epoch 48/50\n",
            "166/167 [============================>.] - ETA: 0s - loss: 0.6010 - accuracy: 0.0126\n",
            "Epoch 48: saving model to /content/checkpointsweights.hdf5\n",
            "167/167 [==============================] - 2s 14ms/step - loss: 0.6010 - accuracy: 0.0125 - val_loss: 0.5959 - val_accuracy: 0.0106\n",
            "Epoch 49/50\n",
            "164/167 [============================>.] - ETA: 0s - loss: 0.6010 - accuracy: 0.0125\n",
            "Epoch 49: saving model to /content/checkpointsweights.hdf5\n",
            "167/167 [==============================] - 2s 13ms/step - loss: 0.6010 - accuracy: 0.0124 - val_loss: 0.5959 - val_accuracy: 0.0106\n",
            "Epoch 50/50\n",
            "163/167 [============================>.] - ETA: 0s - loss: 0.6010 - accuracy: 0.0123\n",
            "Epoch 50: saving model to /content/checkpointsweights.hdf5\n",
            "167/167 [==============================] - 2s 13ms/step - loss: 0.6010 - accuracy: 0.0123 - val_loss: 0.5959 - val_accuracy: 0.0106\n"
          ]
        },
        {
          "output_type": "display_data",
          "data": {
            "text/plain": [
              "<Figure size 1000x500 with 2 Axes>"
            ],
            "image/png": "[encoded data removed]"
          },
          "metadata": {}
        }
      ]
    },
    {
      "cell_type": "code",
      "source": [
        "#model = load_model(\"/content/checkpoints\" + \"chweights.hdf5\")\n",
        "# model = load_model(\"/content/checkpointsweights.hdf5\")\n",
        "model.load_weights('/content/checkpointsweights.hdf5')\n",
        "model.compile(optimizer='adam', loss='binary_crossentropy', metrics=['accuracy'])\n",
        "\n",
        "# model.load_weights('/content/weights.hdf5')\n",
        "TP = 0\n",
        "FP = 0\n",
        "FN = 0"
      ],
      "metadata": {
        "id": "oXjFIlpGyixh"
      },
      "execution_count": null,
      "outputs": []
    },
    {
      "cell_type": "code",
      "source": [
        "X_test = np.array(norm_train2mat_test)\n",
        "y_test = np.array(labels2mat_test)\n",
        "max_shape = (X_test.shape[0]//size_samples)*size_samples\n",
        "X_test = np.reshape(X_test[0:max_shape,:],(X_test.shape[0]//size_samples,size_samples,input_size))\n",
        "y_test = np.reshape(y_test[0:max_shape,:],(y_test.shape[0]//size_samples,size_samples,number_classes))\n"
      ],
      "metadata": {
        "id": "LIVasyitx2Pw"
      },
      "execution_count": null,
      "outputs": []
    },
    {
      "cell_type": "code",
      "source": [
        "# predictions = model.predict(X_test, batch_size=mini_batch_size, verbose = 1)\n",
        "predictions = model.predict(X_test).round()\n",
        "predictions = np.reshape(predictions,(y_test.shape[0]*y_test.shape[1],y_test.shape[2]))\n",
        "\n",
        "y_test= np.reshape(y_test,(y_test.shape[0]*y_test.shape[1],y_test.shape[2]))\n",
        "# predictions = np.array(predictions).round()\n",
        "# predictions[predictions > 1] = 1\n",
        "\n",
        "# predictions = np.reshape(predictions,(y_test.shape[0]*y_test.shape[1],y_test.shape[2]))\n",
        "# y_test = np.reshape(y_test,(y_test.shape[0]*y_test.shape[1],y_test.shape[2]))\n",
        "# predictions = np.array(predictions).round()\n",
        "# predictions[predictions > 1] = 1\n",
        "# np.save('{}predictions'.format(\"/content/checkpoints\"), predictions)\n",
        "print(predictions)"
      ],
      "metadata": {
        "colab": {
          "base_uri": "https://localhost:8080/"
        },
        "id": "G4ruuj8JyuIq",
        "outputId": "e9cf7c96-ee26-4ce1-a988-a1951b076209"
      },
      "execution_count": null,
      "outputs": [
        {
          "output_type": "stream",
          "name": "stdout",
          "text": [
            "44/44 [==============================] - 1s 7ms/step\n",
            "[[0. 0. 1. ... 0. 0. 0.]\n",
            " [0. 0. 1. ... 0. 0. 0.]\n",
            " [0. 0. 1. ... 0. 0. 0.]\n",
            " ...\n",
            " [0. 0. 1. ... 0. 0. 0.]\n",
            " [0. 0. 1. ... 0. 0. 0.]\n",
            " [0. 0. 1. ... 0. 0. 0.]]\n"
          ]
        }
      ]
    },
    {
      "cell_type": "code",
      "execution_count": null,
      "metadata": {
        "id": "pXef7N6oE4Vo",
        "colab": {
          "base_uri": "https://localhost:8080/"
        },
        "outputId": "25d29dd4-80a4-4c62-9018-cdcae54a4857"
      },
      "outputs": [
        {
          "output_type": "stream",
          "name": "stdout",
          "text": [
            "Calculating accuracy after cleaning. . .\n",
            "\n",
            " F-measure post-processed: \n",
            "5.229098602831696\n",
            "\n",
            " Accuracy post-processed: \n",
            "2.6847432369626643\n"
          ]
        }
      ],
      "source": [
        "# for a in range(predictions.shape[1]):\n",
        "#     for j in range(2,predictions.shape[0]-3):\n",
        "#         if predictions[j-1,a] == 1 and predictions[j,a] == 0 and predictions[j+1,a] == 0 and predictions[j+2,a] == 1:\n",
        "#             predictions[j,a] = 1\n",
        "#             predictions[j+1,a] = 1\n",
        "#         if predictions[j-2,a] == 0 and predictions[j-1,a] == 0 and predictions[j,a] == 1 and predictions[j+1,a] == 1 and predictions[j+2,a] == 0 and predictions[j+3,a] == 0:\n",
        "#             predictions[j,a] = 0\n",
        "#             predictions[j+1,a] = 0\n",
        "#         if predictions[j-1,a] == 0 and predictions[j,a] == 1 and predictions[j+1,a] == 0 and predictions[j+2,a] == 0:\n",
        "#             predictions[j,a] = 0\n",
        "#         if predictions[j-1,a] == 1 and predictions[j,a] == 0 and predictions[j+1,a] == 1 and predictions[j+2,a] == 1:\n",
        "#             predictions[j,a] = 1\n",
        "\n",
        "print(\"Calculating accuracy after cleaning. . .\")\n",
        "TP = np.count_nonzero(np.logical_and( predictions == 1, y_test == 1 ))\n",
        "FN = np.count_nonzero(np.logical_and( predictions == 0, y_test == 1 ))\n",
        "FP = np.count_nonzero(np.logical_and( predictions == 1, y_test == 0 ))\n",
        "if (TP + FN) > 0:\n",
        "    R = TP/float(TP + FN)\n",
        "    P = TP/float(TP + FP)\n",
        "    A = 100*TP/float(TP + FP + FN)\n",
        "    if P == 0 and R == 0:\n",
        "      F = 0\n",
        "    else:\n",
        "      F = 100*2*P*R/(P + R)\n",
        "else:\n",
        "    A = 0\n",
        "    F = 0\n",
        "    R = 0\n",
        "    P = 0\n",
        "\n",
        "print('\\n F-measure post-processed: ')\n",
        "print(F)\n",
        "print('\\n Accuracy post-processed: ')\n",
        "print(A)"
      ]
    },
    {
      "cell_type": "code",
      "source": [
        "print('\\n F-measure: ')\n",
        "print(F)\n",
        "print('\\n Custom Accuracy: ')\n",
        "print(A)\n",
        "print(\"Recall\", R)\n",
        "print(\"Precision\", P)"
      ],
      "metadata": {
        "colab": {
          "base_uri": "https://localhost:8080/"
        },
        "id": "MvQorrGQzbMX",
        "outputId": "e543f2b0-f6a5-4798-8664-8e8c26e276a4"
      },
      "execution_count": null,
      "outputs": [
        {
          "output_type": "stream",
          "name": "stdout",
          "text": [
            "\n",
            " F-measure: \n",
            "4.077925770023947\n",
            "\n",
            " Custom Accuracy: \n",
            "2.0814018971834796\n",
            "Recall 0.2795461064245272\n",
            "Precision 0.02199382168580246\n"
          ]
        }
      ]
    },
    {
      "cell_type": "code",
      "execution_count": null,
      "metadata": {
        "id": "qQWVbxmmy0So"
      },
      "outputs": [],
      "source": [
        "'''###### TRAIN 1: DNN - 3 layers - 150 unis per layer ######'''\n",
        "\n",
        "import numpy as np\n",
        "import os\n",
        "import os.path\n",
        "import sys\n",
        "\n",
        "# We need to set the random seed so that we get ther same results with the same parameters\n",
        "np.random.seed(400)\n",
        "\n",
        "# Import keras main libraries\n",
        "from keras.preprocessing import sequence\n",
        "from keras.models import Sequential\n",
        "from keras.layers import Dense,LSTM,Dropout, Activation, Masking\n",
        "from keras.regularizers import l2\n",
        "from keras import callbacks\n",
        "from keras.callbacks import History, ModelCheckpoint, EarlyStopping\n",
        "import tensorflow as tf\n",
        "from keras.optimizers import Adam\n",
        "import keras"
      ]
    },
    {
      "cell_type": "code",
      "source": [
        "!pip install tensorflow_addons"
      ],
      "metadata": {
        "colab": {
          "base_uri": "https://localhost:8080/"
        },
        "id": "EOFenWQ0dxpx",
        "outputId": "1e4f9ba4-c390-4d11-f380-575ea98bcd89"
      },
      "execution_count": null,
      "outputs": [
        {
          "output_type": "stream",
          "name": "stdout",
          "text": [
            "Requirement already satisfied: tensorflow_addons in /usr/local/lib/python3.10/dist-packages (0.23.0)\n",
            "Requirement already satisfied: packaging in /usr/local/lib/python3.10/dist-packages (from tensorflow_addons) (24.0)\n",
            "Requirement already satisfied: typeguard<3.0.0,>=2.7 in /usr/local/lib/python3.10/dist-packages (from tensorflow_addons) (2.13.3)\n"
          ]
        }
      ]
    },
    {
      "cell_type": "code",
      "source": [
        "from tensorflow_addons.optimizers import CyclicalLearningRate"
      ],
      "metadata": {
        "id": "bD0QeBZIdvZq",
        "colab": {
          "base_uri": "https://localhost:8080/"
        },
        "outputId": "76f5013c-a7cf-4bda-b26a-e157bd60636e"
      },
      "execution_count": null,
      "outputs": [
        {
          "output_type": "stream",
          "name": "stderr",
          "text": [
            "/usr/local/lib/python3.10/dist-packages/tensorflow_addons/utils/tfa_eol_msg.py:23: UserWarning: \n",
            "\n",
            "TensorFlow Addons (TFA) has ended development and introduction of new features.\n",
            "TFA has entered a minimal maintenance and release mode until a planned end of life in May 2024.\n",
            "Please modify downstream libraries to take dependencies from other repositories in our TensorFlow community (e.g. Keras, Keras-CV, and Keras-NLP). \n",
            "\n",
            "For more information see: https://github.com/tensorflow/addons/issues/2807 \n",
            "\n",
            "  warnings.warn(\n"
          ]
        }
      ]
    },
    {
      "cell_type": "code",
      "execution_count": null,
      "metadata": {
        "id": "goJO4hgbrPRD"
      },
      "outputs": [],
      "source": [
        "def custom_metric(y_true, y_pred):\n",
        "    # Calculate True Positives (TP), False Positives (FP), and False Negatives (FN)\n",
        "    TP = tf.reduce_sum(tf.cast(tf.logical_and(tf.equal(y_true, 1), tf.equal(tf.round(y_pred), 1)), dtype=tf.float32))\n",
        "    FP = tf.reduce_sum(tf.cast(tf.logical_and(tf.equal(y_true, 0), tf.equal(tf.round(y_pred), 1)), dtype=tf.float32))\n",
        "    FN = tf.reduce_sum(tf.cast(tf.logical_and(tf.equal(y_true, 1), tf.equal(tf.round(y_pred), 0)), dtype=tf.float32))\n",
        "\n",
        "    # Calculate the custom metric\n",
        "    custom_metric_value = TP / tf.cast(TP + FP + FN, dtype=tf.float32)\n",
        "\n",
        "    return custom_metric_value"
      ]
    },
    {
      "cell_type": "code",
      "source": [
        "from tensorflow.keras.backend import clear_session\n",
        "clear_session()"
      ],
      "metadata": {
        "id": "0oFcEznvlFco"
      },
      "execution_count": null,
      "outputs": []
    },
    {
      "cell_type": "code",
      "execution_count": null,
      "metadata": {
        "colab": {
          "base_uri": "https://localhost:8080/",
          "height": 478
        },
        "id": "b-73MJ0dXhFI",
        "outputId": "66fd28cb-38c6-4505-a9db-88cdb332e558"
      },
      "outputs": [
        {
          "output_type": "stream",
          "name": "stdout",
          "text": [
            "Loading Training Data\n",
            "Adding 2layer of256 units\n",
            "Adding 3layer of256 units\n",
            " Adding classification layer\n",
            "Epoch 1/10\n"
          ]
        },
        {
          "output_type": "error",
          "ename": "KeyboardInterrupt",
          "evalue": "",
          "traceback": [
            "\u001b[0;31m---------------------------------------------------------------------------\u001b[0m",
            "\u001b[0;31mKeyboardInterrupt\u001b[0m                         Traceback (most recent call last)",
            "\u001b[0;32m<ipython-input-115-f084d31e3962>\u001b[0m in \u001b[0;36m<cell line: 70>\u001b[0;34m()\u001b[0m\n\u001b[1;32m     68\u001b[0m \u001b[0mtraining_log\u001b[0m \u001b[0;34m=\u001b[0m \u001b[0mopen\u001b[0m\u001b[0;34m(\u001b[0m\u001b[0;34m\"/content/checkpoints\"\u001b[0m \u001b[0;34m+\u001b[0m \u001b[0;34m\"Training.log\"\u001b[0m\u001b[0;34m,\u001b[0m \u001b[0;34m\"w\"\u001b[0m\u001b[0;34m)\u001b[0m\u001b[0;34m\u001b[0m\u001b[0;34m\u001b[0m\u001b[0m\n\u001b[1;32m     69\u001b[0m \u001b[0;34m\u001b[0m\u001b[0m\n\u001b[0;32m---> 70\u001b[0;31m \u001b[0msave\u001b[0m \u001b[0;34m=\u001b[0m \u001b[0mmodel\u001b[0m\u001b[0;34m.\u001b[0m\u001b[0mfit\u001b[0m\u001b[0;34m(\u001b[0m\u001b[0mX_train\u001b[0m\u001b[0;34m,\u001b[0m \u001b[0my_train\u001b[0m\u001b[0;34m,\u001b[0m\u001b[0mepochs\u001b[0m \u001b[0;34m=\u001b[0m \u001b[0mnum_epochs\u001b[0m\u001b[0;34m,\u001b[0m\u001b[0mverbose\u001b[0m\u001b[0;34m=\u001b[0m\u001b[0;36m1\u001b[0m\u001b[0;34m,\u001b[0m\u001b[0mvalidation_data\u001b[0m\u001b[0;34m=\u001b[0m\u001b[0;34m(\u001b[0m\u001b[0mX_val\u001b[0m\u001b[0;34m,\u001b[0m \u001b[0my_val\u001b[0m\u001b[0;34m)\u001b[0m\u001b[0;34m,\u001b[0m \u001b[0mcallbacks\u001b[0m\u001b[0;34m=\u001b[0m\u001b[0;34m[\u001b[0m\u001b[0mcheckpointer\u001b[0m\u001b[0;34m,\u001b[0m\u001b[0mearly\u001b[0m\u001b[0;34m]\u001b[0m\u001b[0;34m)\u001b[0m\u001b[0;34m\u001b[0m\u001b[0;34m\u001b[0m\u001b[0m\n\u001b[0m\u001b[1;32m     71\u001b[0m \u001b[0mtraining_log\u001b[0m\u001b[0;34m.\u001b[0m\u001b[0mwrite\u001b[0m\u001b[0;34m(\u001b[0m\u001b[0mstr\u001b[0m\u001b[0;34m(\u001b[0m\u001b[0msave\u001b[0m\u001b[0;34m.\u001b[0m\u001b[0mhistory\u001b[0m\u001b[0;34m)\u001b[0m \u001b[0;34m+\u001b[0m \u001b[0;34m\"\\n\"\u001b[0m\u001b[0;34m)\u001b[0m\u001b[0;34m\u001b[0m\u001b[0;34m\u001b[0m\u001b[0m\n\u001b[1;32m     72\u001b[0m \u001b[0mtraining_log\u001b[0m\u001b[0;34m.\u001b[0m\u001b[0mclose\u001b[0m\u001b[0;34m(\u001b[0m\u001b[0;34m)\u001b[0m\u001b[0;34m\u001b[0m\u001b[0;34m\u001b[0m\u001b[0m\n",
            "\u001b[0;32m/usr/local/lib/python3.10/dist-packages/keras/src/utils/traceback_utils.py\u001b[0m in \u001b[0;36merror_handler\u001b[0;34m(*args, **kwargs)\u001b[0m\n\u001b[1;32m     63\u001b[0m         \u001b[0mfiltered_tb\u001b[0m \u001b[0;34m=\u001b[0m \u001b[0;32mNone\u001b[0m\u001b[0;34m\u001b[0m\u001b[0;34m\u001b[0m\u001b[0m\n\u001b[1;32m     64\u001b[0m         \u001b[0;32mtry\u001b[0m\u001b[0;34m:\u001b[0m\u001b[0;34m\u001b[0m\u001b[0;34m\u001b[0m\u001b[0m\n\u001b[0;32m---> 65\u001b[0;31m             \u001b[0;32mreturn\u001b[0m \u001b[0mfn\u001b[0m\u001b[0;34m(\u001b[0m\u001b[0;34m*\u001b[0m\u001b[0margs\u001b[0m\u001b[0;34m,\u001b[0m \u001b[0;34m**\u001b[0m\u001b[0mkwargs\u001b[0m\u001b[0;34m)\u001b[0m\u001b[0;34m\u001b[0m\u001b[0;34m\u001b[0m\u001b[0m\n\u001b[0m\u001b[1;32m     66\u001b[0m         \u001b[0;32mexcept\u001b[0m \u001b[0mException\u001b[0m \u001b[0;32mas\u001b[0m \u001b[0me\u001b[0m\u001b[0;34m:\u001b[0m\u001b[0;34m\u001b[0m\u001b[0;34m\u001b[0m\u001b[0m\n\u001b[1;32m     67\u001b[0m             \u001b[0mfiltered_tb\u001b[0m \u001b[0;34m=\u001b[0m \u001b[0m_process_traceback_frames\u001b[0m\u001b[0;34m(\u001b[0m\u001b[0me\u001b[0m\u001b[0;34m.\u001b[0m\u001b[0m__traceback__\u001b[0m\u001b[0;34m)\u001b[0m\u001b[0;34m\u001b[0m\u001b[0;34m\u001b[0m\u001b[0m\n",
            "\u001b[0;32m/usr/local/lib/python3.10/dist-packages/keras/src/engine/training.py\u001b[0m in \u001b[0;36mfit\u001b[0;34m(self, x, y, batch_size, epochs, verbose, callbacks, validation_split, validation_data, shuffle, class_weight, sample_weight, initial_epoch, steps_per_epoch, validation_steps, validation_batch_size, validation_freq, max_queue_size, workers, use_multiprocessing)\u001b[0m\n\u001b[1;32m   1805\u001b[0m                         ):\n\u001b[1;32m   1806\u001b[0m                             \u001b[0mcallbacks\u001b[0m\u001b[0;34m.\u001b[0m\u001b[0mon_train_batch_begin\u001b[0m\u001b[0;34m(\u001b[0m\u001b[0mstep\u001b[0m\u001b[0;34m)\u001b[0m\u001b[0;34m\u001b[0m\u001b[0;34m\u001b[0m\u001b[0m\n\u001b[0;32m-> 1807\u001b[0;31m                             \u001b[0mtmp_logs\u001b[0m \u001b[0;34m=\u001b[0m \u001b[0mself\u001b[0m\u001b[0;34m.\u001b[0m\u001b[0mtrain_function\u001b[0m\u001b[0;34m(\u001b[0m\u001b[0miterator\u001b[0m\u001b[0;34m)\u001b[0m\u001b[0;34m\u001b[0m\u001b[0;34m\u001b[0m\u001b[0m\n\u001b[0m\u001b[1;32m   1808\u001b[0m                             \u001b[0;32mif\u001b[0m \u001b[0mdata_handler\u001b[0m\u001b[0;34m.\u001b[0m\u001b[0mshould_sync\u001b[0m\u001b[0;34m:\u001b[0m\u001b[0;34m\u001b[0m\u001b[0;34m\u001b[0m\u001b[0m\n\u001b[1;32m   1809\u001b[0m                                 \u001b[0mcontext\u001b[0m\u001b[0;34m.\u001b[0m\u001b[0masync_wait\u001b[0m\u001b[0;34m(\u001b[0m\u001b[0;34m)\u001b[0m\u001b[0;34m\u001b[0m\u001b[0;34m\u001b[0m\u001b[0m\n",
            "\u001b[0;32m/usr/local/lib/python3.10/dist-packages/tensorflow/python/util/traceback_utils.py\u001b[0m in \u001b[0;36merror_handler\u001b[0;34m(*args, **kwargs)\u001b[0m\n\u001b[1;32m    148\u001b[0m     \u001b[0mfiltered_tb\u001b[0m \u001b[0;34m=\u001b[0m \u001b[0;32mNone\u001b[0m\u001b[0;34m\u001b[0m\u001b[0;34m\u001b[0m\u001b[0m\n\u001b[1;32m    149\u001b[0m     \u001b[0;32mtry\u001b[0m\u001b[0;34m:\u001b[0m\u001b[0;34m\u001b[0m\u001b[0;34m\u001b[0m\u001b[0m\n\u001b[0;32m--> 150\u001b[0;31m       \u001b[0;32mreturn\u001b[0m \u001b[0mfn\u001b[0m\u001b[0;34m(\u001b[0m\u001b[0;34m*\u001b[0m\u001b[0margs\u001b[0m\u001b[0;34m,\u001b[0m \u001b[0;34m**\u001b[0m\u001b[0mkwargs\u001b[0m\u001b[0;34m)\u001b[0m\u001b[0;34m\u001b[0m\u001b[0;34m\u001b[0m\u001b[0m\n\u001b[0m\u001b[1;32m    151\u001b[0m     \u001b[0;32mexcept\u001b[0m \u001b[0mException\u001b[0m \u001b[0;32mas\u001b[0m \u001b[0me\u001b[0m\u001b[0;34m:\u001b[0m\u001b[0;34m\u001b[0m\u001b[0;34m\u001b[0m\u001b[0m\n\u001b[1;32m    152\u001b[0m       \u001b[0mfiltered_tb\u001b[0m \u001b[0;34m=\u001b[0m \u001b[0m_process_traceback_frames\u001b[0m\u001b[0;34m(\u001b[0m\u001b[0me\u001b[0m\u001b[0;34m.\u001b[0m\u001b[0m__traceback__\u001b[0m\u001b[0;34m)\u001b[0m\u001b[0;34m\u001b[0m\u001b[0;34m\u001b[0m\u001b[0m\n",
            "\u001b[0;32m/usr/local/lib/python3.10/dist-packages/tensorflow/python/eager/polymorphic_function/polymorphic_function.py\u001b[0m in \u001b[0;36m__call__\u001b[0;34m(self, *args, **kwds)\u001b[0m\n\u001b[1;32m    830\u001b[0m \u001b[0;34m\u001b[0m\u001b[0m\n\u001b[1;32m    831\u001b[0m       \u001b[0;32mwith\u001b[0m \u001b[0mOptionalXlaContext\u001b[0m\u001b[0;34m(\u001b[0m\u001b[0mself\u001b[0m\u001b[0;34m.\u001b[0m\u001b[0m_jit_compile\u001b[0m\u001b[0;34m)\u001b[0m\u001b[0;34m:\u001b[0m\u001b[0;34m\u001b[0m\u001b[0;34m\u001b[0m\u001b[0m\n\u001b[0;32m--> 832\u001b[0;31m         \u001b[0mresult\u001b[0m \u001b[0;34m=\u001b[0m \u001b[0mself\u001b[0m\u001b[0;34m.\u001b[0m\u001b[0m_call\u001b[0m\u001b[0;34m(\u001b[0m\u001b[0;34m*\u001b[0m\u001b[0margs\u001b[0m\u001b[0;34m,\u001b[0m \u001b[0;34m**\u001b[0m\u001b[0mkwds\u001b[0m\u001b[0;34m)\u001b[0m\u001b[0;34m\u001b[0m\u001b[0;34m\u001b[0m\u001b[0m\n\u001b[0m\u001b[1;32m    833\u001b[0m \u001b[0;34m\u001b[0m\u001b[0m\n\u001b[1;32m    834\u001b[0m       \u001b[0mnew_tracing_count\u001b[0m \u001b[0;34m=\u001b[0m \u001b[0mself\u001b[0m\u001b[0;34m.\u001b[0m\u001b[0mexperimental_get_tracing_count\u001b[0m\u001b[0;34m(\u001b[0m\u001b[0;34m)\u001b[0m\u001b[0;34m\u001b[0m\u001b[0;34m\u001b[0m\u001b[0m\n",
            "\u001b[0;32m/usr/local/lib/python3.10/dist-packages/tensorflow/python/eager/polymorphic_function/polymorphic_function.py\u001b[0m in \u001b[0;36m_call\u001b[0;34m(self, *args, **kwds)\u001b[0m\n\u001b[1;32m    903\u001b[0m         \u001b[0;31m# Lifting succeeded, so variables are initialized and we can run the\u001b[0m\u001b[0;34m\u001b[0m\u001b[0;34m\u001b[0m\u001b[0m\n\u001b[1;32m    904\u001b[0m         \u001b[0;31m# no_variable_creation function.\u001b[0m\u001b[0;34m\u001b[0m\u001b[0;34m\u001b[0m\u001b[0m\n\u001b[0;32m--> 905\u001b[0;31m         return tracing_compilation.call_function(\n\u001b[0m\u001b[1;32m    906\u001b[0m             \u001b[0margs\u001b[0m\u001b[0;34m,\u001b[0m \u001b[0mkwds\u001b[0m\u001b[0;34m,\u001b[0m \u001b[0mself\u001b[0m\u001b[0;34m.\u001b[0m\u001b[0m_no_variable_creation_config\u001b[0m\u001b[0;34m\u001b[0m\u001b[0;34m\u001b[0m\u001b[0m\n\u001b[1;32m    907\u001b[0m         )\n",
            "\u001b[0;32m/usr/local/lib/python3.10/dist-packages/tensorflow/python/eager/polymorphic_function/tracing_compilation.py\u001b[0m in \u001b[0;36mcall_function\u001b[0;34m(args, kwargs, tracing_options)\u001b[0m\n\u001b[1;32m    137\u001b[0m   \u001b[0mbound_args\u001b[0m \u001b[0;34m=\u001b[0m \u001b[0mfunction\u001b[0m\u001b[0;34m.\u001b[0m\u001b[0mfunction_type\u001b[0m\u001b[0;34m.\u001b[0m\u001b[0mbind\u001b[0m\u001b[0;34m(\u001b[0m\u001b[0;34m*\u001b[0m\u001b[0margs\u001b[0m\u001b[0;34m,\u001b[0m \u001b[0;34m**\u001b[0m\u001b[0mkwargs\u001b[0m\u001b[0;34m)\u001b[0m\u001b[0;34m\u001b[0m\u001b[0;34m\u001b[0m\u001b[0m\n\u001b[1;32m    138\u001b[0m   \u001b[0mflat_inputs\u001b[0m \u001b[0;34m=\u001b[0m \u001b[0mfunction\u001b[0m\u001b[0;34m.\u001b[0m\u001b[0mfunction_type\u001b[0m\u001b[0;34m.\u001b[0m\u001b[0munpack_inputs\u001b[0m\u001b[0;34m(\u001b[0m\u001b[0mbound_args\u001b[0m\u001b[0;34m)\u001b[0m\u001b[0;34m\u001b[0m\u001b[0;34m\u001b[0m\u001b[0m\n\u001b[0;32m--> 139\u001b[0;31m   return function._call_flat(  # pylint: disable=protected-access\n\u001b[0m\u001b[1;32m    140\u001b[0m       \u001b[0mflat_inputs\u001b[0m\u001b[0;34m,\u001b[0m \u001b[0mcaptured_inputs\u001b[0m\u001b[0;34m=\u001b[0m\u001b[0mfunction\u001b[0m\u001b[0;34m.\u001b[0m\u001b[0mcaptured_inputs\u001b[0m\u001b[0;34m\u001b[0m\u001b[0;34m\u001b[0m\u001b[0m\n\u001b[1;32m    141\u001b[0m   )\n",
            "\u001b[0;32m/usr/local/lib/python3.10/dist-packages/tensorflow/python/eager/polymorphic_function/concrete_function.py\u001b[0m in \u001b[0;36m_call_flat\u001b[0;34m(self, tensor_inputs, captured_inputs)\u001b[0m\n\u001b[1;32m   1321\u001b[0m         and executing_eagerly):\n\u001b[1;32m   1322\u001b[0m       \u001b[0;31m# No tape is watching; skip to running the function.\u001b[0m\u001b[0;34m\u001b[0m\u001b[0;34m\u001b[0m\u001b[0m\n\u001b[0;32m-> 1323\u001b[0;31m       \u001b[0;32mreturn\u001b[0m \u001b[0mself\u001b[0m\u001b[0;34m.\u001b[0m\u001b[0m_inference_function\u001b[0m\u001b[0;34m.\u001b[0m\u001b[0mcall_preflattened\u001b[0m\u001b[0;34m(\u001b[0m\u001b[0margs\u001b[0m\u001b[0;34m)\u001b[0m\u001b[0;34m\u001b[0m\u001b[0;34m\u001b[0m\u001b[0m\n\u001b[0m\u001b[1;32m   1324\u001b[0m     forward_backward = self._select_forward_and_backward_functions(\n\u001b[1;32m   1325\u001b[0m         \u001b[0margs\u001b[0m\u001b[0;34m,\u001b[0m\u001b[0;34m\u001b[0m\u001b[0;34m\u001b[0m\u001b[0m\n",
            "\u001b[0;32m/usr/local/lib/python3.10/dist-packages/tensorflow/python/eager/polymorphic_function/atomic_function.py\u001b[0m in \u001b[0;36mcall_preflattened\u001b[0;34m(self, args)\u001b[0m\n\u001b[1;32m    214\u001b[0m   \u001b[0;32mdef\u001b[0m \u001b[0mcall_preflattened\u001b[0m\u001b[0;34m(\u001b[0m\u001b[0mself\u001b[0m\u001b[0;34m,\u001b[0m \u001b[0margs\u001b[0m\u001b[0;34m:\u001b[0m \u001b[0mSequence\u001b[0m\u001b[0;34m[\u001b[0m\u001b[0mcore\u001b[0m\u001b[0;34m.\u001b[0m\u001b[0mTensor\u001b[0m\u001b[0;34m]\u001b[0m\u001b[0;34m)\u001b[0m \u001b[0;34m->\u001b[0m \u001b[0mAny\u001b[0m\u001b[0;34m:\u001b[0m\u001b[0;34m\u001b[0m\u001b[0;34m\u001b[0m\u001b[0m\n\u001b[1;32m    215\u001b[0m     \u001b[0;34m\"\"\"Calls with flattened tensor inputs and returns the structured output.\"\"\"\u001b[0m\u001b[0;34m\u001b[0m\u001b[0;34m\u001b[0m\u001b[0m\n\u001b[0;32m--> 216\u001b[0;31m     \u001b[0mflat_outputs\u001b[0m \u001b[0;34m=\u001b[0m \u001b[0mself\u001b[0m\u001b[0;34m.\u001b[0m\u001b[0mcall_flat\u001b[0m\u001b[0;34m(\u001b[0m\u001b[0;34m*\u001b[0m\u001b[0margs\u001b[0m\u001b[0;34m)\u001b[0m\u001b[0;34m\u001b[0m\u001b[0;34m\u001b[0m\u001b[0m\n\u001b[0m\u001b[1;32m    217\u001b[0m     \u001b[0;32mreturn\u001b[0m \u001b[0mself\u001b[0m\u001b[0;34m.\u001b[0m\u001b[0mfunction_type\u001b[0m\u001b[0;34m.\u001b[0m\u001b[0mpack_output\u001b[0m\u001b[0;34m(\u001b[0m\u001b[0mflat_outputs\u001b[0m\u001b[0;34m)\u001b[0m\u001b[0;34m\u001b[0m\u001b[0;34m\u001b[0m\u001b[0m\n\u001b[1;32m    218\u001b[0m \u001b[0;34m\u001b[0m\u001b[0m\n",
            "\u001b[0;32m/usr/local/lib/python3.10/dist-packages/tensorflow/python/eager/polymorphic_function/atomic_function.py\u001b[0m in \u001b[0;36mcall_flat\u001b[0;34m(self, *args)\u001b[0m\n\u001b[1;32m    249\u001b[0m         \u001b[0;32mwith\u001b[0m \u001b[0mrecord\u001b[0m\u001b[0;34m.\u001b[0m\u001b[0mstop_recording\u001b[0m\u001b[0;34m(\u001b[0m\u001b[0;34m)\u001b[0m\u001b[0;34m:\u001b[0m\u001b[0;34m\u001b[0m\u001b[0;34m\u001b[0m\u001b[0m\n\u001b[1;32m    250\u001b[0m           \u001b[0;32mif\u001b[0m \u001b[0mself\u001b[0m\u001b[0;34m.\u001b[0m\u001b[0m_bound_context\u001b[0m\u001b[0;34m.\u001b[0m\u001b[0mexecuting_eagerly\u001b[0m\u001b[0;34m(\u001b[0m\u001b[0;34m)\u001b[0m\u001b[0;34m:\u001b[0m\u001b[0;34m\u001b[0m\u001b[0;34m\u001b[0m\u001b[0m\n\u001b[0;32m--> 251\u001b[0;31m             outputs = self._bound_context.call_function(\n\u001b[0m\u001b[1;32m    252\u001b[0m                 \u001b[0mself\u001b[0m\u001b[0;34m.\u001b[0m\u001b[0mname\u001b[0m\u001b[0;34m,\u001b[0m\u001b[0;34m\u001b[0m\u001b[0;34m\u001b[0m\u001b[0m\n\u001b[1;32m    253\u001b[0m                 \u001b[0mlist\u001b[0m\u001b[0;34m(\u001b[0m\u001b[0margs\u001b[0m\u001b[0;34m)\u001b[0m\u001b[0;34m,\u001b[0m\u001b[0;34m\u001b[0m\u001b[0;34m\u001b[0m\u001b[0m\n",
            "\u001b[0;32m/usr/local/lib/python3.10/dist-packages/tensorflow/python/eager/context.py\u001b[0m in \u001b[0;36mcall_function\u001b[0;34m(self, name, tensor_inputs, num_outputs)\u001b[0m\n\u001b[1;32m   1484\u001b[0m     \u001b[0mcancellation_context\u001b[0m \u001b[0;34m=\u001b[0m \u001b[0mcancellation\u001b[0m\u001b[0;34m.\u001b[0m\u001b[0mcontext\u001b[0m\u001b[0;34m(\u001b[0m\u001b[0;34m)\u001b[0m\u001b[0;34m\u001b[0m\u001b[0;34m\u001b[0m\u001b[0m\n\u001b[1;32m   1485\u001b[0m     \u001b[0;32mif\u001b[0m \u001b[0mcancellation_context\u001b[0m \u001b[0;32mis\u001b[0m \u001b[0;32mNone\u001b[0m\u001b[0;34m:\u001b[0m\u001b[0;34m\u001b[0m\u001b[0;34m\u001b[0m\u001b[0m\n\u001b[0;32m-> 1486\u001b[0;31m       outputs = execute.execute(\n\u001b[0m\u001b[1;32m   1487\u001b[0m           \u001b[0mname\u001b[0m\u001b[0;34m.\u001b[0m\u001b[0mdecode\u001b[0m\u001b[0;34m(\u001b[0m\u001b[0;34m\"utf-8\"\u001b[0m\u001b[0;34m)\u001b[0m\u001b[0;34m,\u001b[0m\u001b[0;34m\u001b[0m\u001b[0;34m\u001b[0m\u001b[0m\n\u001b[1;32m   1488\u001b[0m           \u001b[0mnum_outputs\u001b[0m\u001b[0;34m=\u001b[0m\u001b[0mnum_outputs\u001b[0m\u001b[0;34m,\u001b[0m\u001b[0;34m\u001b[0m\u001b[0;34m\u001b[0m\u001b[0m\n",
            "\u001b[0;32m/usr/local/lib/python3.10/dist-packages/tensorflow/python/eager/execute.py\u001b[0m in \u001b[0;36mquick_execute\u001b[0;34m(op_name, num_outputs, inputs, attrs, ctx, name)\u001b[0m\n\u001b[1;32m     51\u001b[0m   \u001b[0;32mtry\u001b[0m\u001b[0;34m:\u001b[0m\u001b[0;34m\u001b[0m\u001b[0;34m\u001b[0m\u001b[0m\n\u001b[1;32m     52\u001b[0m     \u001b[0mctx\u001b[0m\u001b[0;34m.\u001b[0m\u001b[0mensure_initialized\u001b[0m\u001b[0;34m(\u001b[0m\u001b[0;34m)\u001b[0m\u001b[0;34m\u001b[0m\u001b[0;34m\u001b[0m\u001b[0m\n\u001b[0;32m---> 53\u001b[0;31m     tensors = pywrap_tfe.TFE_Py_Execute(ctx._handle, device_name, op_name,\n\u001b[0m\u001b[1;32m     54\u001b[0m                                         inputs, attrs, num_outputs)\n\u001b[1;32m     55\u001b[0m   \u001b[0;32mexcept\u001b[0m \u001b[0mcore\u001b[0m\u001b[0;34m.\u001b[0m\u001b[0m_NotOkStatusException\u001b[0m \u001b[0;32mas\u001b[0m \u001b[0me\u001b[0m\u001b[0;34m:\u001b[0m\u001b[0;34m\u001b[0m\u001b[0;34m\u001b[0m\u001b[0m\n",
            "\u001b[0;31mKeyboardInterrupt\u001b[0m: "
          ]
        }
      ],
      "source": [
        "mini_batch_size, num_epochs = 100, 10\n",
        "input_size = 252\n",
        "number_units = 256\n",
        "number_layers =3\n",
        "number_classes = 88\n",
        "best_accuracy = 0\n",
        "size_samples = 100\n",
        "\n",
        "model = Sequential()\n",
        "history = History()\n",
        "\n",
        "X_val = np.array(norm_train2mat_val) # CQT Features\n",
        "max_shape = (X_val.shape[0]//size_samples)*size_samples\n",
        "X_val = np.array(np.reshape(X_val[0:max_shape,:],(X_val.shape[0]//size_samples,size_samples,X_val.shape[1])))\n",
        "\n",
        "y_val = np.array(labels2mat_val) # Label Target Variables\n",
        "max_shape = (y_val.shape[0]//size_samples)*size_samples\n",
        "y_val = np.reshape(y_val[0:max_shape,:],(y_val.shape[0]//size_samples,size_samples,y_val.shape[1]))\n",
        "\n",
        "print('Loading Training Data')\n",
        "X_train = np.array(norm_train2mat_train)\n",
        "max_shape = (X_train.shape[0]//size_samples)*size_samples\n",
        "X_train = np.reshape(X_train[0:max_shape,:],(X_train.shape[0]//size_samples,size_samples,input_size))\n",
        "\n",
        "y_train = np.array(labels2mat_train)\n",
        "max_shape = (y_train.shape[0]//size_samples)*size_samples\n",
        "y_train = np.array(np.reshape(y_train[0:max_shape,:],(y_train.shape[0]//size_samples,size_samples,number_classes)))\n",
        "\n",
        "# Count the number of files in the training folder\n",
        "num_tr_batches = len(X_train)/2\n",
        "\n",
        "model.add(LSTM(number_units, input_shape=(size_samples, input_size),return_sequences = \"True\",kernel_initializer='glorot_uniform', activation='tanh'))\n",
        "model.add(Dropout(0.2))\n",
        "for i in range(number_layers - 1):\n",
        "    print(\"Adding {} units\".format(str(i + 2) + \"layer of\" + str(number_units)))\n",
        "    model.add(LSTM(number_units,return_sequences = \"True\",kernel_initializer='normal', activation='tanh'))\n",
        "    model.add(Dropout(0.2))\n",
        "\n",
        "print(\" Adding classification layer\")\n",
        "model.add(Dense(number_classes, kernel_initializer='normal', activation='relu'))\n",
        "\n",
        "\n",
        "clr_schedule = CyclicalLearningRate(\n",
        "    initial_learning_rate=1e-4,\n",
        "    maximal_learning_rate=0.1,\n",
        "    step_size=1000,\n",
        "    scale_fn=lambda x: 1/(2.0**(x - 1)),\n",
        "    scale_mode='cycle'\n",
        ")\n",
        "optimizer = keras.optimizers.Adam(learning_rate=clr_schedule, clipnorm=1.0)\n",
        "# optimizer = keras.optimizers.Adam(learning_rate=clr_schedule, clipnorm=1.0)\n",
        "\n",
        "# optimizer = Adam(learning_rate=0.1)\n",
        "# optimizer = Adam(learning_rate=0.1, clipnorm=1.0)\n",
        "'''\n",
        "model.compile(loss='binary_crossentropy', optimizer=optimizer, metrics=['accuracy',\n",
        "                                       tf.keras.metrics.Precision(),\n",
        "                                       tf.keras.metrics.Recall(),\n",
        "                                       custom_metric])\n",
        "'''\n",
        "model.compile(loss='binary_crossentropy', optimizer=optimizer, metrics=['accuracy'])\n",
        "# model.compile(loss='binary_crossentropy', optimizer='adam', metrics=['accuracy'])\n",
        "# model.compile(loss='mean_squared_error', optimizer='adam', metrics=['mean_squared_error'])\n",
        "\n",
        "checkpointer = ModelCheckpoint(filepath= \"/content/checkpoints\" + \"weights.hdf5\", verbose=1, save_best_only=False)\n",
        "early = EarlyStopping(monitor='val_loss', min_delta=0, patience=30, verbose=1, mode='auto')\n",
        "\n",
        "training_log = open(\"/content/checkpoints\" + \"Training.log\", \"w\")\n",
        "\n",
        "save = model.fit(X_train, y_train,epochs = num_epochs,verbose=1,validation_data=(X_val, y_val), callbacks=[checkpointer,early])\n",
        "training_log.write(str(save.history) + \"\\n\")\n",
        "training_log.close()"
      ]
    },
    {
      "cell_type": "code",
      "source": [
        "model.summary()"
      ],
      "metadata": {
        "colab": {
          "base_uri": "https://localhost:8080/"
        },
        "id": "H0SMTReroCyV",
        "outputId": "c1664d00-56af-418c-a016-f99c54d472b1"
      },
      "execution_count": null,
      "outputs": [
        {
          "output_type": "stream",
          "name": "stdout",
          "text": [
            "Model: \"sequential_23\"\n",
            "_________________________________________________________________\n",
            " Layer (type)                Output Shape              Param #   \n",
            "=================================================================\n",
            " lstm_59 (LSTM)              (None, 100, 256)          521216    \n",
            "                                                                 \n",
            " dropout_57 (Dropout)        (None, 100, 256)          0         \n",
            "                                                                 \n",
            " lstm_60 (LSTM)              (None, 100, 256)          525312    \n",
            "                                                                 \n",
            " dropout_58 (Dropout)        (None, 100, 256)          0         \n",
            "                                                                 \n",
            " lstm_61 (LSTM)              (None, 100, 256)          525312    \n",
            "                                                                 \n",
            " dropout_59 (Dropout)        (None, 100, 256)          0         \n",
            "                                                                 \n",
            " dense_20 (Dense)            (None, 100, 88)           22616     \n",
            "                                                                 \n",
            "=================================================================\n",
            "Total params: 1594456 (6.08 MB)\n",
            "Trainable params: 1594456 (6.08 MB)\n",
            "Non-trainable params: 0 (0.00 Byte)\n",
            "_________________________________________________________________\n"
          ]
        }
      ]
    },
    {
      "cell_type": "code",
      "execution_count": null,
      "metadata": {
        "id": "9r69YOpWNReO"
      },
      "outputs": [],
      "source": [
        "from keras.models import Sequential, load_model"
      ]
    },
    {
      "cell_type": "code",
      "execution_count": null,
      "metadata": {
        "id": "Z3q3qYJlZuNp"
      },
      "outputs": [],
      "source": [
        "#model = load_model(\"/content/checkpoints\" + \"chweights.hdf5\")\n",
        "# model = load_model(\"/content/checkpointsweights.hdf5\")\n",
        "model.load_weights('/content/checkpointsweights.hdf5')\n",
        "# model.load_weights('/content/weights.hdf5')\n",
        "model.compile(optimizer='adam', loss='binary_crossentropy', metrics=['accuracy'])\n",
        "TP = 0\n",
        "FP = 0\n",
        "FN = 0"
      ]
    },
    {
      "cell_type": "code",
      "execution_count": null,
      "metadata": {
        "id": "nfYhlo13Qa2T"
      },
      "outputs": [],
      "source": [
        "#X_test = np.array(train2mat_test)"
      ]
    },
    {
      "cell_type": "code",
      "execution_count": null,
      "metadata": {
        "id": "J4XvFikgdNM8"
      },
      "outputs": [],
      "source": [
        "X_test = np.array(norm_train2mat_test)\n",
        "y_test = np.array(labels2mat_test)\n",
        "max_shape = (X_test.shape[0]//size_samples)*size_samples\n",
        "X_test = np.reshape(X_test[0:max_shape,:],(X_test.shape[0]//size_samples,size_samples,input_size))\n",
        "y_test = np.reshape(y_test[0:max_shape,:],(y_test.shape[0]//size_samples,size_samples,number_classes))\n"
      ]
    },
    {
      "cell_type": "code",
      "execution_count": null,
      "metadata": {
        "colab": {
          "base_uri": "https://localhost:8080/"
        },
        "id": "LbV1ZcIuM7vX",
        "outputId": "2f4606d8-475b-42bf-a549-1d7b4bac5bbd"
      },
      "outputs": [
        {
          "output_type": "stream",
          "name": "stdout",
          "text": [
            "15/15 [==============================] - 1s 10ms/step\n",
            "[[0. 0. 0. ... 0. 0. 0.]\n",
            " [0. 0. 0. ... 0. 0. 0.]\n",
            " [0. 0. 0. ... 0. 0. 0.]\n",
            " ...\n",
            " [0. 0. 0. ... 0. 0. 0.]\n",
            " [0. 0. 0. ... 0. 0. 0.]\n",
            " [0. 0. 0. ... 0. 0. 0.]]\n"
          ]
        }
      ],
      "source": [
        "# predictions = model.predict(X_test, batch_size=mini_batch_size, verbose = 1)\n",
        "predictions = model.predict(X_test)\n",
        "\n",
        "# predictions = np.reshape(predictions,(y_test.shape[0]*y_test.shape[1],y_test.shape[2]))\n",
        "# y_test = np.reshape(y_test,(y_test.shape[0]*y_test.shape[1],y_test.shape[2]))\n",
        "# predictions = np.array(predictions).round()\n",
        "# predictions[predictions > 1] = 1\n",
        "# np.save('{}predictions'.format(\"/content/checkpoints\"), predictions)\n",
        "print(predictions)"
      ]
    },
    {
      "cell_type": "code",
      "execution_count": null,
      "metadata": {
        "id": "hwlH4IkRfO9x",
        "colab": {
          "base_uri": "https://localhost:8080/",
          "height": 263
        },
        "outputId": "11893335-3704-4e0b-b7e7-3c197af64906"
      },
      "outputs": [
        {
          "output_type": "stream",
          "name": "stdout",
          "text": [
            "0\n",
            "254509\n",
            "0\n"
          ]
        },
        {
          "output_type": "error",
          "ename": "ZeroDivisionError",
          "evalue": "float division by zero",
          "traceback": [
            "\u001b[0;31m---------------------------------------------------------------------------\u001b[0m",
            "\u001b[0;31mZeroDivisionError\u001b[0m                         Traceback (most recent call last)",
            "\u001b[0;32m<ipython-input-114-f1040b8c370c>\u001b[0m in \u001b[0;36m<cell line: 7>\u001b[0;34m()\u001b[0m\n\u001b[1;32m      7\u001b[0m \u001b[0;32mif\u001b[0m \u001b[0;34m(\u001b[0m\u001b[0mTP\u001b[0m \u001b[0;34m+\u001b[0m \u001b[0mFN\u001b[0m\u001b[0;34m)\u001b[0m \u001b[0;34m>\u001b[0m \u001b[0;36m0\u001b[0m\u001b[0;34m:\u001b[0m\u001b[0;34m\u001b[0m\u001b[0;34m\u001b[0m\u001b[0m\n\u001b[1;32m      8\u001b[0m     \u001b[0mR\u001b[0m \u001b[0;34m=\u001b[0m \u001b[0mTP\u001b[0m\u001b[0;34m/\u001b[0m\u001b[0mfloat\u001b[0m\u001b[0;34m(\u001b[0m\u001b[0mTP\u001b[0m \u001b[0;34m+\u001b[0m \u001b[0mFN\u001b[0m\u001b[0;34m)\u001b[0m\u001b[0;34m\u001b[0m\u001b[0;34m\u001b[0m\u001b[0m\n\u001b[0;32m----> 9\u001b[0;31m     \u001b[0mP\u001b[0m \u001b[0;34m=\u001b[0m \u001b[0mTP\u001b[0m\u001b[0;34m/\u001b[0m\u001b[0mfloat\u001b[0m\u001b[0;34m(\u001b[0m\u001b[0mTP\u001b[0m \u001b[0;34m+\u001b[0m \u001b[0mFP\u001b[0m\u001b[0;34m)\u001b[0m\u001b[0;34m\u001b[0m\u001b[0;34m\u001b[0m\u001b[0m\n\u001b[0m\u001b[1;32m     10\u001b[0m     \u001b[0mA\u001b[0m \u001b[0;34m=\u001b[0m \u001b[0mTP\u001b[0m\u001b[0;34m/\u001b[0m\u001b[0mfloat\u001b[0m\u001b[0;34m(\u001b[0m\u001b[0mTP\u001b[0m \u001b[0;34m+\u001b[0m \u001b[0mFP\u001b[0m \u001b[0;34m+\u001b[0m \u001b[0mFN\u001b[0m\u001b[0;34m)\u001b[0m\u001b[0;34m\u001b[0m\u001b[0;34m\u001b[0m\u001b[0m\n\u001b[1;32m     11\u001b[0m     \u001b[0;32mif\u001b[0m \u001b[0mP\u001b[0m \u001b[0;34m==\u001b[0m \u001b[0;36m0\u001b[0m \u001b[0;32mand\u001b[0m \u001b[0mR\u001b[0m \u001b[0;34m==\u001b[0m \u001b[0;36m0\u001b[0m\u001b[0;34m:\u001b[0m\u001b[0;34m\u001b[0m\u001b[0;34m\u001b[0m\u001b[0m\n",
            "\u001b[0;31mZeroDivisionError\u001b[0m: float division by zero"
          ]
        }
      ],
      "source": [
        "TP = np.count_nonzero(np.logical_and( predictions.round() == 1, y_test == 1 ))\n",
        "FN = np.count_nonzero(np.logical_and( predictions.round() == 0, y_test == 1 ))\n",
        "FP = np.count_nonzero(np.logical_and( predictions.round() == 1, y_test == 0 ))\n",
        "print(TP)\n",
        "print(FN)\n",
        "print(FP)\n",
        "if (TP + FN) > 0:\n",
        "    R = TP/float(TP + FN)\n",
        "    P = TP/float(TP + FP)\n",
        "    A = TP/float(TP + FP + FN)\n",
        "    if P == 0 and R == 0:\n",
        "      F = 0\n",
        "    else:\n",
        "\t    F = 100*2*P*R/(P + R)\n",
        "else:\n",
        "    A = 0\n",
        "    F = 0\n",
        "    R = 0\n",
        "    P = 0"
      ]
    },
    {
      "cell_type": "code",
      "execution_count": null,
      "metadata": {
        "id": "5NS24ujeBcLo",
        "colab": {
          "base_uri": "https://localhost:8080/"
        },
        "outputId": "a86ada9f-ee69-4595-eeff-7da568ef7ab8"
      },
      "outputs": [
        {
          "output_type": "stream",
          "name": "stdout",
          "text": [
            "\n",
            " F-measure: \n",
            "22.584082836325774\n",
            "\n",
            " Custom Accuracy: \n",
            "0.1272945697171632\n",
            "Recall 0.598677864266506\n",
            "Precision 0.13917018129631256\n"
          ]
        }
      ],
      "source": [
        "print('\\n F-measure: ')\n",
        "print(F)\n",
        "print('\\n Custom Accuracy: ')\n",
        "print(A)\n",
        "print(\"Recall\", R)\n",
        "print(\"Precision\", P)"
      ]
    },
    {
      "cell_type": "code",
      "source": [
        "print(TP)\n",
        "print(FN)\n",
        "print(FP)"
      ],
      "metadata": {
        "id": "aztGwdsZeUA9"
      },
      "execution_count": null,
      "outputs": []
    },
    {
      "cell_type": "code",
      "execution_count": null,
      "metadata": {
        "id": "LvRkTNVtCOz2"
      },
      "outputs": [],
      "source": [
        "print(TP)\n",
        "print(len(predictions))"
      ]
    },
    {
      "cell_type": "code",
      "execution_count": null,
      "metadata": {
        "id": "z0Y2INAlp24G"
      },
      "outputs": [],
      "source": [
        "import matplotlib.pyplot as plt\n",
        "plt.plot(save.history['loss'], label='training_loss')\n",
        "plt.plot(save.history['val_loss'], label = 'val_loss')\n",
        "plt.xlabel('Epoch')\n",
        "plt.ylabel('Loss')\n",
        "plt.legend(loc='lower right')"
      ]
    },
    {
      "cell_type": "code",
      "execution_count": null,
      "metadata": {
        "id": "7DtsU5WbqBhZ"
      },
      "outputs": [],
      "source": [
        "plt.plot(save.history['accuracy'], label='accuracy')\n",
        "plt.plot(save.history['val_accuracy'], label = 'val_accuracy')\n",
        "plt.xlabel('Epoch')\n",
        "plt.ylabel('Accuracy')\n",
        "plt.legend(loc='lower right')"
      ]
    },
    {
      "cell_type": "code",
      "execution_count": null,
      "metadata": {
        "id": "P-Y1-kg_Czb7"
      },
      "outputs": [],
      "source": [
        "for a in range(predictions.shape[1]):\n",
        "    for j in range(2,predictions.shape[0]-3):\n",
        "        if predictions[j-1,a] == 1 and predictions[j,a] == 0 and predictions[j+1,a] == 0 and predictions[j+2,a] == 1:\n",
        "            predictions[j,a] = 1\n",
        "            predictions[j+1,a] = 1\n",
        "        if predictions[j-2,a] == 0 and predictions[j-1,a] == 0 and predictions[j,a] == 1 and predictions[j+1,a] == 1 and predictions[j+2,a] == 0 and predictions[j+3,a] == 0:\n",
        "            predictions[j,a] = 0\n",
        "            predictions[j+1,a] = 0\n",
        "        if predictions[j-1,a] == 0 and predictions[j,a] == 1 and predictions[j+1,a] == 0 and predictions[j+2,a] == 0:\n",
        "            predictions[j,a] = 0\n",
        "        if predictions[j-1,a] == 1 and predictions[j,a] == 0 and predictions[j+1,a] == 1 and predictions[j+2,a] == 1:\n",
        "            predictions[j,a] = 1"
      ]
    },
    {
      "cell_type": "code",
      "execution_count": null,
      "metadata": {
        "id": "k-pBDWOjD6i0"
      },
      "outputs": [],
      "source": [
        "TP = np.count_nonzero(np.logical_and( predictions == 1, y_test == 1 ))\n",
        "FN = np.count_nonzero(np.logical_and( predictions == 0, y_test == 1 ))\n",
        "FP = np.count_nonzero(np.logical_and( predictions == 1, y_test == 0 ))\n",
        "if (TP + FN) > 0:\n",
        "    R = TP/float(TP + FN)\n",
        "    P = TP/float(TP + FP)\n",
        "    A = 100*TP/float(TP + FP + FN)\n",
        "    if P == 0 and R == 0:\n",
        "\t    F = 0\n",
        "    else:\n",
        "\t    F = 100*2*P*R/(P + R)\n",
        "else:\n",
        "    A = 0\n",
        "    F = 0\n",
        "    R = 0\n",
        "    P = 0\n",
        "\n",
        "print('\\n F-measure post-processed: ')\n",
        "print(F)\n",
        "print('\\n Accuracy post-processed: ')\n",
        "print(A)\n",
        "print(\"Recall\", R)"
      ]
    },
    {
      "cell_type": "code",
      "execution_count": null,
      "metadata": {
        "id": "TkzSXhSUEp3N"
      },
      "outputs": [],
      "source": []
    },
    {
      "cell_type": "code",
      "source": [],
      "metadata": {
        "id": "BrkMeaKkhOsq"
      },
      "execution_count": null,
      "outputs": []
    },
    {
      "cell_type": "code",
      "source": [],
      "metadata": {
        "id": "SmSrnPdahOrh"
      },
      "execution_count": null,
      "outputs": []
    }
  ],
  "metadata": {
    "accelerator": "GPU",
    "colab": {
      "gpuType": "A100",
      "machine_shape": "hm",
      "provenance": []
    },
    "kernelspec": {
      "display_name": "Python 3",
      "name": "python3"
    },
    "language_info": {
      "name": "python"
    }
  },
  "nbformat": 4,
  "nbformat_minor": 0
}